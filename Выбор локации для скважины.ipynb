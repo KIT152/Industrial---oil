{
 "cells": [
  {
   "cell_type": "markdown",
   "metadata": {},
   "source": [
    "# Выбор локации для скважины"
   ]
  },
  {
   "cell_type": "markdown",
   "metadata": {},
   "source": [
    "Нужно решить, где бурить новую скважину.\n",
    "\n",
    "Вам предоставлены пробы нефти в трёх регионах: в каждом 10 000 месторождений, где измерили качество нефти и объём её запасов. Постройте модель машинного обучения, которая поможет определить регион, где добыча принесёт наибольшую прибыль. Проанализируйте возможную прибыль и риски техникой *Bootstrap.*\n",
    "\n",
    "Шаги для выбора локации:\n",
    "\n",
    "- В избранном регионе ищут месторождения, для каждого определяют значения признаков;\n",
    "- Строят модель и оценивают объём запасов;\n",
    "- Выбирают месторождения с самым высокими оценками значений. Количество месторождений зависит от бюджета компании и стоимости разработки одной скважины;\n",
    "- Прибыль равна суммарной прибыли отобранных месторождений."
   ]
  },
  {
   "cell_type": "markdown",
   "metadata": {},
   "source": [
    " # План работы"
   ]
  },
  {
   "cell_type": "markdown",
   "metadata": {},
   "source": [
    "1) Загрузим и подготовим данные\n",
    "\n",
    "2) Обучим и проверим модель для каждого региона:\n",
    "* Разобьем данные на обучающую и валидационную выборки в соотношении 75:25.\n",
    "* Обучим модель и сделаем предсказания на валидационной выборке.\n",
    "* Сохраним предсказания и правильные ответы на валидационной выборке.\n",
    "* Напечатаем на экране средний запас предсказанного сырья и RMSE модели.\n",
    "* Проанализируем результаты.\n",
    "\n",
    "3) Подготовим к расчёту прибыли:\n",
    "* Все ключевые значения для расчётов сохраним в отдельных переменных.\n",
    "* Рассчитаем достаточный объём сырья для безубыточной разработки новой скважины. Сравним полученный объём сырья со средним запасом в каждом регионе. \n",
    "* Напишем выводы по этапу подготовки расчёта прибыли.\n",
    "\n",
    "3.1) Напишем функцию для расчёта прибыли по выбранным скважинам и предсказаниям модели:\n",
    "* Выберем скважины с максимальными значениями предсказаний. \n",
    "* Просуммируем целевое значение объёма сырья, соответствующее этим предсказаниям.\n",
    "* Рассчитаем прибыль для полученного объёма сырья.\n",
    "\n",
    "5) Посчитаем риски и прибыль для каждого региона:\n",
    "* Применим технику Bootstrap с 1000 выборок, чтобы найти распределение прибыли.\n",
    "* Найдем среднюю прибыль, 95%-й доверительный интервал и риск убытков. Убыток — это отрицательная прибыль.\n",
    "* Напишем выводы: предложите регион для разработки скважин и обоснуйте выбор."
   ]
  },
  {
   "cell_type": "markdown",
   "metadata": {},
   "source": [
    "## Загрузка и подготовка данных"
   ]
  },
  {
   "cell_type": "code",
   "execution_count": 1,
   "metadata": {},
   "outputs": [],
   "source": [
    "import pandas as pd\n",
    "import numpy as np\n",
    "import matplotlib.pyplot as plt\n",
    "\n",
    "from numpy.random import RandomState\n",
    "from scipy import stats\n",
    "from sklearn.metrics import mean_squared_error\n",
    "from sklearn.model_selection import train_test_split\n",
    "from sklearn.linear_model import LinearRegression\n",
    "from sklearn.dummy import DummyClassifier\n",
    "from sklearn.preprocessing import StandardScaler\n",
    "from sklearn.utils import shuffle\n"
   ]
  },
  {
   "cell_type": "code",
   "execution_count": 2,
   "metadata": {},
   "outputs": [],
   "source": [
    "df1 = pd.read_csv('/datasets/geo_data_0.csv')\n",
    "df2 = pd.read_csv('/datasets/geo_data_1.csv')\n",
    "df3 = pd.read_csv('/datasets/geo_data_2.csv')"
   ]
  },
  {
   "cell_type": "code",
   "execution_count": 3,
   "metadata": {},
   "outputs": [
    {
     "data": {
      "text/html": [
       "<div>\n",
       "<style scoped>\n",
       "    .dataframe tbody tr th:only-of-type {\n",
       "        vertical-align: middle;\n",
       "    }\n",
       "\n",
       "    .dataframe tbody tr th {\n",
       "        vertical-align: top;\n",
       "    }\n",
       "\n",
       "    .dataframe thead th {\n",
       "        text-align: right;\n",
       "    }\n",
       "</style>\n",
       "<table border=\"1\" class=\"dataframe\">\n",
       "  <thead>\n",
       "    <tr style=\"text-align: right;\">\n",
       "      <th></th>\n",
       "      <th>id</th>\n",
       "      <th>f0</th>\n",
       "      <th>f1</th>\n",
       "      <th>f2</th>\n",
       "      <th>product</th>\n",
       "    </tr>\n",
       "  </thead>\n",
       "  <tbody>\n",
       "    <tr>\n",
       "      <th>0</th>\n",
       "      <td>txEyH</td>\n",
       "      <td>0.705745</td>\n",
       "      <td>-0.497823</td>\n",
       "      <td>1.221170</td>\n",
       "      <td>105.280062</td>\n",
       "    </tr>\n",
       "    <tr>\n",
       "      <th>1</th>\n",
       "      <td>2acmU</td>\n",
       "      <td>1.334711</td>\n",
       "      <td>-0.340164</td>\n",
       "      <td>4.365080</td>\n",
       "      <td>73.037750</td>\n",
       "    </tr>\n",
       "    <tr>\n",
       "      <th>2</th>\n",
       "      <td>409Wp</td>\n",
       "      <td>1.022732</td>\n",
       "      <td>0.151990</td>\n",
       "      <td>1.419926</td>\n",
       "      <td>85.265647</td>\n",
       "    </tr>\n",
       "    <tr>\n",
       "      <th>3</th>\n",
       "      <td>iJLyR</td>\n",
       "      <td>-0.032172</td>\n",
       "      <td>0.139033</td>\n",
       "      <td>2.978566</td>\n",
       "      <td>168.620776</td>\n",
       "    </tr>\n",
       "    <tr>\n",
       "      <th>4</th>\n",
       "      <td>Xdl7t</td>\n",
       "      <td>1.988431</td>\n",
       "      <td>0.155413</td>\n",
       "      <td>4.751769</td>\n",
       "      <td>154.036647</td>\n",
       "    </tr>\n",
       "  </tbody>\n",
       "</table>\n",
       "</div>"
      ],
      "text/plain": [
       "      id        f0        f1        f2     product\n",
       "0  txEyH  0.705745 -0.497823  1.221170  105.280062\n",
       "1  2acmU  1.334711 -0.340164  4.365080   73.037750\n",
       "2  409Wp  1.022732  0.151990  1.419926   85.265647\n",
       "3  iJLyR -0.032172  0.139033  2.978566  168.620776\n",
       "4  Xdl7t  1.988431  0.155413  4.751769  154.036647"
      ]
     },
     "execution_count": 3,
     "metadata": {},
     "output_type": "execute_result"
    }
   ],
   "source": [
    "df1.head()"
   ]
  },
  {
   "cell_type": "code",
   "execution_count": 4,
   "metadata": {},
   "outputs": [
    {
     "data": {
      "text/html": [
       "<div>\n",
       "<style scoped>\n",
       "    .dataframe tbody tr th:only-of-type {\n",
       "        vertical-align: middle;\n",
       "    }\n",
       "\n",
       "    .dataframe tbody tr th {\n",
       "        vertical-align: top;\n",
       "    }\n",
       "\n",
       "    .dataframe thead th {\n",
       "        text-align: right;\n",
       "    }\n",
       "</style>\n",
       "<table border=\"1\" class=\"dataframe\">\n",
       "  <thead>\n",
       "    <tr style=\"text-align: right;\">\n",
       "      <th></th>\n",
       "      <th>id</th>\n",
       "      <th>f0</th>\n",
       "      <th>f1</th>\n",
       "      <th>f2</th>\n",
       "      <th>product</th>\n",
       "    </tr>\n",
       "  </thead>\n",
       "  <tbody>\n",
       "    <tr>\n",
       "      <th>0</th>\n",
       "      <td>kBEdx</td>\n",
       "      <td>-15.001348</td>\n",
       "      <td>-8.276000</td>\n",
       "      <td>-0.005876</td>\n",
       "      <td>3.179103</td>\n",
       "    </tr>\n",
       "    <tr>\n",
       "      <th>1</th>\n",
       "      <td>62mP7</td>\n",
       "      <td>14.272088</td>\n",
       "      <td>-3.475083</td>\n",
       "      <td>0.999183</td>\n",
       "      <td>26.953261</td>\n",
       "    </tr>\n",
       "    <tr>\n",
       "      <th>2</th>\n",
       "      <td>vyE1P</td>\n",
       "      <td>6.263187</td>\n",
       "      <td>-5.948386</td>\n",
       "      <td>5.001160</td>\n",
       "      <td>134.766305</td>\n",
       "    </tr>\n",
       "    <tr>\n",
       "      <th>3</th>\n",
       "      <td>KcrkZ</td>\n",
       "      <td>-13.081196</td>\n",
       "      <td>-11.506057</td>\n",
       "      <td>4.999415</td>\n",
       "      <td>137.945408</td>\n",
       "    </tr>\n",
       "    <tr>\n",
       "      <th>4</th>\n",
       "      <td>AHL4O</td>\n",
       "      <td>12.702195</td>\n",
       "      <td>-8.147433</td>\n",
       "      <td>5.004363</td>\n",
       "      <td>134.766305</td>\n",
       "    </tr>\n",
       "  </tbody>\n",
       "</table>\n",
       "</div>"
      ],
      "text/plain": [
       "      id         f0         f1        f2     product\n",
       "0  kBEdx -15.001348  -8.276000 -0.005876    3.179103\n",
       "1  62mP7  14.272088  -3.475083  0.999183   26.953261\n",
       "2  vyE1P   6.263187  -5.948386  5.001160  134.766305\n",
       "3  KcrkZ -13.081196 -11.506057  4.999415  137.945408\n",
       "4  AHL4O  12.702195  -8.147433  5.004363  134.766305"
      ]
     },
     "execution_count": 4,
     "metadata": {},
     "output_type": "execute_result"
    }
   ],
   "source": [
    "df2.head()"
   ]
  },
  {
   "cell_type": "code",
   "execution_count": 5,
   "metadata": {},
   "outputs": [
    {
     "data": {
      "text/html": [
       "<div>\n",
       "<style scoped>\n",
       "    .dataframe tbody tr th:only-of-type {\n",
       "        vertical-align: middle;\n",
       "    }\n",
       "\n",
       "    .dataframe tbody tr th {\n",
       "        vertical-align: top;\n",
       "    }\n",
       "\n",
       "    .dataframe thead th {\n",
       "        text-align: right;\n",
       "    }\n",
       "</style>\n",
       "<table border=\"1\" class=\"dataframe\">\n",
       "  <thead>\n",
       "    <tr style=\"text-align: right;\">\n",
       "      <th></th>\n",
       "      <th>id</th>\n",
       "      <th>f0</th>\n",
       "      <th>f1</th>\n",
       "      <th>f2</th>\n",
       "      <th>product</th>\n",
       "    </tr>\n",
       "  </thead>\n",
       "  <tbody>\n",
       "    <tr>\n",
       "      <th>0</th>\n",
       "      <td>fwXo0</td>\n",
       "      <td>-1.146987</td>\n",
       "      <td>0.963328</td>\n",
       "      <td>-0.828965</td>\n",
       "      <td>27.758673</td>\n",
       "    </tr>\n",
       "    <tr>\n",
       "      <th>1</th>\n",
       "      <td>WJtFt</td>\n",
       "      <td>0.262778</td>\n",
       "      <td>0.269839</td>\n",
       "      <td>-2.530187</td>\n",
       "      <td>56.069697</td>\n",
       "    </tr>\n",
       "    <tr>\n",
       "      <th>2</th>\n",
       "      <td>ovLUW</td>\n",
       "      <td>0.194587</td>\n",
       "      <td>0.289035</td>\n",
       "      <td>-5.586433</td>\n",
       "      <td>62.871910</td>\n",
       "    </tr>\n",
       "    <tr>\n",
       "      <th>3</th>\n",
       "      <td>q6cA6</td>\n",
       "      <td>2.236060</td>\n",
       "      <td>-0.553760</td>\n",
       "      <td>0.930038</td>\n",
       "      <td>114.572842</td>\n",
       "    </tr>\n",
       "    <tr>\n",
       "      <th>4</th>\n",
       "      <td>WPMUX</td>\n",
       "      <td>-0.515993</td>\n",
       "      <td>1.716266</td>\n",
       "      <td>5.899011</td>\n",
       "      <td>149.600746</td>\n",
       "    </tr>\n",
       "  </tbody>\n",
       "</table>\n",
       "</div>"
      ],
      "text/plain": [
       "      id        f0        f1        f2     product\n",
       "0  fwXo0 -1.146987  0.963328 -0.828965   27.758673\n",
       "1  WJtFt  0.262778  0.269839 -2.530187   56.069697\n",
       "2  ovLUW  0.194587  0.289035 -5.586433   62.871910\n",
       "3  q6cA6  2.236060 -0.553760  0.930038  114.572842\n",
       "4  WPMUX -0.515993  1.716266  5.899011  149.600746"
      ]
     },
     "execution_count": 5,
     "metadata": {},
     "output_type": "execute_result"
    }
   ],
   "source": [
    "df3.head()"
   ]
  },
  {
   "cell_type": "markdown",
   "metadata": {},
   "source": [
    "По данным видно что они готовы к исследованию. По скольку по условию задачи нам нужно использовать линейную регрессию, масштабировать данные не нужно"
   ]
  },
  {
   "cell_type": "markdown",
   "metadata": {},
   "source": [
    "## Обучение и проверка модели"
   ]
  },
  {
   "cell_type": "markdown",
   "metadata": {},
   "source": [
    "### Обучим и проверим df1"
   ]
  },
  {
   "cell_type": "markdown",
   "metadata": {},
   "source": [
    "#### Разобьем данные на обучающую и валидационную выборки в соотношении 75:25."
   ]
  },
  {
   "cell_type": "code",
   "execution_count": 6,
   "metadata": {},
   "outputs": [],
   "source": [
    "rs = 42\n",
    "ts = 0.25"
   ]
  },
  {
   "cell_type": "code",
   "execution_count": 7,
   "metadata": {},
   "outputs": [
    {
     "name": "stdout",
     "output_type": "stream",
     "text": [
      "(75000, 3)\n",
      "(75000,)\n",
      "(25000, 3)\n",
      "(25000,)\n"
     ]
    }
   ],
   "source": [
    "df1_train, df1_valid = train_test_split(df1, test_size=ts, random_state=rs)\n",
    "\n",
    "df1_features_train = df1_train.drop(['id', 'product'], axis=1)\n",
    "df1_target_train = df1_train['product']\n",
    "df1_features_valid = df1_valid.drop(['id', 'product'], axis=1)\n",
    "df1_target_valid = df1_valid['product']\n",
    "\n",
    "print(df1_features_train.shape)\n",
    "print(df1_target_train.shape)\n",
    "print(df1_features_valid.shape)\n",
    "print(df1_target_valid.shape)"
   ]
  },
  {
   "cell_type": "code",
   "execution_count": 8,
   "metadata": {},
   "outputs": [
    {
     "name": "stdout",
     "output_type": "stream",
     "text": [
      "(75000, 3)\n",
      "(75000,)\n",
      "(25000, 3)\n",
      "(25000,)\n"
     ]
    }
   ],
   "source": [
    "df2_train, df2_valid = train_test_split(df2, test_size=ts, random_state=rs)\n",
    "\n",
    "df2_features_train = df2_train.drop(['id', 'product'], axis=1)\n",
    "df2_target_train = df2_train['product']\n",
    "df2_features_valid = df2_valid.drop(['id', 'product'], axis=1)\n",
    "df2_target_valid = df2_valid['product']\n",
    "\n",
    "print(df2_features_train.shape)\n",
    "print(df2_target_train.shape)\n",
    "print(df2_features_valid.shape)\n",
    "print(df2_target_valid.shape)"
   ]
  },
  {
   "cell_type": "code",
   "execution_count": 9,
   "metadata": {},
   "outputs": [
    {
     "name": "stdout",
     "output_type": "stream",
     "text": [
      "(75000, 3)\n",
      "(75000,)\n",
      "(25000, 3)\n",
      "(25000,)\n"
     ]
    }
   ],
   "source": [
    "df3_train, df3_valid = train_test_split(df3, test_size=ts, random_state=rs)\n",
    "\n",
    "df3_features_train = df3_train.drop(['id', 'product'], axis=1)\n",
    "df3_target_train = df3_train['product']\n",
    "df3_features_valid = df3_valid.drop(['id', 'product'], axis=1)\n",
    "df3_target_valid = df3_valid['product']\n",
    "\n",
    "print(df3_features_train.shape)\n",
    "print(df3_target_train.shape)\n",
    "print(df3_features_valid.shape)\n",
    "print(df3_target_valid.shape)"
   ]
  },
  {
   "cell_type": "markdown",
   "metadata": {},
   "source": [
    "Выборки разделены корректно"
   ]
  },
  {
   "cell_type": "markdown",
   "metadata": {},
   "source": [
    "#### Обучим модель и сделаем предсказания на валидационной выборке"
   ]
  },
  {
   "cell_type": "code",
   "execution_count": 10,
   "metadata": {},
   "outputs": [],
   "source": [
    "def model_linear(features_train, target_train, features_valid, target_valid):\n",
    "\n",
    "    model = LinearRegression().fit(features_train, target_train)\n",
    "    prediction = model.predict(features_valid)\n",
    "    prediction_mean = prediction.mean()\n",
    "    RMSE = mean_squared_error(target_valid, prediction)**0.5\n",
    "    print('Cреднее значение предсказания запасов:', prediction_mean)\n",
    "    print('RMSE:', RMSE)\n",
    "    print('--------------------------------------------------------')"
   ]
  },
  {
   "cell_type": "code",
   "execution_count": 13,
   "metadata": {
    "scrolled": true
   },
   "outputs": [
    {
     "name": "stdout",
     "output_type": "stream",
     "text": [
      "Первое месторождение\n",
      "Cреднее значение предсказания запасов: 92.39879990657768\n",
      "RMSE: 37.75660035026169\n",
      "---------------------------------------------------\n",
      "Второе месторождение\n",
      "Cреднее значение предсказания запасов: 68.71287803913762\n",
      "RMSE: 0.890280100102884\n",
      "---------------------------------------------------\n",
      "Третье месторождение\n",
      "Cреднее значение предсказания запасов: 94.77102387765939\n",
      "RMSE: 40.145872311342174\n",
      "---------------------------------------------------\n"
     ]
    },
    {
     "name": "stderr",
     "output_type": "stream",
     "text": [
      "/tmp/ipykernel_190/2334841345.py:5: SettingWithCopyWarning: \n",
      "A value is trying to be set on a copy of a slice from a DataFrame.\n",
      "Try using .loc[row_indexer,col_indexer] = value instead\n",
      "\n",
      "See the caveats in the documentation: https://pandas.pydata.org/pandas-docs/stable/user_guide/indexing.html#returning-a-view-versus-a-copy\n",
      "  df1_valid['prediction'] = df1_prediction\n",
      "/tmp/ipykernel_190/2334841345.py:11: SettingWithCopyWarning: \n",
      "A value is trying to be set on a copy of a slice from a DataFrame.\n",
      "Try using .loc[row_indexer,col_indexer] = value instead\n",
      "\n",
      "See the caveats in the documentation: https://pandas.pydata.org/pandas-docs/stable/user_guide/indexing.html#returning-a-view-versus-a-copy\n",
      "  df2_valid['prediction'] = df2_prediction\n",
      "/tmp/ipykernel_190/2334841345.py:17: SettingWithCopyWarning: \n",
      "A value is trying to be set on a copy of a slice from a DataFrame.\n",
      "Try using .loc[row_indexer,col_indexer] = value instead\n",
      "\n",
      "See the caveats in the documentation: https://pandas.pydata.org/pandas-docs/stable/user_guide/indexing.html#returning-a-view-versus-a-copy\n",
      "  df3_valid['prediction'] = df3_prediction\n"
     ]
    }
   ],
   "source": [
    "df1_model = LinearRegression().fit(df1_features_train, df1_target_train)\n",
    "df1_prediction = df1_model.predict(df1_features_valid)\n",
    "df1_prediction_mean = df1_prediction.mean()\n",
    "df1_RMSE = mean_squared_error(df1_target_valid, df1_prediction)**0.5\n",
    "df1_valid['prediction'] = df1_prediction\n",
    "\n",
    "df2_model = LinearRegression().fit(df2_features_train, df2_target_train)\n",
    "df2_prediction = df2_model.predict(df2_features_valid)\n",
    "df2_prediction_mean = df2_prediction.mean()\n",
    "df2_RMSE = mean_squared_error(df2_target_valid, df2_prediction)**0.5\n",
    "df2_valid['prediction'] = df2_prediction\n",
    "\n",
    "df3_model = LinearRegression().fit(df3_features_train, df3_target_train)\n",
    "df3_prediction = df3_model.predict(df3_features_valid)\n",
    "df3_prediction_mean = df3_prediction.mean()\n",
    "df3_RMSE = mean_squared_error(df3_target_valid, df3_prediction)**0.5\n",
    "df3_valid['prediction'] = df3_prediction\n",
    "\n",
    "print('Первое месторождение')\n",
    "print('Cреднее значение предсказания запасов:', df1_prediction_mean)\n",
    "print('RMSE:', df1_RMSE)\n",
    "print('---------------------------------------------------')\n",
    "\n",
    "print('Второе месторождение')\n",
    "print('Cреднее значение предсказания запасов:', df2_prediction_mean)\n",
    "print('RMSE:', df2_RMSE)\n",
    "print('---------------------------------------------------')\n",
    "\n",
    "print('Третье месторождение')\n",
    "print('Cреднее значение предсказания запасов:', df3_prediction_mean)\n",
    "print('RMSE:', df3_RMSE)\n",
    "print('---------------------------------------------------')"
   ]
  },
  {
   "cell_type": "markdown",
   "metadata": {},
   "source": [
    "Вывод: Исследование показало, что наиболее больше значение предсказания запасов у месторождения 1 и 3, но покатель RMSE (средняя квадратичная ошибка), у месторождения №2 "
   ]
  },
  {
   "cell_type": "markdown",
   "metadata": {},
   "source": [
    "## Подготовка к расчёту прибыли"
   ]
  },
  {
   "cell_type": "markdown",
   "metadata": {},
   "source": [
    "### Все ключевые значения для расчётов сохраним в отдельных переменных"
   ]
  },
  {
   "cell_type": "code",
   "execution_count": 14,
   "metadata": {},
   "outputs": [],
   "source": [
    "budget = 10000000000/200 #Бюджет на разработку 1 из 200 скважин в регионе\n",
    "income = 450000 #доход с единицы продукта\n",
    "sufficient_volume = budget / income #количество тонн единиц продукта, доступное на бюджет"
   ]
  },
  {
   "cell_type": "markdown",
   "metadata": {},
   "source": [
    "### Рассчитаем достаточный объём сырья для безубыточной разработки новой скважины. Сравним полученный объём сырья со средним запасом в каждом регионе."
   ]
  },
  {
   "cell_type": "code",
   "execution_count": 15,
   "metadata": {},
   "outputs": [
    {
     "name": "stdout",
     "output_type": "stream",
     "text": [
      "Достаточный объём сырья для безубыточной разработки новой скважины: 111.11\n"
     ]
    }
   ],
   "source": [
    "print('Достаточный объём сырья для безубыточной разработки новой скважины:', round(sufficient_volume, 2)) "
   ]
  },
  {
   "cell_type": "markdown",
   "metadata": {},
   "source": [
    "Судя по показателям предсказания среднего объема скважин, особенно сомнтельным кажется месторождение df2"
   ]
  },
  {
   "cell_type": "code",
   "execution_count": 16,
   "metadata": {},
   "outputs": [
    {
     "name": "stdout",
     "output_type": "stream",
     "text": [
      "Cреднее значение предсказания запасов месторождения df1: 92.4\n",
      "Cреднее значение предсказания запасов месторождения df2: 68.71\n",
      "Среднее значение предсказания запасов месторождения df3: 94.77\n"
     ]
    }
   ],
   "source": [
    "print('Cреднее значение предсказания запасов месторождения df1:', round(df1_prediction_mean, 2))\n",
    "print('Cреднее значение предсказания запасов месторождения df2:', round(df2_prediction_mean, 2))\n",
    "print('Среднее значение предсказания запасов месторождения df3:', round(df3_prediction_mean, 2))"
   ]
  },
  {
   "cell_type": "markdown",
   "metadata": {},
   "source": [
    "## Напишем функцию для расчёта прибыли по выбранным скважинам и предсказаниям модели"
   ]
  },
  {
   "cell_type": "code",
   "execution_count": 17,
   "metadata": {},
   "outputs": [],
   "source": [
    "def profit_calc(prediction, target, count):\n",
    "    prediction = prediction.reset_index(drop=True)\n",
    "    target = target.reset_index(drop=True)\n",
    "    prediction_sort = prediction.sort_values(ascending=False)\n",
    "    selected = target[prediction_sort.index][:count]\n",
    "    if sorted(prediction_sort[:200].index) != sorted(selected.index):\n",
    "        print(\"INDEX ERROR\")\n",
    "    return (selected.sum()*income)-10000000000\n",
    "    # Функция для расчёта прибыли"
   ]
  },
  {
   "cell_type": "code",
   "execution_count": 21,
   "metadata": {},
   "outputs": [
    {
     "name": "stdout",
     "output_type": "stream",
     "text": [
      "Прибыль с разработки 200 лучших скважин первого месторождения: 3359141114 рублей\n",
      "Прибыль с разработки 200 лучших скважин второго месторождения: 2415086697 рублей\n",
      "Прибыль с разработки 200 лучших скважин третьего месторождения: 2598571759 рублей\n"
     ]
    }
   ],
   "source": [
    "df1_profit = profit_calc(df1_valid['prediction'], df1_valid['product'], 200)\n",
    "df2_profit = profit_calc(df2_valid['prediction'], df2_valid['product'], 200)\n",
    "df3_profit = profit_calc(df3_valid['prediction'], df3_valid['product'], 200)\n",
    "print('Прибыль с разработки 200 лучших скважин первого месторождения:', round(df1_profit), 'рублей')\n",
    "print('Прибыль с разработки 200 лучших скважин второго месторождения:', round(df2_profit), 'рублей')\n",
    "print('Прибыль с разработки 200 лучших скважин третьего месторождения:', round(df3_profit), 'рублей')"
   ]
  },
  {
   "cell_type": "code",
   "execution_count": 22,
   "metadata": {},
   "outputs": [
    {
     "data": {
      "text/plain": [
       "75721    122.073350\n",
       "80184     48.738540\n",
       "19864    131.338088\n",
       "76699     88.327757\n",
       "92991     36.959266\n",
       "            ...    \n",
       "21271    148.821520\n",
       "34014    123.454003\n",
       "81355     91.945213\n",
       "65720    149.295563\n",
       "11627     57.244039\n",
       "Name: product, Length: 25000, dtype: float64"
      ]
     },
     "execution_count": 22,
     "metadata": {},
     "output_type": "execute_result"
    }
   ],
   "source": [
    "df1_valid['product']"
   ]
  },
  {
   "cell_type": "markdown",
   "metadata": {},
   "source": [
    "Исходя из предсказаний модельной регрессии, наиболее перспективным выгядит первое месторождение"
   ]
  },
  {
   "cell_type": "markdown",
   "metadata": {},
   "source": [
    "## Посчитаем риски и прибыль для каждого региона"
   ]
  },
  {
   "cell_type": "markdown",
   "metadata": {},
   "source": [
    "### Применим технику Bootstrap с 1000 выборок, чтобы найти распределение прибыли."
   ]
  },
  {
   "cell_type": "code",
   "execution_count": 23,
   "metadata": {},
   "outputs": [
    {
     "name": "stdout",
     "output_type": "stream",
     "text": [
      "Первое месторождение\n",
      "Среднее значение 406278783.42441905\n",
      "Верхний квантиль 911737050.7514055\n",
      "Нижний квантиль -117742136.49486831\n",
      "Вероятность убытков 6.7 %\n",
      "\n",
      "\n",
      "Второе месторождение\n",
      "Среднее значение 432624131.8131374\n",
      "Верхний квантиль 815972526.2857513\n",
      "Нижний квантиль 16846174.932430126\n",
      "Вероятность убытков 1.9000000000000001 %\n",
      "\n",
      "\n",
      "Третье месторождение\n",
      "Среднее значение 377362192.4229165\n",
      "Верхний квантиль 901772131.3864455\n",
      "Нижний квантиль -170780417.7057271\n",
      "Вероятность убытков 7.4 %\n",
      "\n"
     ]
    }
   ],
   "source": [
    "def boots (target, prediction):\n",
    "    state = np.random.RandomState(12345)\n",
    "    values = []\n",
    "    counter=0\n",
    "    for i in range(1000):\n",
    "        target_subsample = target.sample(n=500, replace=True, random_state=state)\n",
    "        preds_subsample = prediction[target_subsample.index]\n",
    "        values.append(profit_calc(preds_subsample, target_subsample, 200))\n",
    "        \n",
    "    values = pd.Series(values)\n",
    "    lower = values.quantile(0.025)\n",
    "    higher = values.quantile(0.975)\n",
    "    \n",
    "    print(\"Среднее значение\", (values.mean()))\n",
    "    print(\"Верхний квантиль\", higher)\n",
    "    print(\"Нижний квантиль\", lower)\n",
    "    print('Вероятность убытков',stats.percentileofscore(values, 0),'%')\n",
    "    print()\n",
    "print(\"Первое месторождение\")\n",
    "boots(df1_valid['product'], df1_valid['prediction'])\n",
    "print()\n",
    "print(\"Второе месторождение\")\n",
    "boots(df2_valid['product'], df2_valid['prediction'])\n",
    "print()\n",
    "print(\"Третье месторождение\")\n",
    "boots(df3_valid['product'], df3_valid['prediction'])"
   ]
  },
  {
   "cell_type": "markdown",
   "metadata": {},
   "source": [
    "# Вывод: "
   ]
  },
  {
   "cell_type": "markdown",
   "metadata": {},
   "source": [
    "1) Загрузили и подготовили данные\n",
    "\n",
    "2) Обучили и проверили модель для каждого региона:\n",
    "* Исследование показало, что наиболее больше значение предсказания запасов у месторождения 1 и 3, но покатель RMSE (средняя квадратичная ошибка), у месторождения №2\n",
    "\n",
    "3) Подготовили к расчёту прибыли:\n",
    "* Судя по показателям предсказания среднего объема скважин, особенно сомнтельным кажется месторождение df2\n",
    "\n",
    "\n",
    "4) Написали функцию для расчёта прибыли по выбранным скважинам и предсказаниям модели:\n",
    "* Исходя из предсказаний модельной регрессии, наиболее перспективным выгядит первое месторождение\n",
    "\n",
    "5) Посчитали риски и прибыль для каждого региона:\n",
    "* Наиболее подходящее месторождение - второе, так как имеет наименьшие риски и наибольшую прибыль\n"
   ]
  }
 ],
 "metadata": {
  "ExecuteTimeLog": [
   {
    "duration": 1495,
    "start_time": "2022-12-24T15:10:19.531Z"
   },
   {
    "duration": 454,
    "start_time": "2022-12-24T15:11:07.960Z"
   },
   {
    "duration": 1115,
    "start_time": "2022-12-24T15:13:24.987Z"
   },
   {
    "duration": 19,
    "start_time": "2022-12-24T15:13:35.677Z"
   },
   {
    "duration": 13,
    "start_time": "2022-12-24T15:15:11.140Z"
   },
   {
    "duration": 13,
    "start_time": "2022-12-24T15:15:30.154Z"
   },
   {
    "duration": 139,
    "start_time": "2022-12-24T15:20:43.238Z"
   },
   {
    "duration": 14,
    "start_time": "2022-12-24T15:20:48.722Z"
   },
   {
    "duration": 9,
    "start_time": "2022-12-24T15:21:04.541Z"
   },
   {
    "duration": 12,
    "start_time": "2022-12-24T15:21:24.221Z"
   },
   {
    "duration": 15,
    "start_time": "2022-12-24T15:21:35.511Z"
   },
   {
    "duration": 9,
    "start_time": "2022-12-24T15:21:41.850Z"
   },
   {
    "duration": 12,
    "start_time": "2022-12-24T15:21:47.718Z"
   },
   {
    "duration": 9,
    "start_time": "2022-12-24T15:21:58.221Z"
   },
   {
    "duration": 13,
    "start_time": "2022-12-24T15:22:13.574Z"
   },
   {
    "duration": 15,
    "start_time": "2022-12-24T15:22:25.354Z"
   },
   {
    "duration": 12,
    "start_time": "2022-12-24T15:24:08.692Z"
   },
   {
    "duration": 8,
    "start_time": "2022-12-24T15:24:21.122Z"
   },
   {
    "duration": 9,
    "start_time": "2022-12-24T15:24:38.152Z"
   },
   {
    "duration": 8,
    "start_time": "2022-12-24T16:05:07.520Z"
   },
   {
    "duration": 43,
    "start_time": "2022-12-24T16:05:13.619Z"
   },
   {
    "duration": 5,
    "start_time": "2022-12-24T16:05:14.420Z"
   },
   {
    "duration": 11,
    "start_time": "2022-12-24T16:06:20.054Z"
   },
   {
    "duration": 3,
    "start_time": "2022-12-24T16:06:36.576Z"
   },
   {
    "duration": 5,
    "start_time": "2022-12-24T16:08:18.422Z"
   },
   {
    "duration": 8,
    "start_time": "2022-12-24T16:09:45.336Z"
   },
   {
    "duration": 8,
    "start_time": "2022-12-24T16:10:28.919Z"
   },
   {
    "duration": 4,
    "start_time": "2022-12-24T16:10:52.227Z"
   },
   {
    "duration": 4,
    "start_time": "2022-12-24T16:11:34.396Z"
   },
   {
    "duration": 4,
    "start_time": "2022-12-24T16:11:52.115Z"
   },
   {
    "duration": 3,
    "start_time": "2022-12-24T16:12:08.884Z"
   },
   {
    "duration": 3,
    "start_time": "2022-12-24T16:12:22.878Z"
   },
   {
    "duration": 9,
    "start_time": "2022-12-24T16:15:27.930Z"
   },
   {
    "duration": 83,
    "start_time": "2022-12-24T16:19:18.244Z"
   },
   {
    "duration": 6,
    "start_time": "2022-12-24T16:19:27.761Z"
   },
   {
    "duration": 3,
    "start_time": "2022-12-24T16:19:28.333Z"
   },
   {
    "duration": 3,
    "start_time": "2022-12-24T16:20:16.636Z"
   },
   {
    "duration": 9,
    "start_time": "2022-12-24T16:42:40.325Z"
   },
   {
    "duration": 4,
    "start_time": "2022-12-24T16:43:03.738Z"
   },
   {
    "duration": 348,
    "start_time": "2022-12-24T16:43:04.682Z"
   },
   {
    "duration": 10,
    "start_time": "2022-12-24T16:43:05.032Z"
   },
   {
    "duration": 12,
    "start_time": "2022-12-24T16:43:05.073Z"
   },
   {
    "duration": 10,
    "start_time": "2022-12-24T16:43:05.269Z"
   },
   {
    "duration": 17,
    "start_time": "2022-12-24T16:43:06.235Z"
   },
   {
    "duration": 6,
    "start_time": "2022-12-24T16:43:06.562Z"
   },
   {
    "duration": 4,
    "start_time": "2022-12-24T16:43:06.874Z"
   },
   {
    "duration": 15,
    "start_time": "2022-12-24T16:43:07.777Z"
   },
   {
    "duration": 14,
    "start_time": "2022-12-24T16:46:12.260Z"
   },
   {
    "duration": 21,
    "start_time": "2022-12-24T16:57:04.019Z"
   },
   {
    "duration": 19,
    "start_time": "2022-12-24T17:00:28.482Z"
   },
   {
    "duration": 4,
    "start_time": "2022-12-24T17:00:38.562Z"
   },
   {
    "duration": 318,
    "start_time": "2022-12-24T17:00:38.567Z"
   },
   {
    "duration": 8,
    "start_time": "2022-12-24T17:00:38.887Z"
   },
   {
    "duration": 21,
    "start_time": "2022-12-24T17:00:38.896Z"
   },
   {
    "duration": 26,
    "start_time": "2022-12-24T17:00:38.919Z"
   },
   {
    "duration": 50,
    "start_time": "2022-12-24T17:00:38.947Z"
   },
   {
    "duration": 11,
    "start_time": "2022-12-24T17:00:38.998Z"
   },
   {
    "duration": 24,
    "start_time": "2022-12-24T17:00:39.010Z"
   },
   {
    "duration": 30,
    "start_time": "2022-12-24T17:00:39.036Z"
   },
   {
    "duration": 24,
    "start_time": "2022-12-24T17:03:58.435Z"
   },
   {
    "duration": 14,
    "start_time": "2022-12-24T17:04:54.808Z"
   },
   {
    "duration": 1494,
    "start_time": "2022-12-24T18:26:19.848Z"
   },
   {
    "duration": 1888,
    "start_time": "2022-12-24T18:26:21.344Z"
   },
   {
    "duration": 13,
    "start_time": "2022-12-24T18:26:23.234Z"
   },
   {
    "duration": 10,
    "start_time": "2022-12-24T18:26:23.249Z"
   },
   {
    "duration": 18,
    "start_time": "2022-12-24T18:26:23.261Z"
   },
   {
    "duration": 18,
    "start_time": "2022-12-24T18:26:23.280Z"
   },
   {
    "duration": 6,
    "start_time": "2022-12-24T18:26:23.300Z"
   },
   {
    "duration": 12,
    "start_time": "2022-12-24T18:26:23.308Z"
   },
   {
    "duration": 62,
    "start_time": "2022-12-24T18:26:23.321Z"
   },
   {
    "duration": 257,
    "start_time": "2022-12-24T18:28:01.009Z"
   },
   {
    "duration": 97,
    "start_time": "2022-12-24T18:28:37.481Z"
   },
   {
    "duration": 74,
    "start_time": "2022-12-24T18:32:02.754Z"
   },
   {
    "duration": 82,
    "start_time": "2022-12-24T18:32:09.496Z"
   },
   {
    "duration": 16,
    "start_time": "2022-12-24T18:32:34.931Z"
   },
   {
    "duration": 17,
    "start_time": "2022-12-24T18:36:53.456Z"
   },
   {
    "duration": 24,
    "start_time": "2022-12-24T18:42:45.192Z"
   },
   {
    "duration": 14,
    "start_time": "2022-12-24T18:43:35.266Z"
   },
   {
    "duration": 7,
    "start_time": "2022-12-24T18:43:53.597Z"
   },
   {
    "duration": 76,
    "start_time": "2022-12-24T18:44:01.707Z"
   },
   {
    "duration": 18,
    "start_time": "2022-12-24T18:44:02.603Z"
   },
   {
    "duration": 6,
    "start_time": "2022-12-24T18:44:03.120Z"
   },
   {
    "duration": 4,
    "start_time": "2022-12-24T18:45:15.125Z"
   },
   {
    "duration": 3,
    "start_time": "2022-12-24T18:47:27.373Z"
   },
   {
    "duration": 2,
    "start_time": "2022-12-24T18:48:12.052Z"
   },
   {
    "duration": 11,
    "start_time": "2022-12-24T18:49:03.863Z"
   },
   {
    "duration": 20,
    "start_time": "2022-12-24T18:50:27.412Z"
   },
   {
    "duration": 20,
    "start_time": "2022-12-24T18:56:07.280Z"
   },
   {
    "duration": 10,
    "start_time": "2022-12-24T19:04:06.584Z"
   },
   {
    "duration": 16,
    "start_time": "2022-12-24T19:04:15.439Z"
   },
   {
    "duration": 6,
    "start_time": "2022-12-24T19:04:15.832Z"
   },
   {
    "duration": 9,
    "start_time": "2022-12-24T19:07:41.446Z"
   },
   {
    "duration": 28,
    "start_time": "2022-12-24T19:16:39.852Z"
   },
   {
    "duration": 4,
    "start_time": "2022-12-24T19:37:41.732Z"
   },
   {
    "duration": 361,
    "start_time": "2022-12-24T19:37:41.738Z"
   },
   {
    "duration": 11,
    "start_time": "2022-12-24T19:37:42.101Z"
   },
   {
    "duration": 13,
    "start_time": "2022-12-24T19:37:42.114Z"
   },
   {
    "duration": 11,
    "start_time": "2022-12-24T19:37:42.129Z"
   },
   {
    "duration": 18,
    "start_time": "2022-12-24T19:37:42.141Z"
   },
   {
    "duration": 21,
    "start_time": "2022-12-24T19:37:42.161Z"
   },
   {
    "duration": 10,
    "start_time": "2022-12-24T19:37:42.184Z"
   },
   {
    "duration": 83,
    "start_time": "2022-12-24T19:37:42.196Z"
   },
   {
    "duration": 117,
    "start_time": "2022-12-24T19:37:42.281Z"
   },
   {
    "duration": 32,
    "start_time": "2022-12-24T19:37:42.400Z"
   },
   {
    "duration": 28,
    "start_time": "2022-12-24T19:37:42.434Z"
   },
   {
    "duration": 33,
    "start_time": "2022-12-24T19:37:42.464Z"
   },
   {
    "duration": 184,
    "start_time": "2022-12-24T19:37:42.499Z"
   },
   {
    "duration": 18,
    "start_time": "2022-12-24T19:37:42.685Z"
   },
   {
    "duration": 36,
    "start_time": "2022-12-24T19:37:42.704Z"
   },
   {
    "duration": 2,
    "start_time": "2022-12-24T19:43:58.563Z"
   },
   {
    "duration": 3,
    "start_time": "2022-12-24T19:55:55.115Z"
   },
   {
    "duration": 3,
    "start_time": "2022-12-24T19:56:40.017Z"
   },
   {
    "duration": 3,
    "start_time": "2022-12-24T19:57:04.435Z"
   },
   {
    "duration": 3,
    "start_time": "2022-12-24T20:02:11.087Z"
   },
   {
    "duration": 2,
    "start_time": "2022-12-24T20:02:55.814Z"
   },
   {
    "duration": 3,
    "start_time": "2022-12-24T20:04:47.911Z"
   },
   {
    "duration": 4,
    "start_time": "2022-12-24T20:04:56.319Z"
   },
   {
    "duration": 4,
    "start_time": "2022-12-24T20:04:56.661Z"
   },
   {
    "duration": 4,
    "start_time": "2022-12-24T20:05:55.800Z"
   },
   {
    "duration": 8,
    "start_time": "2022-12-25T13:54:06.480Z"
   },
   {
    "duration": 45,
    "start_time": "2022-12-25T13:56:24.089Z"
   },
   {
    "duration": 1558,
    "start_time": "2022-12-25T13:56:32.961Z"
   },
   {
    "duration": 1427,
    "start_time": "2022-12-25T13:56:34.521Z"
   },
   {
    "duration": 13,
    "start_time": "2022-12-25T13:56:35.950Z"
   },
   {
    "duration": 8,
    "start_time": "2022-12-25T13:56:35.964Z"
   },
   {
    "duration": 9,
    "start_time": "2022-12-25T13:56:35.974Z"
   },
   {
    "duration": 18,
    "start_time": "2022-12-25T13:56:35.985Z"
   },
   {
    "duration": 6,
    "start_time": "2022-12-25T13:56:36.004Z"
   },
   {
    "duration": 8,
    "start_time": "2022-12-25T13:56:36.012Z"
   },
   {
    "duration": 46,
    "start_time": "2022-12-25T13:56:36.022Z"
   },
   {
    "duration": 181,
    "start_time": "2022-12-25T13:56:36.071Z"
   },
   {
    "duration": 7,
    "start_time": "2022-12-25T13:56:36.254Z"
   },
   {
    "duration": 7,
    "start_time": "2022-12-25T13:56:36.262Z"
   },
   {
    "duration": 17,
    "start_time": "2022-12-25T13:56:36.271Z"
   },
   {
    "duration": 108,
    "start_time": "2022-12-25T13:56:36.352Z"
   },
   {
    "duration": 8,
    "start_time": "2022-12-25T13:56:36.461Z"
   },
   {
    "duration": 21,
    "start_time": "2022-12-25T13:56:36.470Z"
   },
   {
    "duration": 4,
    "start_time": "2022-12-25T13:56:36.556Z"
   },
   {
    "duration": 104,
    "start_time": "2022-12-25T13:56:36.561Z"
   },
   {
    "duration": 12,
    "start_time": "2022-12-25T13:56:36.667Z"
   },
   {
    "duration": 11,
    "start_time": "2022-12-25T13:56:36.680Z"
   },
   {
    "duration": 68,
    "start_time": "2022-12-25T13:56:36.692Z"
   },
   {
    "duration": 4,
    "start_time": "2022-12-25T13:57:17.402Z"
   },
   {
    "duration": 8,
    "start_time": "2022-12-25T14:11:29.239Z"
   },
   {
    "duration": 68,
    "start_time": "2022-12-25T14:11:37.141Z"
   },
   {
    "duration": 3,
    "start_time": "2022-12-25T14:11:40.066Z"
   },
   {
    "duration": 3,
    "start_time": "2022-12-25T14:11:41.682Z"
   },
   {
    "duration": 7,
    "start_time": "2022-12-25T14:11:42.977Z"
   },
   {
    "duration": 13,
    "start_time": "2022-12-25T14:11:46.904Z"
   },
   {
    "duration": 8,
    "start_time": "2022-12-25T14:12:22.307Z"
   },
   {
    "duration": 19,
    "start_time": "2022-12-25T14:13:56.040Z"
   },
   {
    "duration": 11,
    "start_time": "2022-12-25T14:15:41.072Z"
   },
   {
    "duration": 12,
    "start_time": "2022-12-25T14:15:46.068Z"
   },
   {
    "duration": 3,
    "start_time": "2022-12-25T14:16:09.674Z"
   },
   {
    "duration": 12,
    "start_time": "2022-12-25T14:16:10.827Z"
   },
   {
    "duration": 7,
    "start_time": "2022-12-25T14:16:11.478Z"
   },
   {
    "duration": 12,
    "start_time": "2022-12-25T14:16:19.326Z"
   },
   {
    "duration": 3,
    "start_time": "2022-12-25T14:16:47.450Z"
   },
   {
    "duration": 11,
    "start_time": "2022-12-25T14:16:48.210Z"
   },
   {
    "duration": 9,
    "start_time": "2022-12-25T14:16:49.240Z"
   },
   {
    "duration": 10,
    "start_time": "2022-12-25T14:18:36.621Z"
   },
   {
    "duration": 3,
    "start_time": "2022-12-25T14:19:53.461Z"
   },
   {
    "duration": 12,
    "start_time": "2022-12-25T14:19:54.616Z"
   },
   {
    "duration": 8,
    "start_time": "2022-12-25T14:19:55.358Z"
   },
   {
    "duration": 4,
    "start_time": "2022-12-25T14:21:06.239Z"
   },
   {
    "duration": 10,
    "start_time": "2022-12-25T14:21:06.749Z"
   },
   {
    "duration": 7,
    "start_time": "2022-12-25T14:21:14.438Z"
   },
   {
    "duration": 7,
    "start_time": "2022-12-25T14:21:18.790Z"
   },
   {
    "duration": 3,
    "start_time": "2022-12-25T14:22:55.891Z"
   },
   {
    "duration": 3,
    "start_time": "2022-12-25T14:23:16.306Z"
   },
   {
    "duration": 4,
    "start_time": "2022-12-25T14:24:43.908Z"
   },
   {
    "duration": 16,
    "start_time": "2022-12-25T14:25:50.235Z"
   },
   {
    "duration": 4,
    "start_time": "2022-12-25T14:26:37.261Z"
   },
   {
    "duration": 15,
    "start_time": "2022-12-25T14:28:49.673Z"
   },
   {
    "duration": 4,
    "start_time": "2022-12-25T14:29:01.145Z"
   },
   {
    "duration": 12,
    "start_time": "2022-12-25T14:29:02.272Z"
   },
   {
    "duration": 22,
    "start_time": "2022-12-25T14:29:02.802Z"
   },
   {
    "duration": 1408,
    "start_time": "2022-12-25T20:09:59.370Z"
   },
   {
    "duration": 858,
    "start_time": "2022-12-25T20:10:00.780Z"
   },
   {
    "duration": 14,
    "start_time": "2022-12-25T20:10:01.640Z"
   },
   {
    "duration": 18,
    "start_time": "2022-12-25T20:10:01.656Z"
   },
   {
    "duration": 17,
    "start_time": "2022-12-25T20:10:01.676Z"
   },
   {
    "duration": 18,
    "start_time": "2022-12-25T20:10:01.695Z"
   },
   {
    "duration": 7,
    "start_time": "2022-12-25T20:10:01.714Z"
   },
   {
    "duration": 6,
    "start_time": "2022-12-25T20:10:01.723Z"
   },
   {
    "duration": 69,
    "start_time": "2022-12-25T20:10:01.731Z"
   },
   {
    "duration": 202,
    "start_time": "2022-12-25T20:10:01.807Z"
   },
   {
    "duration": 6,
    "start_time": "2022-12-25T20:10:02.011Z"
   },
   {
    "duration": 35,
    "start_time": "2022-12-25T20:10:02.018Z"
   },
   {
    "duration": 43,
    "start_time": "2022-12-25T20:10:02.054Z"
   },
   {
    "duration": 206,
    "start_time": "2022-12-25T20:10:02.100Z"
   },
   {
    "duration": 9,
    "start_time": "2022-12-25T20:10:02.307Z"
   },
   {
    "duration": 20,
    "start_time": "2022-12-25T20:10:02.318Z"
   },
   {
    "duration": 3,
    "start_time": "2022-12-25T20:10:02.399Z"
   },
   {
    "duration": 102,
    "start_time": "2022-12-25T20:10:02.404Z"
   },
   {
    "duration": 6,
    "start_time": "2022-12-25T20:10:02.508Z"
   },
   {
    "duration": 5,
    "start_time": "2022-12-25T20:10:02.516Z"
   },
   {
    "duration": 15,
    "start_time": "2022-12-25T20:10:02.522Z"
   },
   {
    "duration": 107,
    "start_time": "2022-12-25T20:10:02.539Z"
   },
   {
    "duration": 8,
    "start_time": "2022-12-25T20:13:57.549Z"
   },
   {
    "duration": 13,
    "start_time": "2022-12-25T20:14:10.542Z"
   },
   {
    "duration": 3,
    "start_time": "2022-12-25T20:14:11.099Z"
   },
   {
    "duration": 5,
    "start_time": "2022-12-25T20:14:22.423Z"
   },
   {
    "duration": 381,
    "start_time": "2022-12-25T20:14:22.429Z"
   },
   {
    "duration": 9,
    "start_time": "2022-12-25T20:14:22.813Z"
   },
   {
    "duration": 11,
    "start_time": "2022-12-25T20:14:22.823Z"
   },
   {
    "duration": 14,
    "start_time": "2022-12-25T20:14:22.836Z"
   },
   {
    "duration": 18,
    "start_time": "2022-12-25T20:14:22.851Z"
   },
   {
    "duration": 7,
    "start_time": "2022-12-25T20:14:22.870Z"
   },
   {
    "duration": 20,
    "start_time": "2022-12-25T20:14:22.879Z"
   },
   {
    "duration": 19,
    "start_time": "2022-12-25T20:14:22.901Z"
   },
   {
    "duration": 184,
    "start_time": "2022-12-25T20:14:22.922Z"
   },
   {
    "duration": 7,
    "start_time": "2022-12-25T20:14:23.108Z"
   },
   {
    "duration": 6,
    "start_time": "2022-12-25T20:14:23.116Z"
   },
   {
    "duration": 20,
    "start_time": "2022-12-25T20:14:23.124Z"
   },
   {
    "duration": 158,
    "start_time": "2022-12-25T20:14:23.147Z"
   },
   {
    "duration": 7,
    "start_time": "2022-12-25T20:14:23.306Z"
   },
   {
    "duration": 83,
    "start_time": "2022-12-25T20:14:23.315Z"
   },
   {
    "duration": 4,
    "start_time": "2022-12-25T20:14:23.401Z"
   },
   {
    "duration": 95,
    "start_time": "2022-12-25T20:14:23.408Z"
   },
   {
    "duration": 5,
    "start_time": "2022-12-25T20:14:23.505Z"
   },
   {
    "duration": 6,
    "start_time": "2022-12-25T20:14:23.511Z"
   },
   {
    "duration": 16,
    "start_time": "2022-12-25T20:14:23.518Z"
   },
   {
    "duration": 0,
    "start_time": "2022-12-25T20:14:23.536Z"
   },
   {
    "duration": 0,
    "start_time": "2022-12-25T20:14:23.537Z"
   },
   {
    "duration": 9,
    "start_time": "2022-12-25T20:18:16.920Z"
   },
   {
    "duration": 62,
    "start_time": "2022-12-25T20:19:09.442Z"
   },
   {
    "duration": 6,
    "start_time": "2022-12-25T20:19:22.486Z"
   },
   {
    "duration": 11,
    "start_time": "2022-12-25T20:19:41.822Z"
   },
   {
    "duration": 4,
    "start_time": "2022-12-25T20:20:22.601Z"
   },
   {
    "duration": 11,
    "start_time": "2022-12-25T20:20:23.410Z"
   },
   {
    "duration": 3,
    "start_time": "2022-12-25T20:20:32.741Z"
   },
   {
    "duration": 11,
    "start_time": "2022-12-25T20:20:33.813Z"
   },
   {
    "duration": 3,
    "start_time": "2022-12-25T20:21:07.516Z"
   },
   {
    "duration": 12,
    "start_time": "2022-12-25T20:21:08.649Z"
   },
   {
    "duration": 3,
    "start_time": "2022-12-25T20:22:28.611Z"
   },
   {
    "duration": 5,
    "start_time": "2022-12-25T20:22:28.970Z"
   },
   {
    "duration": 3,
    "start_time": "2022-12-25T20:22:29.367Z"
   },
   {
    "duration": 11,
    "start_time": "2022-12-25T20:22:30.131Z"
   },
   {
    "duration": 3,
    "start_time": "2022-12-25T20:23:05.289Z"
   },
   {
    "duration": 9,
    "start_time": "2022-12-25T20:23:07.273Z"
   },
   {
    "duration": 11,
    "start_time": "2022-12-25T20:23:13.611Z"
   },
   {
    "duration": 10,
    "start_time": "2022-12-25T20:23:28.911Z"
   },
   {
    "duration": 3,
    "start_time": "2022-12-25T20:24:29.856Z"
   },
   {
    "duration": 11,
    "start_time": "2022-12-25T20:24:30.409Z"
   },
   {
    "duration": 3,
    "start_time": "2022-12-25T20:24:54.460Z"
   },
   {
    "duration": 17,
    "start_time": "2022-12-25T20:24:55.191Z"
   },
   {
    "duration": 3,
    "start_time": "2022-12-25T20:25:00.738Z"
   },
   {
    "duration": 8,
    "start_time": "2022-12-25T20:25:01.369Z"
   },
   {
    "duration": 3,
    "start_time": "2022-12-25T20:26:10.140Z"
   },
   {
    "duration": 7,
    "start_time": "2022-12-25T20:26:10.659Z"
   },
   {
    "duration": 8,
    "start_time": "2022-12-25T20:28:07.478Z"
   },
   {
    "duration": 3,
    "start_time": "2022-12-25T20:28:11.223Z"
   },
   {
    "duration": 23,
    "start_time": "2022-12-25T20:28:11.951Z"
   },
   {
    "duration": 3,
    "start_time": "2022-12-25T20:28:52.539Z"
   },
   {
    "duration": 15,
    "start_time": "2022-12-25T20:28:53.365Z"
   },
   {
    "duration": 3,
    "start_time": "2022-12-25T20:30:07.219Z"
   },
   {
    "duration": 14,
    "start_time": "2022-12-25T20:30:07.925Z"
   },
   {
    "duration": 4,
    "start_time": "2022-12-25T20:30:16.506Z"
   },
   {
    "duration": 19,
    "start_time": "2022-12-25T20:30:17.239Z"
   },
   {
    "duration": 3,
    "start_time": "2022-12-25T20:30:48.055Z"
   },
   {
    "duration": 19,
    "start_time": "2022-12-25T20:30:48.570Z"
   },
   {
    "duration": 4,
    "start_time": "2022-12-25T20:34:35.690Z"
   },
   {
    "duration": 699,
    "start_time": "2022-12-25T20:34:36.709Z"
   },
   {
    "duration": 3,
    "start_time": "2022-12-25T20:35:31.479Z"
   },
   {
    "duration": 483,
    "start_time": "2022-12-25T20:35:33.309Z"
   },
   {
    "duration": 44,
    "start_time": "2022-12-25T20:35:50.920Z"
   },
   {
    "duration": 55,
    "start_time": "2022-12-25T20:36:00.771Z"
   },
   {
    "duration": 5,
    "start_time": "2022-12-25T20:36:09.034Z"
   },
   {
    "duration": 24,
    "start_time": "2022-12-25T20:36:10.193Z"
   },
   {
    "duration": 3,
    "start_time": "2022-12-25T20:36:31.739Z"
   },
   {
    "duration": 7,
    "start_time": "2022-12-25T20:36:32.406Z"
   },
   {
    "duration": 8,
    "start_time": "2022-12-25T20:36:52.443Z"
   },
   {
    "duration": 5,
    "start_time": "2022-12-25T20:36:52.895Z"
   },
   {
    "duration": 3,
    "start_time": "2022-12-25T20:36:53.351Z"
   },
   {
    "duration": 11,
    "start_time": "2022-12-25T20:36:54.152Z"
   },
   {
    "duration": 4,
    "start_time": "2022-12-25T20:42:03.482Z"
   },
   {
    "duration": 3,
    "start_time": "2022-12-25T20:42:08.345Z"
   },
   {
    "duration": 12,
    "start_time": "2022-12-25T20:42:09.328Z"
   },
   {
    "duration": 12,
    "start_time": "2022-12-25T20:42:28.405Z"
   },
   {
    "duration": 3,
    "start_time": "2022-12-25T20:42:50.566Z"
   },
   {
    "duration": 6,
    "start_time": "2022-12-25T20:42:51.319Z"
   },
   {
    "duration": 5,
    "start_time": "2022-12-25T20:44:38.879Z"
   },
   {
    "duration": 378,
    "start_time": "2022-12-25T20:44:38.886Z"
   },
   {
    "duration": 9,
    "start_time": "2022-12-25T20:44:39.265Z"
   },
   {
    "duration": 13,
    "start_time": "2022-12-25T20:44:39.275Z"
   },
   {
    "duration": 15,
    "start_time": "2022-12-25T20:44:39.289Z"
   },
   {
    "duration": 18,
    "start_time": "2022-12-25T20:44:39.305Z"
   },
   {
    "duration": 6,
    "start_time": "2022-12-25T20:44:39.324Z"
   },
   {
    "duration": 5,
    "start_time": "2022-12-25T20:44:39.331Z"
   },
   {
    "duration": 66,
    "start_time": "2022-12-25T20:44:39.338Z"
   },
   {
    "duration": 103,
    "start_time": "2022-12-25T20:44:39.405Z"
   },
   {
    "duration": 5,
    "start_time": "2022-12-25T20:44:39.509Z"
   },
   {
    "duration": 22,
    "start_time": "2022-12-25T20:44:39.516Z"
   },
   {
    "duration": 59,
    "start_time": "2022-12-25T20:44:39.539Z"
   },
   {
    "duration": 116,
    "start_time": "2022-12-25T20:44:39.601Z"
   },
   {
    "duration": 8,
    "start_time": "2022-12-25T20:44:39.718Z"
   },
   {
    "duration": 78,
    "start_time": "2022-12-25T20:44:39.727Z"
   },
   {
    "duration": 90,
    "start_time": "2022-12-25T20:44:39.808Z"
   },
   {
    "duration": 6,
    "start_time": "2022-12-25T20:44:39.900Z"
   },
   {
    "duration": 5,
    "start_time": "2022-12-25T20:44:39.908Z"
   },
   {
    "duration": 3,
    "start_time": "2022-12-25T20:44:39.915Z"
   },
   {
    "duration": 87,
    "start_time": "2022-12-25T20:44:39.919Z"
   },
   {
    "duration": 200,
    "start_time": "2022-12-25T20:44:40.008Z"
   },
   {
    "duration": 4,
    "start_time": "2022-12-25T20:44:40.210Z"
   },
   {
    "duration": 12,
    "start_time": "2022-12-25T20:44:40.218Z"
   },
   {
    "duration": 2,
    "start_time": "2022-12-25T20:47:37.060Z"
   },
   {
    "duration": 7,
    "start_time": "2022-12-25T20:47:37.831Z"
   },
   {
    "duration": 11,
    "start_time": "2022-12-25T20:48:04.256Z"
   },
   {
    "duration": 12,
    "start_time": "2022-12-25T20:48:21.300Z"
   },
   {
    "duration": 7,
    "start_time": "2022-12-25T20:48:27.458Z"
   },
   {
    "duration": 3,
    "start_time": "2022-12-25T20:48:46.718Z"
   },
   {
    "duration": 8,
    "start_time": "2022-12-25T20:48:47.360Z"
   },
   {
    "duration": 3,
    "start_time": "2022-12-25T20:49:22.421Z"
   },
   {
    "duration": 7,
    "start_time": "2022-12-25T20:49:23.020Z"
   },
   {
    "duration": 3,
    "start_time": "2022-12-25T20:50:54.206Z"
   },
   {
    "duration": 7,
    "start_time": "2022-12-25T20:50:54.831Z"
   },
   {
    "duration": 3,
    "start_time": "2022-12-25T20:51:00.878Z"
   },
   {
    "duration": 6,
    "start_time": "2022-12-25T20:51:01.563Z"
   },
   {
    "duration": 3,
    "start_time": "2022-12-25T20:51:23.378Z"
   },
   {
    "duration": 6,
    "start_time": "2022-12-25T20:51:24.198Z"
   },
   {
    "duration": 3,
    "start_time": "2022-12-25T20:51:31.373Z"
   },
   {
    "duration": 3,
    "start_time": "2022-12-25T20:51:31.904Z"
   },
   {
    "duration": 4,
    "start_time": "2022-12-25T20:51:35.559Z"
   },
   {
    "duration": 12,
    "start_time": "2022-12-25T20:51:37.903Z"
   },
   {
    "duration": 5,
    "start_time": "2022-12-25T20:51:38.437Z"
   },
   {
    "duration": 3,
    "start_time": "2022-12-25T20:51:38.782Z"
   },
   {
    "duration": 6,
    "start_time": "2022-12-25T20:51:39.635Z"
   },
   {
    "duration": 3,
    "start_time": "2022-12-25T20:51:46.109Z"
   },
   {
    "duration": 6,
    "start_time": "2022-12-25T20:51:46.762Z"
   },
   {
    "duration": 4,
    "start_time": "2022-12-25T20:52:55.931Z"
   },
   {
    "duration": 7,
    "start_time": "2022-12-25T20:53:58.930Z"
   },
   {
    "duration": 10,
    "start_time": "2022-12-25T20:54:13.449Z"
   },
   {
    "duration": 9,
    "start_time": "2022-12-25T20:55:12.519Z"
   },
   {
    "duration": 4,
    "start_time": "2022-12-25T20:55:17.768Z"
   },
   {
    "duration": 7,
    "start_time": "2022-12-25T20:55:18.336Z"
   },
   {
    "duration": 12,
    "start_time": "2022-12-25T20:55:38.290Z"
   },
   {
    "duration": 7,
    "start_time": "2022-12-25T20:55:52.980Z"
   },
   {
    "duration": 19,
    "start_time": "2022-12-25T20:56:05.010Z"
   },
   {
    "duration": 13,
    "start_time": "2022-12-25T20:56:24.318Z"
   },
   {
    "duration": 55,
    "start_time": "2022-12-25T20:57:04.564Z"
   },
   {
    "duration": 16,
    "start_time": "2022-12-25T20:57:09.553Z"
   },
   {
    "duration": 17,
    "start_time": "2022-12-25T20:57:32.279Z"
   },
   {
    "duration": 4,
    "start_time": "2022-12-25T21:03:12.884Z"
   },
   {
    "duration": 3,
    "start_time": "2022-12-25T21:03:21.413Z"
   },
   {
    "duration": 2,
    "start_time": "2022-12-25T21:05:37.019Z"
   },
   {
    "duration": 3,
    "start_time": "2022-12-25T21:05:37.253Z"
   },
   {
    "duration": 3,
    "start_time": "2022-12-25T21:05:37.983Z"
   },
   {
    "duration": 13,
    "start_time": "2022-12-25T21:07:08.757Z"
   },
   {
    "duration": 5,
    "start_time": "2022-12-25T21:08:09.198Z"
   },
   {
    "duration": 3,
    "start_time": "2022-12-25T21:08:10.411Z"
   },
   {
    "duration": 7,
    "start_time": "2022-12-25T21:08:11.430Z"
   },
   {
    "duration": 5,
    "start_time": "2022-12-25T21:09:25.974Z"
   },
   {
    "duration": 365,
    "start_time": "2022-12-25T21:09:25.980Z"
   },
   {
    "duration": 8,
    "start_time": "2022-12-25T21:09:26.347Z"
   },
   {
    "duration": 11,
    "start_time": "2022-12-25T21:09:26.356Z"
   },
   {
    "duration": 16,
    "start_time": "2022-12-25T21:09:26.369Z"
   },
   {
    "duration": 23,
    "start_time": "2022-12-25T21:09:26.386Z"
   },
   {
    "duration": 5,
    "start_time": "2022-12-25T21:09:26.411Z"
   },
   {
    "duration": 7,
    "start_time": "2022-12-25T21:09:26.418Z"
   },
   {
    "duration": 71,
    "start_time": "2022-12-25T21:09:26.426Z"
   },
   {
    "duration": 105,
    "start_time": "2022-12-25T21:09:26.501Z"
   },
   {
    "duration": 6,
    "start_time": "2022-12-25T21:09:26.608Z"
   },
   {
    "duration": 8,
    "start_time": "2022-12-25T21:09:26.616Z"
   },
   {
    "duration": 77,
    "start_time": "2022-12-25T21:09:26.626Z"
   },
   {
    "duration": 105,
    "start_time": "2022-12-25T21:09:26.705Z"
   },
   {
    "duration": 5,
    "start_time": "2022-12-25T21:09:26.812Z"
   },
   {
    "duration": 79,
    "start_time": "2022-12-25T21:09:26.819Z"
   },
   {
    "duration": 3,
    "start_time": "2022-12-25T21:09:26.901Z"
   },
   {
    "duration": 99,
    "start_time": "2022-12-25T21:09:26.906Z"
   },
   {
    "duration": 21,
    "start_time": "2022-12-25T21:09:27.007Z"
   },
   {
    "duration": 8,
    "start_time": "2022-12-25T21:09:27.030Z"
   },
   {
    "duration": 5,
    "start_time": "2022-12-25T21:09:27.039Z"
   },
   {
    "duration": 9,
    "start_time": "2022-12-25T21:09:27.045Z"
   },
   {
    "duration": 16,
    "start_time": "2022-12-25T21:09:27.055Z"
   },
   {
    "duration": 61,
    "start_time": "2022-12-25T21:26:19.147Z"
   },
   {
    "duration": 11,
    "start_time": "2022-12-25T21:26:25.601Z"
   },
   {
    "duration": 11,
    "start_time": "2022-12-25T21:26:48.203Z"
   },
   {
    "duration": 13,
    "start_time": "2022-12-25T21:27:10.623Z"
   },
   {
    "duration": 12,
    "start_time": "2022-12-25T21:28:25.400Z"
   },
   {
    "duration": 3,
    "start_time": "2022-12-25T21:33:03.378Z"
   },
   {
    "duration": 10,
    "start_time": "2022-12-25T21:33:03.918Z"
   },
   {
    "duration": 14,
    "start_time": "2022-12-25T21:33:33.239Z"
   },
   {
    "duration": 3,
    "start_time": "2022-12-25T21:33:54.419Z"
   },
   {
    "duration": 12,
    "start_time": "2022-12-25T21:33:54.919Z"
   },
   {
    "duration": 14,
    "start_time": "2022-12-25T21:34:14.878Z"
   },
   {
    "duration": 3,
    "start_time": "2022-12-25T21:34:28.599Z"
   },
   {
    "duration": 13,
    "start_time": "2022-12-25T21:34:29.853Z"
   },
   {
    "duration": 3,
    "start_time": "2022-12-25T21:37:01.712Z"
   },
   {
    "duration": 12,
    "start_time": "2022-12-25T21:37:02.145Z"
   },
   {
    "duration": 3,
    "start_time": "2022-12-25T21:37:17.926Z"
   },
   {
    "duration": 13,
    "start_time": "2022-12-25T21:37:18.678Z"
   },
   {
    "duration": 7,
    "start_time": "2022-12-25T21:39:26.282Z"
   },
   {
    "duration": 4,
    "start_time": "2022-12-25T21:39:26.898Z"
   },
   {
    "duration": 14,
    "start_time": "2022-12-25T21:39:27.417Z"
   },
   {
    "duration": 5,
    "start_time": "2022-12-25T21:39:36.606Z"
   },
   {
    "duration": 3,
    "start_time": "2022-12-25T21:39:36.831Z"
   },
   {
    "duration": 6,
    "start_time": "2022-12-25T21:39:37.208Z"
   },
   {
    "duration": 12,
    "start_time": "2022-12-25T21:39:53.401Z"
   },
   {
    "duration": 16,
    "start_time": "2022-12-25T21:40:31.965Z"
   },
   {
    "duration": 5,
    "start_time": "2022-12-25T21:40:32.353Z"
   },
   {
    "duration": 9,
    "start_time": "2022-12-25T21:40:32.739Z"
   },
   {
    "duration": 4,
    "start_time": "2022-12-25T22:02:57.962Z"
   },
   {
    "duration": 362,
    "start_time": "2022-12-25T22:02:57.968Z"
   },
   {
    "duration": 9,
    "start_time": "2022-12-25T22:02:58.331Z"
   },
   {
    "duration": 10,
    "start_time": "2022-12-25T22:02:58.342Z"
   },
   {
    "duration": 19,
    "start_time": "2022-12-25T22:02:58.354Z"
   },
   {
    "duration": 28,
    "start_time": "2022-12-25T22:02:58.374Z"
   },
   {
    "duration": 5,
    "start_time": "2022-12-25T22:02:58.404Z"
   },
   {
    "duration": 11,
    "start_time": "2022-12-25T22:02:58.411Z"
   },
   {
    "duration": 71,
    "start_time": "2022-12-25T22:02:58.425Z"
   },
   {
    "duration": 104,
    "start_time": "2022-12-25T22:02:58.501Z"
   },
   {
    "duration": 5,
    "start_time": "2022-12-25T22:02:58.607Z"
   },
   {
    "duration": 16,
    "start_time": "2022-12-25T22:02:58.613Z"
   },
   {
    "duration": 22,
    "start_time": "2022-12-25T22:02:58.630Z"
   },
   {
    "duration": 149,
    "start_time": "2022-12-25T22:02:58.653Z"
   },
   {
    "duration": 7,
    "start_time": "2022-12-25T22:02:58.803Z"
   },
   {
    "duration": 85,
    "start_time": "2022-12-25T22:02:58.812Z"
   },
   {
    "duration": 4,
    "start_time": "2022-12-25T22:02:58.899Z"
   },
   {
    "duration": 100,
    "start_time": "2022-12-25T22:02:58.904Z"
   },
   {
    "duration": 6,
    "start_time": "2022-12-25T22:02:59.006Z"
   },
   {
    "duration": 12,
    "start_time": "2022-12-25T22:02:59.014Z"
   },
   {
    "duration": 22,
    "start_time": "2022-12-25T22:02:59.028Z"
   },
   {
    "duration": 3,
    "start_time": "2022-12-25T22:02:59.051Z"
   },
   {
    "duration": 20,
    "start_time": "2022-12-25T22:02:59.055Z"
   },
   {
    "duration": 12,
    "start_time": "2022-12-25T22:02:59.078Z"
   },
   {
    "duration": 47,
    "start_time": "2022-12-25T22:06:48.221Z"
   },
   {
    "duration": 5394,
    "start_time": "2022-12-25T22:06:55.610Z"
   },
   {
    "duration": 13761,
    "start_time": "2022-12-25T22:10:04.837Z"
   },
   {
    "duration": 13889,
    "start_time": "2022-12-25T22:10:42.970Z"
   },
   {
    "duration": 48,
    "start_time": "2022-12-25T22:18:03.523Z"
   },
   {
    "duration": 1276,
    "start_time": "2022-12-25T22:18:18.023Z"
   },
   {
    "duration": 721,
    "start_time": "2022-12-25T22:18:19.301Z"
   },
   {
    "duration": 14,
    "start_time": "2022-12-25T22:18:20.024Z"
   },
   {
    "duration": 22,
    "start_time": "2022-12-25T22:18:20.040Z"
   },
   {
    "duration": 15,
    "start_time": "2022-12-25T22:18:20.065Z"
   },
   {
    "duration": 20,
    "start_time": "2022-12-25T22:18:20.082Z"
   },
   {
    "duration": 10,
    "start_time": "2022-12-25T22:18:20.105Z"
   },
   {
    "duration": 19,
    "start_time": "2022-12-25T22:18:20.116Z"
   },
   {
    "duration": 61,
    "start_time": "2022-12-25T22:18:20.136Z"
   },
   {
    "duration": 112,
    "start_time": "2022-12-25T22:18:20.200Z"
   },
   {
    "duration": 6,
    "start_time": "2022-12-25T22:18:20.314Z"
   },
   {
    "duration": 10,
    "start_time": "2022-12-25T22:18:20.321Z"
   },
   {
    "duration": 65,
    "start_time": "2022-12-25T22:18:20.332Z"
   },
   {
    "duration": 109,
    "start_time": "2022-12-25T22:18:20.401Z"
   },
   {
    "duration": 7,
    "start_time": "2022-12-25T22:18:20.511Z"
   },
   {
    "duration": 77,
    "start_time": "2022-12-25T22:18:20.520Z"
   },
   {
    "duration": 3,
    "start_time": "2022-12-25T22:18:20.600Z"
   },
   {
    "duration": 109,
    "start_time": "2022-12-25T22:18:20.605Z"
   },
   {
    "duration": 11,
    "start_time": "2022-12-25T22:18:20.715Z"
   },
   {
    "duration": 12,
    "start_time": "2022-12-25T22:18:20.728Z"
   },
   {
    "duration": 27,
    "start_time": "2022-12-25T22:18:20.741Z"
   },
   {
    "duration": 3,
    "start_time": "2022-12-25T22:18:20.771Z"
   },
   {
    "duration": 26,
    "start_time": "2022-12-25T22:18:20.775Z"
   },
   {
    "duration": 717,
    "start_time": "2022-12-25T22:18:20.802Z"
   },
   {
    "duration": 692,
    "start_time": "2022-12-25T22:18:39.047Z"
   },
   {
    "duration": 68,
    "start_time": "2022-12-25T22:21:09.877Z"
   },
   {
    "duration": 593,
    "start_time": "2022-12-25T22:21:20.557Z"
   },
   {
    "duration": 587,
    "start_time": "2022-12-25T22:22:32.284Z"
   },
   {
    "duration": 625,
    "start_time": "2022-12-25T22:23:15.857Z"
   },
   {
    "duration": 586,
    "start_time": "2022-12-25T22:23:22.936Z"
   },
   {
    "duration": 11,
    "start_time": "2022-12-25T22:32:58.130Z"
   },
   {
    "duration": 695,
    "start_time": "2022-12-25T22:33:58.202Z"
   },
   {
    "duration": 52,
    "start_time": "2022-12-25T22:56:08.287Z"
   },
   {
    "duration": 43,
    "start_time": "2022-12-25T22:56:13.936Z"
   },
   {
    "duration": 63,
    "start_time": "2022-12-25T22:56:21.247Z"
   },
   {
    "duration": 49,
    "start_time": "2022-12-25T22:57:05.505Z"
   },
   {
    "duration": 51,
    "start_time": "2022-12-25T22:57:27.700Z"
   },
   {
    "duration": 49,
    "start_time": "2022-12-25T22:57:39.278Z"
   },
   {
    "duration": 50,
    "start_time": "2022-12-25T22:57:44.828Z"
   },
   {
    "duration": 4,
    "start_time": "2022-12-25T22:57:52.563Z"
   },
   {
    "duration": 348,
    "start_time": "2022-12-25T22:57:52.569Z"
   },
   {
    "duration": 12,
    "start_time": "2022-12-25T22:57:52.919Z"
   },
   {
    "duration": 22,
    "start_time": "2022-12-25T22:57:52.933Z"
   },
   {
    "duration": 9,
    "start_time": "2022-12-25T22:57:52.957Z"
   },
   {
    "duration": 18,
    "start_time": "2022-12-25T22:57:52.967Z"
   },
   {
    "duration": 14,
    "start_time": "2022-12-25T22:57:52.987Z"
   },
   {
    "duration": 10,
    "start_time": "2022-12-25T22:57:53.002Z"
   },
   {
    "duration": 88,
    "start_time": "2022-12-25T22:57:53.013Z"
   },
   {
    "duration": 111,
    "start_time": "2022-12-25T22:57:53.106Z"
   },
   {
    "duration": 6,
    "start_time": "2022-12-25T22:57:53.219Z"
   },
   {
    "duration": 8,
    "start_time": "2022-12-25T22:57:53.227Z"
   },
   {
    "duration": 63,
    "start_time": "2022-12-25T22:57:53.236Z"
   },
   {
    "duration": 112,
    "start_time": "2022-12-25T22:57:53.303Z"
   },
   {
    "duration": 8,
    "start_time": "2022-12-25T22:57:53.416Z"
   },
   {
    "duration": 15,
    "start_time": "2022-12-25T22:57:53.425Z"
   },
   {
    "duration": 56,
    "start_time": "2022-12-25T22:57:53.442Z"
   },
   {
    "duration": 103,
    "start_time": "2022-12-25T22:57:53.500Z"
   },
   {
    "duration": 4,
    "start_time": "2022-12-25T22:57:53.605Z"
   },
   {
    "duration": 5,
    "start_time": "2022-12-25T22:57:53.610Z"
   },
   {
    "duration": 20,
    "start_time": "2022-12-25T22:57:53.617Z"
   },
   {
    "duration": 2,
    "start_time": "2022-12-25T22:57:53.639Z"
   },
   {
    "duration": 10,
    "start_time": "2022-12-25T22:57:53.642Z"
   },
   {
    "duration": 52,
    "start_time": "2022-12-25T22:57:53.653Z"
   },
   {
    "duration": 725,
    "start_time": "2022-12-25T22:57:59.915Z"
   },
   {
    "duration": 767,
    "start_time": "2022-12-25T22:58:04.295Z"
   },
   {
    "duration": 4,
    "start_time": "2022-12-25T22:58:33.918Z"
   },
   {
    "duration": 4,
    "start_time": "2022-12-25T22:58:38.205Z"
   },
   {
    "duration": 353,
    "start_time": "2022-12-25T22:58:38.211Z"
   },
   {
    "duration": 8,
    "start_time": "2022-12-25T22:58:38.566Z"
   },
   {
    "duration": 10,
    "start_time": "2022-12-25T22:58:38.576Z"
   },
   {
    "duration": 7,
    "start_time": "2022-12-25T22:58:38.598Z"
   },
   {
    "duration": 26,
    "start_time": "2022-12-25T22:58:38.607Z"
   },
   {
    "duration": 5,
    "start_time": "2022-12-25T22:58:38.635Z"
   },
   {
    "duration": 5,
    "start_time": "2022-12-25T22:58:38.642Z"
   },
   {
    "duration": 53,
    "start_time": "2022-12-25T22:58:38.649Z"
   },
   {
    "duration": 107,
    "start_time": "2022-12-25T22:58:38.704Z"
   },
   {
    "duration": 6,
    "start_time": "2022-12-25T22:58:38.813Z"
   },
   {
    "duration": 16,
    "start_time": "2022-12-25T22:58:38.821Z"
   },
   {
    "duration": 59,
    "start_time": "2022-12-25T22:58:38.838Z"
   },
   {
    "duration": 107,
    "start_time": "2022-12-25T22:58:38.899Z"
   },
   {
    "duration": 6,
    "start_time": "2022-12-25T22:58:39.008Z"
   },
   {
    "duration": 22,
    "start_time": "2022-12-25T22:58:39.016Z"
   },
   {
    "duration": 100,
    "start_time": "2022-12-25T22:58:39.098Z"
   },
   {
    "duration": 7,
    "start_time": "2022-12-25T22:58:39.199Z"
   },
   {
    "duration": 6,
    "start_time": "2022-12-25T22:58:39.207Z"
   },
   {
    "duration": 7,
    "start_time": "2022-12-25T22:58:39.214Z"
   },
   {
    "duration": 27,
    "start_time": "2022-12-25T22:58:39.223Z"
   },
   {
    "duration": 11,
    "start_time": "2022-12-25T22:58:39.251Z"
   },
   {
    "duration": 18,
    "start_time": "2022-12-25T22:58:39.263Z"
   },
   {
    "duration": 735,
    "start_time": "2022-12-25T22:58:39.283Z"
   },
   {
    "duration": 4,
    "start_time": "2022-12-25T23:02:44.583Z"
   },
   {
    "duration": 9,
    "start_time": "2022-12-25T23:02:45.191Z"
   },
   {
    "duration": 7,
    "start_time": "2022-12-25T23:03:12.475Z"
   },
   {
    "duration": 11,
    "start_time": "2022-12-25T23:03:18.636Z"
   },
   {
    "duration": 771,
    "start_time": "2022-12-25T23:03:34.107Z"
   },
   {
    "duration": 770,
    "start_time": "2022-12-25T23:04:04.311Z"
   },
   {
    "duration": 739,
    "start_time": "2022-12-25T23:04:16.284Z"
   },
   {
    "duration": 749,
    "start_time": "2022-12-25T23:07:11.436Z"
   },
   {
    "duration": 2,
    "start_time": "2022-12-25T23:08:02.339Z"
   },
   {
    "duration": 11,
    "start_time": "2022-12-25T23:08:02.966Z"
   },
   {
    "duration": 2,
    "start_time": "2022-12-25T23:08:13.875Z"
   },
   {
    "duration": 3,
    "start_time": "2022-12-25T23:08:14.186Z"
   },
   {
    "duration": 13,
    "start_time": "2022-12-25T23:08:14.698Z"
   },
   {
    "duration": 4,
    "start_time": "2022-12-25T23:08:19.824Z"
   },
   {
    "duration": 370,
    "start_time": "2022-12-25T23:08:19.830Z"
   },
   {
    "duration": 8,
    "start_time": "2022-12-25T23:08:20.201Z"
   },
   {
    "duration": 13,
    "start_time": "2022-12-25T23:08:20.211Z"
   },
   {
    "duration": 20,
    "start_time": "2022-12-25T23:08:20.226Z"
   },
   {
    "duration": 19,
    "start_time": "2022-12-25T23:08:20.248Z"
   },
   {
    "duration": 5,
    "start_time": "2022-12-25T23:08:20.268Z"
   },
   {
    "duration": 7,
    "start_time": "2022-12-25T23:08:20.274Z"
   },
   {
    "duration": 23,
    "start_time": "2022-12-25T23:08:20.283Z"
   },
   {
    "duration": 195,
    "start_time": "2022-12-25T23:08:20.308Z"
   },
   {
    "duration": 10,
    "start_time": "2022-12-25T23:08:20.505Z"
   },
   {
    "duration": 10,
    "start_time": "2022-12-25T23:08:20.517Z"
   },
   {
    "duration": 18,
    "start_time": "2022-12-25T23:08:20.529Z"
   },
   {
    "duration": 108,
    "start_time": "2022-12-25T23:08:20.599Z"
   },
   {
    "duration": 6,
    "start_time": "2022-12-25T23:08:20.708Z"
   },
   {
    "duration": 20,
    "start_time": "2022-12-25T23:08:20.716Z"
   },
   {
    "duration": 62,
    "start_time": "2022-12-25T23:08:20.737Z"
   },
   {
    "duration": 104,
    "start_time": "2022-12-25T23:08:20.800Z"
   },
   {
    "duration": 17,
    "start_time": "2022-12-25T23:08:20.905Z"
   },
   {
    "duration": 7,
    "start_time": "2022-12-25T23:08:20.924Z"
   },
   {
    "duration": 6,
    "start_time": "2022-12-25T23:08:20.932Z"
   },
   {
    "duration": 5,
    "start_time": "2022-12-25T23:08:20.939Z"
   },
   {
    "duration": 20,
    "start_time": "2022-12-25T23:08:20.945Z"
   },
   {
    "duration": 1108,
    "start_time": "2022-12-25T23:08:20.967Z"
   },
   {
    "duration": 3,
    "start_time": "2022-12-25T23:09:06.151Z"
   },
   {
    "duration": 16,
    "start_time": "2022-12-25T23:09:06.692Z"
   },
   {
    "duration": 3,
    "start_time": "2022-12-25T23:09:31.410Z"
   },
   {
    "duration": 17,
    "start_time": "2022-12-25T23:09:32.040Z"
   },
   {
    "duration": 1174,
    "start_time": "2022-12-25T23:09:59.897Z"
   },
   {
    "duration": 4,
    "start_time": "2022-12-25T23:17:55.330Z"
   },
   {
    "duration": 1155,
    "start_time": "2022-12-25T23:19:18.518Z"
   },
   {
    "duration": 1129,
    "start_time": "2022-12-25T23:19:37.159Z"
   },
   {
    "duration": 1220,
    "start_time": "2022-12-25T23:20:18.734Z"
   },
   {
    "duration": 1196,
    "start_time": "2022-12-25T23:20:38.977Z"
   },
   {
    "duration": 582,
    "start_time": "2022-12-25T23:25:52.790Z"
   },
   {
    "duration": 528,
    "start_time": "2022-12-25T23:26:04.124Z"
   },
   {
    "duration": 1155,
    "start_time": "2022-12-25T23:28:07.808Z"
   },
   {
    "duration": 1091,
    "start_time": "2022-12-25T23:28:21.760Z"
   },
   {
    "duration": 1149,
    "start_time": "2022-12-25T23:28:56.373Z"
   },
   {
    "duration": 1140,
    "start_time": "2022-12-25T23:32:44.108Z"
   },
   {
    "duration": 1555,
    "start_time": "2022-12-30T12:25:50.937Z"
   },
   {
    "duration": 752,
    "start_time": "2022-12-30T12:25:52.494Z"
   },
   {
    "duration": 14,
    "start_time": "2022-12-30T12:25:53.248Z"
   },
   {
    "duration": 33,
    "start_time": "2022-12-30T12:25:53.263Z"
   },
   {
    "duration": 41,
    "start_time": "2022-12-30T12:25:53.298Z"
   },
   {
    "duration": 41,
    "start_time": "2022-12-30T12:25:53.340Z"
   },
   {
    "duration": 14,
    "start_time": "2022-12-30T12:25:53.382Z"
   },
   {
    "duration": 32,
    "start_time": "2022-12-30T12:25:53.397Z"
   },
   {
    "duration": 47,
    "start_time": "2022-12-30T12:25:53.431Z"
   },
   {
    "duration": 214,
    "start_time": "2022-12-30T12:25:53.480Z"
   },
   {
    "duration": 20,
    "start_time": "2022-12-30T12:25:53.696Z"
   },
   {
    "duration": 32,
    "start_time": "2022-12-30T12:25:53.718Z"
   },
   {
    "duration": 31,
    "start_time": "2022-12-30T12:25:53.751Z"
   },
   {
    "duration": 202,
    "start_time": "2022-12-30T12:25:53.785Z"
   },
   {
    "duration": 17,
    "start_time": "2022-12-30T12:25:53.988Z"
   },
   {
    "duration": 46,
    "start_time": "2022-12-30T12:25:54.007Z"
   },
   {
    "duration": 100,
    "start_time": "2022-12-30T12:25:54.078Z"
   },
   {
    "duration": 21,
    "start_time": "2022-12-30T12:25:54.180Z"
   },
   {
    "duration": 25,
    "start_time": "2022-12-30T12:25:54.203Z"
   },
   {
    "duration": 29,
    "start_time": "2022-12-30T12:25:54.229Z"
   },
   {
    "duration": 66,
    "start_time": "2022-12-30T12:25:54.260Z"
   },
   {
    "duration": 21,
    "start_time": "2022-12-30T12:25:54.328Z"
   },
   {
    "duration": 49,
    "start_time": "2022-12-30T12:25:54.351Z"
   },
   {
    "duration": 1245,
    "start_time": "2022-12-30T12:25:54.401Z"
   },
   {
    "duration": 852,
    "start_time": "2022-12-30T12:28:57.884Z"
   },
   {
    "duration": 18,
    "start_time": "2022-12-30T12:29:24.572Z"
   },
   {
    "duration": 3815,
    "start_time": "2022-12-30T12:29:34.921Z"
   },
   {
    "duration": 3,
    "start_time": "2022-12-30T12:31:16.118Z"
   },
   {
    "duration": 4,
    "start_time": "2022-12-30T12:31:16.398Z"
   },
   {
    "duration": 3,
    "start_time": "2022-12-30T12:31:17.402Z"
   },
   {
    "duration": 5,
    "start_time": "2022-12-30T12:31:17.886Z"
   },
   {
    "duration": 3,
    "start_time": "2022-12-30T12:31:22.110Z"
   },
   {
    "duration": 3,
    "start_time": "2022-12-30T12:31:22.706Z"
   },
   {
    "duration": 19,
    "start_time": "2022-12-30T12:31:23.254Z"
   },
   {
    "duration": 3984,
    "start_time": "2022-12-30T12:31:27.846Z"
   },
   {
    "duration": 4,
    "start_time": "2022-12-30T12:32:49.019Z"
   },
   {
    "duration": 21,
    "start_time": "2022-12-30T12:32:49.462Z"
   },
   {
    "duration": 3777,
    "start_time": "2022-12-30T12:32:51.536Z"
   },
   {
    "duration": 3,
    "start_time": "2022-12-30T12:34:29.775Z"
   },
   {
    "duration": 17,
    "start_time": "2022-12-30T12:34:30.202Z"
   },
   {
    "duration": 3492,
    "start_time": "2022-12-30T12:34:32.486Z"
   },
   {
    "duration": 1118,
    "start_time": "2022-12-30T12:34:52.878Z"
   },
   {
    "duration": 15,
    "start_time": "2022-12-30T12:46:15.575Z"
   },
   {
    "duration": 5,
    "start_time": "2022-12-30T12:48:19.695Z"
   },
   {
    "duration": 3,
    "start_time": "2022-12-30T12:48:19.947Z"
   },
   {
    "duration": 4,
    "start_time": "2022-12-30T12:48:20.654Z"
   },
   {
    "duration": 4,
    "start_time": "2022-12-30T12:48:21.260Z"
   },
   {
    "duration": 17,
    "start_time": "2022-12-30T12:48:21.783Z"
   },
   {
    "duration": 3,
    "start_time": "2022-12-30T12:48:44.206Z"
   },
   {
    "duration": 15,
    "start_time": "2022-12-30T12:48:45.800Z"
   },
   {
    "duration": 3,
    "start_time": "2022-12-30T12:49:29.870Z"
   },
   {
    "duration": 16,
    "start_time": "2022-12-30T12:49:30.330Z"
   },
   {
    "duration": 16,
    "start_time": "2022-12-30T12:51:17.242Z"
   },
   {
    "duration": 6,
    "start_time": "2022-12-30T12:54:53.052Z"
   },
   {
    "duration": 5,
    "start_time": "2022-12-30T12:55:18.427Z"
   },
   {
    "duration": 19,
    "start_time": "2022-12-30T12:55:18.819Z"
   },
   {
    "duration": 6,
    "start_time": "2022-12-30T12:55:21.635Z"
   },
   {
    "duration": 9,
    "start_time": "2022-12-30T12:55:59.591Z"
   },
   {
    "duration": 9,
    "start_time": "2022-12-30T12:56:26.295Z"
   },
   {
    "duration": 12,
    "start_time": "2022-12-30T12:57:33.524Z"
   },
   {
    "duration": 3,
    "start_time": "2022-12-30T12:59:13.136Z"
   },
   {
    "duration": 22,
    "start_time": "2022-12-30T12:59:13.475Z"
   },
   {
    "duration": 9,
    "start_time": "2022-12-30T12:59:33.606Z"
   },
   {
    "duration": 19,
    "start_time": "2022-12-30T12:59:34.374Z"
   },
   {
    "duration": 12,
    "start_time": "2022-12-30T13:01:17.148Z"
   },
   {
    "duration": 11,
    "start_time": "2022-12-30T13:02:11.296Z"
   },
   {
    "duration": 9,
    "start_time": "2022-12-30T13:02:48.145Z"
   },
   {
    "duration": 13,
    "start_time": "2022-12-30T13:02:49.341Z"
   },
   {
    "duration": 6,
    "start_time": "2022-12-30T13:02:51.489Z"
   },
   {
    "duration": 67,
    "start_time": "2022-12-30T13:09:13.728Z"
   },
   {
    "duration": 3839,
    "start_time": "2022-12-30T13:09:38.324Z"
   },
   {
    "duration": 20,
    "start_time": "2022-12-30T13:10:40.474Z"
   },
   {
    "duration": 3811,
    "start_time": "2022-12-30T13:11:07.344Z"
   },
   {
    "duration": 3723,
    "start_time": "2022-12-30T13:11:39.904Z"
   },
   {
    "duration": 3804,
    "start_time": "2022-12-30T13:12:07.886Z"
   },
   {
    "duration": 18,
    "start_time": "2022-12-30T13:12:27.876Z"
   },
   {
    "duration": 3746,
    "start_time": "2022-12-30T13:12:35.406Z"
   },
   {
    "duration": 1329,
    "start_time": "2022-12-30T13:20:08.182Z"
   },
   {
    "duration": 1258,
    "start_time": "2022-12-30T13:21:41.756Z"
   },
   {
    "duration": 7,
    "start_time": "2022-12-30T13:21:43.391Z"
   },
   {
    "duration": 7,
    "start_time": "2022-12-30T13:22:07.567Z"
   },
   {
    "duration": 3,
    "start_time": "2022-12-30T13:28:49.963Z"
   },
   {
    "duration": 18,
    "start_time": "2022-12-30T13:28:50.597Z"
   },
   {
    "duration": 3,
    "start_time": "2022-12-30T13:30:20.469Z"
   },
   {
    "duration": 19,
    "start_time": "2022-12-30T13:30:24.875Z"
   },
   {
    "duration": 3,
    "start_time": "2022-12-30T13:30:57.371Z"
   },
   {
    "duration": 20,
    "start_time": "2022-12-30T13:30:57.871Z"
   },
   {
    "duration": 4,
    "start_time": "2022-12-30T13:31:41.254Z"
   },
   {
    "duration": 20,
    "start_time": "2022-12-30T13:31:42.540Z"
   },
   {
    "duration": 5,
    "start_time": "2022-12-30T13:32:12.729Z"
   },
   {
    "duration": 377,
    "start_time": "2022-12-30T13:32:12.736Z"
   },
   {
    "duration": 10,
    "start_time": "2022-12-30T13:32:13.115Z"
   },
   {
    "duration": 13,
    "start_time": "2022-12-30T13:32:13.126Z"
   },
   {
    "duration": 16,
    "start_time": "2022-12-30T13:32:13.142Z"
   },
   {
    "duration": 25,
    "start_time": "2022-12-30T13:32:13.159Z"
   },
   {
    "duration": 6,
    "start_time": "2022-12-30T13:32:13.186Z"
   },
   {
    "duration": 8,
    "start_time": "2022-12-30T13:32:13.194Z"
   },
   {
    "duration": 22,
    "start_time": "2022-12-30T13:32:13.204Z"
   },
   {
    "duration": 109,
    "start_time": "2022-12-30T13:32:13.279Z"
   },
   {
    "duration": 8,
    "start_time": "2022-12-30T13:32:13.389Z"
   },
   {
    "duration": 10,
    "start_time": "2022-12-30T13:32:13.398Z"
   },
   {
    "duration": 69,
    "start_time": "2022-12-30T13:32:13.410Z"
   },
   {
    "duration": 109,
    "start_time": "2022-12-30T13:32:13.483Z"
   },
   {
    "duration": 8,
    "start_time": "2022-12-30T13:32:13.594Z"
   },
   {
    "duration": 17,
    "start_time": "2022-12-30T13:32:13.604Z"
   },
   {
    "duration": 4,
    "start_time": "2022-12-30T13:32:13.681Z"
   },
   {
    "duration": 99,
    "start_time": "2022-12-30T13:32:13.686Z"
   },
   {
    "duration": 8,
    "start_time": "2022-12-30T13:32:13.786Z"
   },
   {
    "duration": 8,
    "start_time": "2022-12-30T13:32:13.795Z"
   },
   {
    "duration": 5,
    "start_time": "2022-12-30T13:32:13.805Z"
   },
   {
    "duration": 5,
    "start_time": "2022-12-30T13:32:13.811Z"
   },
   {
    "duration": 21,
    "start_time": "2022-12-30T13:32:13.817Z"
   },
   {
    "duration": 1334,
    "start_time": "2022-12-30T13:32:13.839Z"
   },
   {
    "duration": 7,
    "start_time": "2022-12-30T13:32:15.175Z"
   },
   {
    "duration": 3955,
    "start_time": "2022-12-30T13:32:15.184Z"
   },
   {
    "duration": 3,
    "start_time": "2022-12-30T13:32:53.888Z"
   },
   {
    "duration": 20,
    "start_time": "2022-12-30T13:32:55.219Z"
   },
   {
    "duration": 1316,
    "start_time": "2022-12-30T13:33:14.083Z"
   },
   {
    "duration": 8,
    "start_time": "2022-12-30T13:33:15.401Z"
   },
   {
    "duration": 3948,
    "start_time": "2022-12-30T13:33:21.185Z"
   },
   {
    "duration": 3,
    "start_time": "2022-12-30T13:36:25.969Z"
   },
   {
    "duration": 19,
    "start_time": "2022-12-30T13:36:26.482Z"
   },
   {
    "duration": 5,
    "start_time": "2022-12-30T13:36:46.405Z"
   },
   {
    "duration": 364,
    "start_time": "2022-12-30T13:36:46.412Z"
   },
   {
    "duration": 9,
    "start_time": "2022-12-30T13:36:46.778Z"
   },
   {
    "duration": 17,
    "start_time": "2022-12-30T13:36:46.789Z"
   },
   {
    "duration": 13,
    "start_time": "2022-12-30T13:36:46.808Z"
   },
   {
    "duration": 20,
    "start_time": "2022-12-30T13:36:46.822Z"
   },
   {
    "duration": 6,
    "start_time": "2022-12-30T13:36:46.843Z"
   },
   {
    "duration": 27,
    "start_time": "2022-12-30T13:36:46.851Z"
   },
   {
    "duration": 16,
    "start_time": "2022-12-30T13:36:46.880Z"
   },
   {
    "duration": 185,
    "start_time": "2022-12-30T13:36:46.899Z"
   },
   {
    "duration": 6,
    "start_time": "2022-12-30T13:36:47.086Z"
   },
   {
    "duration": 11,
    "start_time": "2022-12-30T13:36:47.094Z"
   },
   {
    "duration": 16,
    "start_time": "2022-12-30T13:36:47.106Z"
   },
   {
    "duration": 163,
    "start_time": "2022-12-30T13:36:47.125Z"
   },
   {
    "duration": 8,
    "start_time": "2022-12-30T13:36:47.289Z"
   },
   {
    "duration": 20,
    "start_time": "2022-12-30T13:36:47.298Z"
   },
   {
    "duration": 3,
    "start_time": "2022-12-30T13:36:47.378Z"
   },
   {
    "duration": 106,
    "start_time": "2022-12-30T13:36:47.383Z"
   },
   {
    "duration": 7,
    "start_time": "2022-12-30T13:36:47.490Z"
   },
   {
    "duration": 13,
    "start_time": "2022-12-30T13:36:47.499Z"
   },
   {
    "duration": 5,
    "start_time": "2022-12-30T13:36:47.514Z"
   },
   {
    "duration": 7,
    "start_time": "2022-12-30T13:36:47.521Z"
   },
   {
    "duration": 23,
    "start_time": "2022-12-30T13:36:47.529Z"
   },
   {
    "duration": 1437,
    "start_time": "2022-12-30T13:36:47.553Z"
   },
   {
    "duration": 8,
    "start_time": "2022-12-30T13:36:48.992Z"
   },
   {
    "duration": 4011,
    "start_time": "2022-12-30T13:36:49.002Z"
   },
   {
    "duration": 3,
    "start_time": "2022-12-30T13:38:14.037Z"
   },
   {
    "duration": 3,
    "start_time": "2022-12-30T13:39:31.969Z"
   },
   {
    "duration": 24,
    "start_time": "2022-12-30T13:39:32.567Z"
   },
   {
    "duration": 4,
    "start_time": "2022-12-30T13:40:21.871Z"
   },
   {
    "duration": 20,
    "start_time": "2022-12-30T13:40:24.121Z"
   },
   {
    "duration": 1363,
    "start_time": "2022-12-30T13:40:36.029Z"
   },
   {
    "duration": 7,
    "start_time": "2022-12-30T13:40:37.394Z"
   },
   {
    "duration": 4064,
    "start_time": "2022-12-30T13:40:38.967Z"
   },
   {
    "duration": 376,
    "start_time": "2022-12-30T13:41:18.253Z"
   },
   {
    "duration": 9,
    "start_time": "2022-12-30T13:41:19.642Z"
   },
   {
    "duration": 3996,
    "start_time": "2022-12-30T13:41:20.788Z"
   },
   {
    "duration": 12,
    "start_time": "2022-12-30T13:42:56.219Z"
   },
   {
    "duration": 22,
    "start_time": "2022-12-30T13:43:05.181Z"
   },
   {
    "duration": 7,
    "start_time": "2022-12-30T13:43:41.303Z"
   },
   {
    "duration": 1357,
    "start_time": "2022-12-30T13:44:02.057Z"
   },
   {
    "duration": 6,
    "start_time": "2022-12-30T13:44:04.933Z"
   },
   {
    "duration": 5,
    "start_time": "2022-12-30T13:44:20.520Z"
   },
   {
    "duration": 414,
    "start_time": "2022-12-30T13:44:20.526Z"
   },
   {
    "duration": 12,
    "start_time": "2022-12-30T13:44:20.942Z"
   },
   {
    "duration": 11,
    "start_time": "2022-12-30T13:44:20.956Z"
   },
   {
    "duration": 10,
    "start_time": "2022-12-30T13:44:20.978Z"
   },
   {
    "duration": 22,
    "start_time": "2022-12-30T13:44:20.989Z"
   },
   {
    "duration": 17,
    "start_time": "2022-12-30T13:44:21.013Z"
   },
   {
    "duration": 8,
    "start_time": "2022-12-30T13:44:21.032Z"
   },
   {
    "duration": 42,
    "start_time": "2022-12-30T13:44:21.042Z"
   },
   {
    "duration": 113,
    "start_time": "2022-12-30T13:44:21.085Z"
   },
   {
    "duration": 165,
    "start_time": "2022-12-30T13:44:21.199Z"
   },
   {
    "duration": 13,
    "start_time": "2022-12-30T13:44:21.366Z"
   },
   {
    "duration": 99,
    "start_time": "2022-12-30T13:44:21.382Z"
   },
   {
    "duration": 111,
    "start_time": "2022-12-30T13:44:21.483Z"
   },
   {
    "duration": 7,
    "start_time": "2022-12-30T13:44:21.595Z"
   },
   {
    "duration": 16,
    "start_time": "2022-12-30T13:44:21.604Z"
   },
   {
    "duration": 57,
    "start_time": "2022-12-30T13:44:21.622Z"
   },
   {
    "duration": 103,
    "start_time": "2022-12-30T13:44:21.682Z"
   },
   {
    "duration": 8,
    "start_time": "2022-12-30T13:44:21.787Z"
   },
   {
    "duration": 5,
    "start_time": "2022-12-30T13:44:21.797Z"
   },
   {
    "duration": 5,
    "start_time": "2022-12-30T13:44:21.803Z"
   },
   {
    "duration": 7,
    "start_time": "2022-12-30T13:44:21.810Z"
   },
   {
    "duration": 23,
    "start_time": "2022-12-30T13:44:21.819Z"
   },
   {
    "duration": 1387,
    "start_time": "2022-12-30T13:44:21.844Z"
   },
   {
    "duration": 6,
    "start_time": "2022-12-30T13:44:23.233Z"
   },
   {
    "duration": 4015,
    "start_time": "2022-12-30T13:44:23.241Z"
   },
   {
    "duration": 4,
    "start_time": "2022-12-30T13:45:46.354Z"
   },
   {
    "duration": 4185,
    "start_time": "2022-12-30T13:45:49.265Z"
   },
   {
    "duration": 4,
    "start_time": "2022-12-30T13:46:32.565Z"
   },
   {
    "duration": 5,
    "start_time": "2022-12-30T13:46:42.851Z"
   },
   {
    "duration": 4,
    "start_time": "2022-12-30T13:46:43.373Z"
   },
   {
    "duration": 4,
    "start_time": "2022-12-30T13:46:57.081Z"
   },
   {
    "duration": 4,
    "start_time": "2022-12-30T13:47:06.488Z"
   },
   {
    "duration": 4,
    "start_time": "2022-12-30T13:47:22.242Z"
   },
   {
    "duration": 6,
    "start_time": "2022-12-30T13:47:38.369Z"
   },
   {
    "duration": 1427,
    "start_time": "2022-12-30T13:48:16.634Z"
   },
   {
    "duration": 4,
    "start_time": "2022-12-30T13:48:18.063Z"
   },
   {
    "duration": 10,
    "start_time": "2022-12-30T13:48:18.069Z"
   },
   {
    "duration": 5,
    "start_time": "2022-12-30T13:49:39.781Z"
   },
   {
    "duration": 1513,
    "start_time": "2023-01-05T13:51:56.798Z"
   },
   {
    "duration": 1559,
    "start_time": "2023-01-05T13:51:58.313Z"
   },
   {
    "duration": 13,
    "start_time": "2023-01-05T13:51:59.873Z"
   },
   {
    "duration": 11,
    "start_time": "2023-01-05T13:51:59.887Z"
   },
   {
    "duration": 10,
    "start_time": "2023-01-05T13:51:59.899Z"
   },
   {
    "duration": 17,
    "start_time": "2023-01-05T13:51:59.911Z"
   },
   {
    "duration": 6,
    "start_time": "2023-01-05T13:51:59.929Z"
   },
   {
    "duration": 6,
    "start_time": "2023-01-05T13:51:59.937Z"
   },
   {
    "duration": 66,
    "start_time": "2023-01-05T13:51:59.945Z"
   },
   {
    "duration": 19,
    "start_time": "2023-01-05T13:52:00.105Z"
   },
   {
    "duration": 10,
    "start_time": "2023-01-05T13:52:00.126Z"
   },
   {
    "duration": 35,
    "start_time": "2023-01-05T13:52:00.138Z"
   },
   {
    "duration": 50,
    "start_time": "2023-01-05T13:52:00.175Z"
   },
   {
    "duration": 216,
    "start_time": "2023-01-05T13:52:00.229Z"
   },
   {
    "duration": 12,
    "start_time": "2023-01-05T13:52:00.446Z"
   },
   {
    "duration": 69,
    "start_time": "2023-01-05T13:52:00.460Z"
   },
   {
    "duration": 175,
    "start_time": "2023-01-05T13:52:00.531Z"
   },
   {
    "duration": 27,
    "start_time": "2023-01-05T13:52:00.707Z"
   },
   {
    "duration": 47,
    "start_time": "2023-01-05T13:52:00.735Z"
   },
   {
    "duration": 28,
    "start_time": "2023-01-05T13:52:00.784Z"
   },
   {
    "duration": 24,
    "start_time": "2023-01-05T13:52:00.813Z"
   },
   {
    "duration": 26,
    "start_time": "2023-01-05T13:52:00.839Z"
   },
   {
    "duration": 40,
    "start_time": "2023-01-05T13:52:00.866Z"
   },
   {
    "duration": 1257,
    "start_time": "2023-01-05T13:52:00.907Z"
   },
   {
    "duration": 10,
    "start_time": "2023-01-05T13:52:02.166Z"
   },
   {
    "duration": 9,
    "start_time": "2023-01-05T13:52:02.177Z"
   },
   {
    "duration": 5,
    "start_time": "2023-01-05T14:42:37.158Z"
   },
   {
    "duration": 240,
    "start_time": "2023-01-05T14:48:34.049Z"
   },
   {
    "duration": 20,
    "start_time": "2023-01-05T14:49:34.634Z"
   },
   {
    "duration": 4,
    "start_time": "2023-01-05T14:49:49.030Z"
   },
   {
    "duration": 385,
    "start_time": "2023-01-05T14:49:49.040Z"
   },
   {
    "duration": 9,
    "start_time": "2023-01-05T14:49:49.427Z"
   },
   {
    "duration": 11,
    "start_time": "2023-01-05T14:49:49.438Z"
   },
   {
    "duration": 11,
    "start_time": "2023-01-05T14:49:49.450Z"
   },
   {
    "duration": 18,
    "start_time": "2023-01-05T14:49:49.463Z"
   },
   {
    "duration": 28,
    "start_time": "2023-01-05T14:49:49.483Z"
   },
   {
    "duration": 10,
    "start_time": "2023-01-05T14:49:49.512Z"
   },
   {
    "duration": 85,
    "start_time": "2023-01-05T14:49:49.523Z"
   },
   {
    "duration": 107,
    "start_time": "2023-01-05T14:49:49.611Z"
   },
   {
    "duration": 7,
    "start_time": "2023-01-05T14:49:49.719Z"
   },
   {
    "duration": 22,
    "start_time": "2023-01-05T14:49:49.727Z"
   },
   {
    "duration": 56,
    "start_time": "2023-01-05T14:49:49.750Z"
   },
   {
    "duration": 101,
    "start_time": "2023-01-05T14:49:49.808Z"
   },
   {
    "duration": 18,
    "start_time": "2023-01-05T14:49:49.911Z"
   },
   {
    "duration": 24,
    "start_time": "2023-01-05T14:49:49.930Z"
   },
   {
    "duration": 49,
    "start_time": "2023-01-05T14:49:49.956Z"
   },
   {
    "duration": 103,
    "start_time": "2023-01-05T14:49:50.008Z"
   },
   {
    "duration": 15,
    "start_time": "2023-01-05T14:49:50.113Z"
   },
   {
    "duration": 25,
    "start_time": "2023-01-05T14:49:50.129Z"
   },
   {
    "duration": 4,
    "start_time": "2023-01-05T14:49:50.156Z"
   },
   {
    "duration": 6,
    "start_time": "2023-01-05T14:49:50.162Z"
   },
   {
    "duration": 5,
    "start_time": "2023-01-05T14:49:50.169Z"
   },
   {
    "duration": 24,
    "start_time": "2023-01-05T14:49:50.176Z"
   },
   {
    "duration": 1227,
    "start_time": "2023-01-05T14:49:50.201Z"
   },
   {
    "duration": 6,
    "start_time": "2023-01-05T14:49:51.429Z"
   },
   {
    "duration": 12,
    "start_time": "2023-01-05T14:49:51.436Z"
   },
   {
    "duration": 71,
    "start_time": "2023-01-05T14:52:22.835Z"
   },
   {
    "duration": 17,
    "start_time": "2023-01-05T14:52:27.578Z"
   },
   {
    "duration": 12,
    "start_time": "2023-01-05T14:56:49.786Z"
   },
   {
    "duration": 16,
    "start_time": "2023-01-05T14:57:41.402Z"
   },
   {
    "duration": 17,
    "start_time": "2023-01-05T14:58:04.960Z"
   },
   {
    "duration": 3834,
    "start_time": "2023-01-05T14:58:35.052Z"
   },
   {
    "duration": 3645,
    "start_time": "2023-01-05T14:58:48.669Z"
   },
   {
    "duration": 3616,
    "start_time": "2023-01-05T14:59:53.495Z"
   },
   {
    "duration": 3723,
    "start_time": "2023-01-05T15:00:11.102Z"
   },
   {
    "duration": 3878,
    "start_time": "2023-01-05T15:01:27.755Z"
   },
   {
    "duration": 5,
    "start_time": "2023-01-05T15:05:23.406Z"
   },
   {
    "duration": 371,
    "start_time": "2023-01-05T15:05:23.412Z"
   },
   {
    "duration": 9,
    "start_time": "2023-01-05T15:05:23.785Z"
   },
   {
    "duration": 17,
    "start_time": "2023-01-05T15:05:23.795Z"
   },
   {
    "duration": 12,
    "start_time": "2023-01-05T15:05:23.814Z"
   },
   {
    "duration": 19,
    "start_time": "2023-01-05T15:05:23.827Z"
   },
   {
    "duration": 6,
    "start_time": "2023-01-05T15:05:23.848Z"
   },
   {
    "duration": 6,
    "start_time": "2023-01-05T15:05:23.856Z"
   },
   {
    "duration": 45,
    "start_time": "2023-01-05T15:05:23.863Z"
   },
   {
    "duration": 113,
    "start_time": "2023-01-05T15:05:23.909Z"
   },
   {
    "duration": 6,
    "start_time": "2023-01-05T15:05:24.024Z"
   },
   {
    "duration": 19,
    "start_time": "2023-01-05T15:05:24.032Z"
   },
   {
    "duration": 69,
    "start_time": "2023-01-05T15:05:24.052Z"
   },
   {
    "duration": 183,
    "start_time": "2023-01-05T15:05:24.124Z"
   },
   {
    "duration": 9,
    "start_time": "2023-01-05T15:05:24.309Z"
   },
   {
    "duration": 24,
    "start_time": "2023-01-05T15:05:24.320Z"
   },
   {
    "duration": 4,
    "start_time": "2023-01-05T15:05:24.405Z"
   },
   {
    "duration": 95,
    "start_time": "2023-01-05T15:05:24.411Z"
   },
   {
    "duration": 17,
    "start_time": "2023-01-05T15:05:24.508Z"
   },
   {
    "duration": 6,
    "start_time": "2023-01-05T15:05:24.527Z"
   },
   {
    "duration": 6,
    "start_time": "2023-01-05T15:05:24.535Z"
   },
   {
    "duration": 28,
    "start_time": "2023-01-05T15:05:24.543Z"
   },
   {
    "duration": 3747,
    "start_time": "2023-01-05T15:05:24.572Z"
   },
   {
    "duration": 42,
    "start_time": "2023-01-05T22:13:05.246Z"
   },
   {
    "duration": 1433,
    "start_time": "2023-01-05T22:13:15.156Z"
   },
   {
    "duration": 727,
    "start_time": "2023-01-05T22:13:16.591Z"
   },
   {
    "duration": 14,
    "start_time": "2023-01-05T22:13:17.320Z"
   },
   {
    "duration": 7,
    "start_time": "2023-01-05T22:13:17.336Z"
   },
   {
    "duration": 9,
    "start_time": "2023-01-05T22:13:17.345Z"
   },
   {
    "duration": 16,
    "start_time": "2023-01-05T22:13:17.355Z"
   },
   {
    "duration": 6,
    "start_time": "2023-01-05T22:13:17.373Z"
   },
   {
    "duration": 8,
    "start_time": "2023-01-05T22:13:17.380Z"
   },
   {
    "duration": 37,
    "start_time": "2023-01-05T22:13:17.389Z"
   },
   {
    "duration": 195,
    "start_time": "2023-01-05T22:13:17.428Z"
   },
   {
    "duration": 7,
    "start_time": "2023-01-05T22:13:17.625Z"
   },
   {
    "duration": 5,
    "start_time": "2023-01-05T22:13:17.634Z"
   },
   {
    "duration": 75,
    "start_time": "2023-01-05T22:13:17.641Z"
   },
   {
    "duration": 106,
    "start_time": "2023-01-05T22:13:17.726Z"
   },
   {
    "duration": 7,
    "start_time": "2023-01-05T22:13:17.834Z"
   },
   {
    "duration": 72,
    "start_time": "2023-01-05T22:13:17.843Z"
   },
   {
    "duration": 4,
    "start_time": "2023-01-05T22:13:17.920Z"
   },
   {
    "duration": 70,
    "start_time": "2023-01-05T22:13:18.016Z"
   },
   {
    "duration": 0,
    "start_time": "2023-01-05T22:13:18.088Z"
   },
   {
    "duration": 0,
    "start_time": "2023-01-05T22:13:18.090Z"
   },
   {
    "duration": 0,
    "start_time": "2023-01-05T22:13:18.091Z"
   },
   {
    "duration": 1,
    "start_time": "2023-01-05T22:13:18.092Z"
   },
   {
    "duration": 0,
    "start_time": "2023-01-05T22:13:18.094Z"
   },
   {
    "duration": 9,
    "start_time": "2023-01-05T22:14:05.833Z"
   },
   {
    "duration": 9,
    "start_time": "2023-01-05T22:14:11.228Z"
   },
   {
    "duration": 9,
    "start_time": "2023-01-05T22:14:40.962Z"
   },
   {
    "duration": 3,
    "start_time": "2023-01-05T22:14:46.242Z"
   },
   {
    "duration": 3,
    "start_time": "2023-01-05T22:15:01.111Z"
   },
   {
    "duration": 4,
    "start_time": "2023-01-05T22:16:28.666Z"
   },
   {
    "duration": 350,
    "start_time": "2023-01-05T22:16:28.672Z"
   },
   {
    "duration": 8,
    "start_time": "2023-01-05T22:16:29.024Z"
   },
   {
    "duration": 10,
    "start_time": "2023-01-05T22:16:29.034Z"
   },
   {
    "duration": 12,
    "start_time": "2023-01-05T22:16:29.045Z"
   },
   {
    "duration": 18,
    "start_time": "2023-01-05T22:16:29.059Z"
   },
   {
    "duration": 6,
    "start_time": "2023-01-05T22:16:29.079Z"
   },
   {
    "duration": 7,
    "start_time": "2023-01-05T22:16:29.086Z"
   },
   {
    "duration": 31,
    "start_time": "2023-01-05T22:16:29.095Z"
   },
   {
    "duration": 195,
    "start_time": "2023-01-05T22:16:29.127Z"
   },
   {
    "duration": 7,
    "start_time": "2023-01-05T22:16:29.324Z"
   },
   {
    "duration": 8,
    "start_time": "2023-01-05T22:16:29.333Z"
   },
   {
    "duration": 17,
    "start_time": "2023-01-05T22:16:29.342Z"
   },
   {
    "duration": 104,
    "start_time": "2023-01-05T22:16:29.416Z"
   },
   {
    "duration": 9,
    "start_time": "2023-01-05T22:16:29.522Z"
   },
   {
    "duration": 20,
    "start_time": "2023-01-05T22:16:29.532Z"
   },
   {
    "duration": 164,
    "start_time": "2023-01-05T22:16:29.553Z"
   },
   {
    "duration": 6,
    "start_time": "2023-01-05T22:16:29.718Z"
   },
   {
    "duration": 6,
    "start_time": "2023-01-05T22:16:29.726Z"
   },
   {
    "duration": 6,
    "start_time": "2023-01-05T22:16:29.733Z"
   },
   {
    "duration": 16,
    "start_time": "2023-01-05T22:16:29.740Z"
   },
   {
    "duration": 22,
    "start_time": "2023-01-05T22:16:29.757Z"
   },
   {
    "duration": 3514,
    "start_time": "2023-01-05T22:16:29.780Z"
   },
   {
    "duration": 3531,
    "start_time": "2023-01-05T22:16:48.768Z"
   },
   {
    "duration": 1184,
    "start_time": "2023-01-05T22:17:29.182Z"
   },
   {
    "duration": 3556,
    "start_time": "2023-01-05T22:17:43.099Z"
   },
   {
    "duration": 4,
    "start_time": "2023-01-05T22:21:24.206Z"
   },
   {
    "duration": 3575,
    "start_time": "2023-01-05T22:22:42.871Z"
   },
   {
    "duration": 2545,
    "start_time": "2023-01-05T22:23:36.275Z"
   },
   {
    "duration": 3529,
    "start_time": "2023-01-05T22:23:54.954Z"
   },
   {
    "duration": 1480,
    "start_time": "2023-01-06T15:27:49.404Z"
   },
   {
    "duration": 786,
    "start_time": "2023-01-06T15:27:50.887Z"
   },
   {
    "duration": 13,
    "start_time": "2023-01-06T15:27:51.675Z"
   },
   {
    "duration": 16,
    "start_time": "2023-01-06T15:27:51.690Z"
   },
   {
    "duration": 12,
    "start_time": "2023-01-06T15:27:51.708Z"
   },
   {
    "duration": 33,
    "start_time": "2023-01-06T15:27:51.722Z"
   },
   {
    "duration": 7,
    "start_time": "2023-01-06T15:27:51.757Z"
   },
   {
    "duration": 11,
    "start_time": "2023-01-06T15:27:51.766Z"
   },
   {
    "duration": 52,
    "start_time": "2023-01-06T15:27:51.778Z"
   },
   {
    "duration": 104,
    "start_time": "2023-01-06T15:27:51.832Z"
   },
   {
    "duration": 8,
    "start_time": "2023-01-06T15:27:51.938Z"
   },
   {
    "duration": 77,
    "start_time": "2023-01-06T15:27:51.947Z"
   },
   {
    "duration": 99,
    "start_time": "2023-01-06T15:27:52.027Z"
   },
   {
    "duration": 111,
    "start_time": "2023-01-06T15:27:52.132Z"
   },
   {
    "duration": 12,
    "start_time": "2023-01-06T15:27:52.245Z"
   },
   {
    "duration": 64,
    "start_time": "2023-01-06T15:27:52.259Z"
   },
   {
    "duration": 10,
    "start_time": "2023-01-06T15:27:52.324Z"
   },
   {
    "duration": 13,
    "start_time": "2023-01-06T15:27:52.421Z"
   },
   {
    "duration": 9,
    "start_time": "2023-01-06T15:27:52.436Z"
   },
   {
    "duration": 26,
    "start_time": "2023-01-06T15:27:52.447Z"
   },
   {
    "duration": 12,
    "start_time": "2023-01-06T15:27:52.475Z"
   },
   {
    "duration": 21,
    "start_time": "2023-01-06T15:27:52.488Z"
   },
   {
    "duration": 3793,
    "start_time": "2023-01-06T15:27:52.511Z"
   },
   {
    "duration": 320,
    "start_time": "2023-01-06T15:28:16.727Z"
   },
   {
    "duration": 414,
    "start_time": "2023-01-06T15:30:53.804Z"
   },
   {
    "duration": 9,
    "start_time": "2023-01-06T15:43:19.891Z"
   },
   {
    "duration": 3,
    "start_time": "2023-01-06T15:43:40.088Z"
   },
   {
    "duration": 72,
    "start_time": "2023-01-06T15:43:40.849Z"
   },
   {
    "duration": 3,
    "start_time": "2023-01-06T15:44:26.279Z"
   },
   {
    "duration": 13,
    "start_time": "2023-01-06T15:44:27.080Z"
   },
   {
    "duration": 3,
    "start_time": "2023-01-06T15:45:19.989Z"
   },
   {
    "duration": 13,
    "start_time": "2023-01-06T15:45:20.492Z"
   },
   {
    "duration": 10,
    "start_time": "2023-01-06T15:46:07.105Z"
   },
   {
    "duration": 3,
    "start_time": "2023-01-06T15:46:10.427Z"
   },
   {
    "duration": 20,
    "start_time": "2023-01-06T15:46:10.697Z"
   },
   {
    "duration": 12,
    "start_time": "2023-01-06T15:46:53.186Z"
   },
   {
    "duration": 3,
    "start_time": "2023-01-06T15:47:15.698Z"
   },
   {
    "duration": 13,
    "start_time": "2023-01-06T15:47:15.753Z"
   },
   {
    "duration": 372,
    "start_time": "2023-01-06T15:48:04.450Z"
   },
   {
    "duration": 128,
    "start_time": "2023-01-06T15:48:42.604Z"
   },
   {
    "duration": 3,
    "start_time": "2023-01-06T15:48:54.726Z"
   },
   {
    "duration": 121,
    "start_time": "2023-01-06T15:48:55.703Z"
   },
   {
    "duration": 3,
    "start_time": "2023-01-06T15:49:41.869Z"
   },
   {
    "duration": 224,
    "start_time": "2023-01-06T15:49:42.197Z"
   },
   {
    "duration": 4,
    "start_time": "2023-01-06T15:50:57.646Z"
   },
   {
    "duration": 129,
    "start_time": "2023-01-06T15:50:58.794Z"
   },
   {
    "duration": 4,
    "start_time": "2023-01-06T15:52:24.744Z"
   },
   {
    "duration": 131,
    "start_time": "2023-01-06T15:52:25.291Z"
   },
   {
    "duration": 3,
    "start_time": "2023-01-06T15:52:46.429Z"
   },
   {
    "duration": 156,
    "start_time": "2023-01-06T15:52:46.774Z"
   },
   {
    "duration": 4,
    "start_time": "2023-01-06T15:56:36.426Z"
   },
   {
    "duration": 21,
    "start_time": "2023-01-06T16:23:42.480Z"
   },
   {
    "duration": 4,
    "start_time": "2023-01-06T16:24:42.706Z"
   },
   {
    "duration": 169,
    "start_time": "2023-01-06T16:24:45.456Z"
   },
   {
    "duration": 5,
    "start_time": "2023-01-06T16:25:50.313Z"
   },
   {
    "duration": 361,
    "start_time": "2023-01-06T16:25:50.336Z"
   },
   {
    "duration": 9,
    "start_time": "2023-01-06T16:25:50.700Z"
   },
   {
    "duration": 15,
    "start_time": "2023-01-06T16:25:50.711Z"
   },
   {
    "duration": 8,
    "start_time": "2023-01-06T16:25:50.728Z"
   },
   {
    "duration": 7,
    "start_time": "2023-01-06T16:25:50.738Z"
   },
   {
    "duration": 23,
    "start_time": "2023-01-06T16:25:50.746Z"
   },
   {
    "duration": 2,
    "start_time": "2023-01-06T16:25:50.771Z"
   },
   {
    "duration": 6,
    "start_time": "2023-01-06T16:25:50.775Z"
   },
   {
    "duration": 7,
    "start_time": "2023-01-06T16:25:50.782Z"
   },
   {
    "duration": 5,
    "start_time": "2023-01-06T16:25:50.791Z"
   },
   {
    "duration": 228,
    "start_time": "2023-01-06T16:25:50.797Z"
   },
   {
    "duration": 106,
    "start_time": "2023-01-06T16:25:51.027Z"
   },
   {
    "duration": 188,
    "start_time": "2023-01-06T16:25:51.135Z"
   },
   {
    "duration": 17,
    "start_time": "2023-01-06T16:25:51.325Z"
   },
   {
    "duration": 19,
    "start_time": "2023-01-06T16:25:51.343Z"
   },
   {
    "duration": 59,
    "start_time": "2023-01-06T16:25:51.363Z"
   },
   {
    "duration": 107,
    "start_time": "2023-01-06T16:25:51.424Z"
   },
   {
    "duration": 9,
    "start_time": "2023-01-06T16:25:51.532Z"
   },
   {
    "duration": 78,
    "start_time": "2023-01-06T16:25:51.543Z"
   },
   {
    "duration": 98,
    "start_time": "2023-01-06T16:25:51.624Z"
   },
   {
    "duration": 7,
    "start_time": "2023-01-06T16:25:51.724Z"
   },
   {
    "duration": 9,
    "start_time": "2023-01-06T16:25:51.732Z"
   },
   {
    "duration": 7,
    "start_time": "2023-01-06T16:25:51.742Z"
   },
   {
    "duration": 5,
    "start_time": "2023-01-06T16:25:51.750Z"
   },
   {
    "duration": 25,
    "start_time": "2023-01-06T16:25:51.756Z"
   },
   {
    "duration": 3742,
    "start_time": "2023-01-06T16:25:51.783Z"
   },
   {
    "duration": 18,
    "start_time": "2023-01-06T16:27:28.178Z"
   },
   {
    "duration": 4,
    "start_time": "2023-01-06T16:27:51.056Z"
   },
   {
    "duration": 19,
    "start_time": "2023-01-06T16:27:51.332Z"
   },
   {
    "duration": 47,
    "start_time": "2023-01-06T16:28:47.204Z"
   },
   {
    "duration": 2,
    "start_time": "2023-01-06T16:28:47.669Z"
   },
   {
    "duration": 2,
    "start_time": "2023-01-06T16:28:53.461Z"
   },
   {
    "duration": 2,
    "start_time": "2023-01-06T16:29:13.069Z"
   },
   {
    "duration": 3,
    "start_time": "2023-01-06T16:29:14.838Z"
   },
   {
    "duration": 145,
    "start_time": "2023-01-06T16:29:15.979Z"
   },
   {
    "duration": 3,
    "start_time": "2023-01-06T16:31:16.363Z"
   },
   {
    "duration": 356,
    "start_time": "2023-01-06T16:31:16.368Z"
   },
   {
    "duration": 11,
    "start_time": "2023-01-06T16:31:16.726Z"
   },
   {
    "duration": 16,
    "start_time": "2023-01-06T16:31:16.739Z"
   },
   {
    "duration": 14,
    "start_time": "2023-01-06T16:31:16.758Z"
   },
   {
    "duration": 17,
    "start_time": "2023-01-06T16:31:16.774Z"
   },
   {
    "duration": 79,
    "start_time": "2023-01-06T16:31:16.794Z"
   },
   {
    "duration": 3,
    "start_time": "2023-01-06T16:31:16.875Z"
   },
   {
    "duration": 8,
    "start_time": "2023-01-06T16:31:16.880Z"
   },
   {
    "duration": 10,
    "start_time": "2023-01-06T16:31:16.890Z"
   },
   {
    "duration": 7,
    "start_time": "2023-01-06T16:31:16.901Z"
   },
   {
    "duration": 213,
    "start_time": "2023-01-06T16:31:16.909Z"
   },
   {
    "duration": 3,
    "start_time": "2023-01-06T16:31:17.125Z"
   },
   {
    "duration": 107,
    "start_time": "2023-01-06T16:31:17.131Z"
   },
   {
    "duration": 16,
    "start_time": "2023-01-06T16:31:17.239Z"
   },
   {
    "duration": 7,
    "start_time": "2023-01-06T16:31:17.257Z"
   },
   {
    "duration": 5,
    "start_time": "2023-01-06T16:31:17.265Z"
   },
   {
    "duration": 9,
    "start_time": "2023-01-06T16:31:17.271Z"
   },
   {
    "duration": 31,
    "start_time": "2023-01-06T16:31:17.281Z"
   },
   {
    "duration": 3715,
    "start_time": "2023-01-06T16:31:17.314Z"
   },
   {
    "duration": 4,
    "start_time": "2023-01-06T16:32:24.306Z"
   },
   {
    "duration": 4,
    "start_time": "2023-01-06T16:32:36.038Z"
   },
   {
    "duration": 385,
    "start_time": "2023-01-06T16:32:36.044Z"
   },
   {
    "duration": 9,
    "start_time": "2023-01-06T16:32:36.430Z"
   },
   {
    "duration": 13,
    "start_time": "2023-01-06T16:32:36.440Z"
   },
   {
    "duration": 11,
    "start_time": "2023-01-06T16:32:36.455Z"
   },
   {
    "duration": 8,
    "start_time": "2023-01-06T16:32:36.468Z"
   },
   {
    "duration": 79,
    "start_time": "2023-01-06T16:32:36.478Z"
   },
   {
    "duration": 3,
    "start_time": "2023-01-06T16:32:36.559Z"
   },
   {
    "duration": 21,
    "start_time": "2023-01-06T16:32:36.563Z"
   },
   {
    "duration": 8,
    "start_time": "2023-01-06T16:32:36.586Z"
   },
   {
    "duration": 12,
    "start_time": "2023-01-06T16:32:36.596Z"
   },
   {
    "duration": 216,
    "start_time": "2023-01-06T16:32:36.609Z"
   },
   {
    "duration": 94,
    "start_time": "2023-01-06T16:32:36.828Z"
   },
   {
    "duration": 5,
    "start_time": "2023-01-06T16:32:36.923Z"
   },
   {
    "duration": 5,
    "start_time": "2023-01-06T16:32:36.930Z"
   },
   {
    "duration": 7,
    "start_time": "2023-01-06T16:32:36.937Z"
   },
   {
    "duration": 9,
    "start_time": "2023-01-06T16:32:36.946Z"
   },
   {
    "duration": 13,
    "start_time": "2023-01-06T16:32:36.957Z"
   },
   {
    "duration": 5,
    "start_time": "2023-01-06T16:32:36.972Z"
   },
   {
    "duration": 23,
    "start_time": "2023-01-06T16:32:36.979Z"
   },
   {
    "duration": 3706,
    "start_time": "2023-01-06T16:32:37.004Z"
   },
   {
    "duration": 3,
    "start_time": "2023-01-06T16:34:39.043Z"
   },
   {
    "duration": 349,
    "start_time": "2023-01-06T16:34:39.048Z"
   },
   {
    "duration": 9,
    "start_time": "2023-01-06T16:34:39.399Z"
   },
   {
    "duration": 19,
    "start_time": "2023-01-06T16:34:39.409Z"
   },
   {
    "duration": 13,
    "start_time": "2023-01-06T16:34:39.429Z"
   },
   {
    "duration": 5,
    "start_time": "2023-01-06T16:34:39.443Z"
   },
   {
    "duration": 56,
    "start_time": "2023-01-06T16:34:39.449Z"
   },
   {
    "duration": 3,
    "start_time": "2023-01-06T16:34:39.506Z"
   },
   {
    "duration": 12,
    "start_time": "2023-01-06T16:34:39.511Z"
   },
   {
    "duration": 7,
    "start_time": "2023-01-06T16:34:39.525Z"
   },
   {
    "duration": 6,
    "start_time": "2023-01-06T16:34:39.534Z"
   },
   {
    "duration": 189,
    "start_time": "2023-01-06T16:34:39.541Z"
   },
   {
    "duration": 91,
    "start_time": "2023-01-06T16:34:39.732Z"
   },
   {
    "duration": 103,
    "start_time": "2023-01-06T16:34:39.825Z"
   },
   {
    "duration": 6,
    "start_time": "2023-01-06T16:34:39.930Z"
   },
   {
    "duration": 8,
    "start_time": "2023-01-06T16:34:39.938Z"
   },
   {
    "duration": 12,
    "start_time": "2023-01-06T16:34:39.948Z"
   },
   {
    "duration": 9,
    "start_time": "2023-01-06T16:34:39.961Z"
   },
   {
    "duration": 8,
    "start_time": "2023-01-06T16:34:39.972Z"
   },
   {
    "duration": 22,
    "start_time": "2023-01-06T16:34:39.981Z"
   },
   {
    "duration": 3719,
    "start_time": "2023-01-06T16:34:40.005Z"
   },
   {
    "duration": 3,
    "start_time": "2023-01-06T16:35:46.028Z"
   },
   {
    "duration": 4,
    "start_time": "2023-01-06T16:35:50.191Z"
   },
   {
    "duration": 359,
    "start_time": "2023-01-06T16:35:50.213Z"
   },
   {
    "duration": 9,
    "start_time": "2023-01-06T16:35:50.574Z"
   },
   {
    "duration": 23,
    "start_time": "2023-01-06T16:35:50.584Z"
   },
   {
    "duration": 15,
    "start_time": "2023-01-06T16:35:50.609Z"
   },
   {
    "duration": 5,
    "start_time": "2023-01-06T16:35:50.626Z"
   },
   {
    "duration": 52,
    "start_time": "2023-01-06T16:35:50.633Z"
   },
   {
    "duration": 11,
    "start_time": "2023-01-06T16:35:50.687Z"
   },
   {
    "duration": 21,
    "start_time": "2023-01-06T16:35:50.699Z"
   },
   {
    "duration": 6,
    "start_time": "2023-01-06T16:35:50.722Z"
   },
   {
    "duration": 5,
    "start_time": "2023-01-06T16:35:50.730Z"
   },
   {
    "duration": 190,
    "start_time": "2023-01-06T16:35:50.736Z"
   },
   {
    "duration": 5,
    "start_time": "2023-01-06T16:35:50.928Z"
   },
   {
    "duration": 105,
    "start_time": "2023-01-06T16:35:51.021Z"
   },
   {
    "duration": 7,
    "start_time": "2023-01-06T16:35:51.129Z"
   },
   {
    "duration": 7,
    "start_time": "2023-01-06T16:35:51.137Z"
   },
   {
    "duration": 19,
    "start_time": "2023-01-06T16:35:51.146Z"
   },
   {
    "duration": 12,
    "start_time": "2023-01-06T16:35:51.167Z"
   },
   {
    "duration": 17,
    "start_time": "2023-01-06T16:35:51.180Z"
   },
   {
    "duration": 26,
    "start_time": "2023-01-06T16:35:51.198Z"
   },
   {
    "duration": 3807,
    "start_time": "2023-01-06T16:35:51.225Z"
   },
   {
    "duration": 4,
    "start_time": "2023-01-06T16:36:46.707Z"
   },
   {
    "duration": 346,
    "start_time": "2023-01-06T16:36:46.713Z"
   },
   {
    "duration": 11,
    "start_time": "2023-01-06T16:36:47.061Z"
   },
   {
    "duration": 15,
    "start_time": "2023-01-06T16:36:47.074Z"
   },
   {
    "duration": 10,
    "start_time": "2023-01-06T16:36:47.091Z"
   },
   {
    "duration": 19,
    "start_time": "2023-01-06T16:36:47.102Z"
   },
   {
    "duration": 63,
    "start_time": "2023-01-06T16:36:47.123Z"
   },
   {
    "duration": 2,
    "start_time": "2023-01-06T16:36:47.188Z"
   },
   {
    "duration": 8,
    "start_time": "2023-01-06T16:36:47.192Z"
   },
   {
    "duration": 6,
    "start_time": "2023-01-06T16:36:47.202Z"
   },
   {
    "duration": 10,
    "start_time": "2023-01-06T16:36:47.212Z"
   },
   {
    "duration": 201,
    "start_time": "2023-01-06T16:36:47.224Z"
   },
   {
    "duration": 97,
    "start_time": "2023-01-06T16:36:47.427Z"
   },
   {
    "duration": 6,
    "start_time": "2023-01-06T16:36:47.525Z"
   },
   {
    "duration": 6,
    "start_time": "2023-01-06T16:36:47.533Z"
   },
   {
    "duration": 6,
    "start_time": "2023-01-06T16:36:47.541Z"
   },
   {
    "duration": 6,
    "start_time": "2023-01-06T16:36:47.549Z"
   },
   {
    "duration": 5,
    "start_time": "2023-01-06T16:36:47.557Z"
   },
   {
    "duration": 11,
    "start_time": "2023-01-06T16:36:47.564Z"
   },
   {
    "duration": 58,
    "start_time": "2023-01-06T16:36:47.578Z"
   },
   {
    "duration": 3912,
    "start_time": "2023-01-06T16:36:47.638Z"
   },
   {
    "duration": 1260,
    "start_time": "2023-01-06T16:37:10.955Z"
   },
   {
    "duration": 370,
    "start_time": "2023-01-06T16:37:12.217Z"
   },
   {
    "duration": 18,
    "start_time": "2023-01-06T16:37:12.589Z"
   },
   {
    "duration": 14,
    "start_time": "2023-01-06T16:37:12.609Z"
   },
   {
    "duration": 11,
    "start_time": "2023-01-06T16:37:12.625Z"
   },
   {
    "duration": 9,
    "start_time": "2023-01-06T16:37:12.637Z"
   },
   {
    "duration": 113,
    "start_time": "2023-01-06T16:37:12.647Z"
   },
   {
    "duration": 1,
    "start_time": "2023-01-06T16:37:12.761Z"
   },
   {
    "duration": 0,
    "start_time": "2023-01-06T16:37:12.763Z"
   },
   {
    "duration": 0,
    "start_time": "2023-01-06T16:37:12.764Z"
   },
   {
    "duration": 0,
    "start_time": "2023-01-06T16:37:12.765Z"
   },
   {
    "duration": 0,
    "start_time": "2023-01-06T16:37:12.766Z"
   },
   {
    "duration": 0,
    "start_time": "2023-01-06T16:37:12.767Z"
   },
   {
    "duration": 0,
    "start_time": "2023-01-06T16:37:12.768Z"
   },
   {
    "duration": 0,
    "start_time": "2023-01-06T16:37:12.769Z"
   },
   {
    "duration": 0,
    "start_time": "2023-01-06T16:37:12.771Z"
   },
   {
    "duration": 0,
    "start_time": "2023-01-06T16:37:12.772Z"
   },
   {
    "duration": 0,
    "start_time": "2023-01-06T16:37:12.773Z"
   },
   {
    "duration": 0,
    "start_time": "2023-01-06T16:37:12.774Z"
   },
   {
    "duration": 0,
    "start_time": "2023-01-06T16:37:12.776Z"
   },
   {
    "duration": 0,
    "start_time": "2023-01-06T16:37:12.777Z"
   },
   {
    "duration": 9,
    "start_time": "2023-01-06T16:38:21.368Z"
   },
   {
    "duration": 4,
    "start_time": "2023-01-06T16:38:28.856Z"
   },
   {
    "duration": 31,
    "start_time": "2023-01-06T16:38:29.335Z"
   },
   {
    "duration": 56,
    "start_time": "2023-01-06T16:38:40.724Z"
   },
   {
    "duration": 2,
    "start_time": "2023-01-06T16:38:44.199Z"
   },
   {
    "duration": 3,
    "start_time": "2023-01-06T16:38:44.492Z"
   },
   {
    "duration": 3,
    "start_time": "2023-01-06T16:38:44.810Z"
   },
   {
    "duration": 5,
    "start_time": "2023-01-06T16:38:46.200Z"
   },
   {
    "duration": 13,
    "start_time": "2023-01-06T16:38:47.443Z"
   },
   {
    "duration": 6,
    "start_time": "2023-01-06T16:41:15.340Z"
   },
   {
    "duration": 179,
    "start_time": "2023-01-06T16:41:16.448Z"
   },
   {
    "duration": 4,
    "start_time": "2023-01-06T16:41:20.005Z"
   },
   {
    "duration": 10,
    "start_time": "2023-01-06T16:41:20.724Z"
   },
   {
    "duration": 2,
    "start_time": "2023-01-06T17:12:54.221Z"
   },
   {
    "duration": 24,
    "start_time": "2023-01-06T17:12:54.556Z"
   },
   {
    "duration": 24,
    "start_time": "2023-01-06T17:13:18.353Z"
   },
   {
    "duration": 22,
    "start_time": "2023-01-06T17:13:18.869Z"
   },
   {
    "duration": 3,
    "start_time": "2023-01-06T17:13:27.343Z"
   },
   {
    "duration": 201,
    "start_time": "2023-01-06T17:13:27.824Z"
   },
   {
    "duration": 8,
    "start_time": "2023-01-06T17:13:32.408Z"
   },
   {
    "duration": 4,
    "start_time": "2023-01-06T17:15:20.506Z"
   },
   {
    "duration": 28,
    "start_time": "2023-01-06T17:15:21.202Z"
   },
   {
    "duration": 4,
    "start_time": "2023-01-06T17:17:07.909Z"
   },
   {
    "duration": 167,
    "start_time": "2023-01-06T17:17:16.155Z"
   },
   {
    "duration": 51,
    "start_time": "2023-01-06T17:42:55.780Z"
   },
   {
    "duration": 4,
    "start_time": "2023-01-06T17:44:26.708Z"
   },
   {
    "duration": 3,
    "start_time": "2023-01-06T17:45:06.052Z"
   },
   {
    "duration": 339,
    "start_time": "2023-01-06T17:45:06.070Z"
   },
   {
    "duration": 10,
    "start_time": "2023-01-06T17:45:06.411Z"
   },
   {
    "duration": 22,
    "start_time": "2023-01-06T17:45:06.423Z"
   },
   {
    "duration": 20,
    "start_time": "2023-01-06T17:45:06.446Z"
   },
   {
    "duration": 9,
    "start_time": "2023-01-06T17:45:06.468Z"
   },
   {
    "duration": 10,
    "start_time": "2023-01-06T17:45:06.479Z"
   },
   {
    "duration": 7,
    "start_time": "2023-01-06T17:45:06.490Z"
   },
   {
    "duration": 6,
    "start_time": "2023-01-06T17:45:06.499Z"
   },
   {
    "duration": 9,
    "start_time": "2023-01-06T17:45:06.506Z"
   },
   {
    "duration": 7,
    "start_time": "2023-01-06T17:45:06.516Z"
   },
   {
    "duration": 24,
    "start_time": "2023-01-06T17:45:06.524Z"
   },
   {
    "duration": 81,
    "start_time": "2023-01-06T17:45:06.549Z"
   },
   {
    "duration": 0,
    "start_time": "2023-01-06T17:45:06.634Z"
   },
   {
    "duration": 0,
    "start_time": "2023-01-06T17:45:06.635Z"
   },
   {
    "duration": 0,
    "start_time": "2023-01-06T17:45:06.636Z"
   },
   {
    "duration": 0,
    "start_time": "2023-01-06T17:45:06.637Z"
   },
   {
    "duration": 0,
    "start_time": "2023-01-06T17:45:06.638Z"
   },
   {
    "duration": 82,
    "start_time": "2023-01-06T17:45:06.638Z"
   },
   {
    "duration": 0,
    "start_time": "2023-01-06T17:45:06.722Z"
   },
   {
    "duration": 0,
    "start_time": "2023-01-06T17:45:06.723Z"
   },
   {
    "duration": 0,
    "start_time": "2023-01-06T17:45:06.725Z"
   },
   {
    "duration": 6,
    "start_time": "2023-01-06T17:46:44.772Z"
   },
   {
    "duration": 400,
    "start_time": "2023-01-06T17:46:45.536Z"
   },
   {
    "duration": 1265,
    "start_time": "2023-01-06T17:47:06.087Z"
   },
   {
    "duration": 346,
    "start_time": "2023-01-06T17:47:07.354Z"
   },
   {
    "duration": 14,
    "start_time": "2023-01-06T17:47:07.701Z"
   },
   {
    "duration": 10,
    "start_time": "2023-01-06T17:47:07.716Z"
   },
   {
    "duration": 10,
    "start_time": "2023-01-06T17:47:07.728Z"
   },
   {
    "duration": 6,
    "start_time": "2023-01-06T17:47:07.739Z"
   },
   {
    "duration": 7,
    "start_time": "2023-01-06T17:47:07.747Z"
   },
   {
    "duration": 7,
    "start_time": "2023-01-06T17:47:07.755Z"
   },
   {
    "duration": 8,
    "start_time": "2023-01-06T17:47:07.764Z"
   },
   {
    "duration": 109,
    "start_time": "2023-01-06T17:47:07.774Z"
   },
   {
    "duration": 0,
    "start_time": "2023-01-06T17:47:07.885Z"
   },
   {
    "duration": 0,
    "start_time": "2023-01-06T17:47:07.886Z"
   },
   {
    "duration": 0,
    "start_time": "2023-01-06T17:47:07.887Z"
   },
   {
    "duration": 0,
    "start_time": "2023-01-06T17:47:07.887Z"
   },
   {
    "duration": 0,
    "start_time": "2023-01-06T17:47:07.889Z"
   },
   {
    "duration": 0,
    "start_time": "2023-01-06T17:47:07.889Z"
   },
   {
    "duration": 0,
    "start_time": "2023-01-06T17:47:07.890Z"
   },
   {
    "duration": 0,
    "start_time": "2023-01-06T17:47:07.892Z"
   },
   {
    "duration": 0,
    "start_time": "2023-01-06T17:47:07.892Z"
   },
   {
    "duration": 0,
    "start_time": "2023-01-06T17:47:07.893Z"
   },
   {
    "duration": 0,
    "start_time": "2023-01-06T17:47:07.894Z"
   },
   {
    "duration": 0,
    "start_time": "2023-01-06T17:47:07.895Z"
   },
   {
    "duration": 3,
    "start_time": "2023-01-06T17:47:25.958Z"
   },
   {
    "duration": 351,
    "start_time": "2023-01-06T17:47:25.963Z"
   },
   {
    "duration": 8,
    "start_time": "2023-01-06T17:47:26.315Z"
   },
   {
    "duration": 11,
    "start_time": "2023-01-06T17:47:26.325Z"
   },
   {
    "duration": 12,
    "start_time": "2023-01-06T17:47:26.337Z"
   },
   {
    "duration": 7,
    "start_time": "2023-01-06T17:47:26.350Z"
   },
   {
    "duration": 4,
    "start_time": "2023-01-06T17:47:26.358Z"
   },
   {
    "duration": 5,
    "start_time": "2023-01-06T17:47:26.364Z"
   },
   {
    "duration": 4,
    "start_time": "2023-01-06T17:47:26.371Z"
   },
   {
    "duration": 6,
    "start_time": "2023-01-06T17:47:26.376Z"
   },
   {
    "duration": 32,
    "start_time": "2023-01-06T17:47:26.383Z"
   },
   {
    "duration": 12,
    "start_time": "2023-01-06T17:47:26.416Z"
   },
   {
    "duration": 13,
    "start_time": "2023-01-06T17:47:26.429Z"
   },
   {
    "duration": 0,
    "start_time": "2023-01-06T17:47:26.444Z"
   },
   {
    "duration": 0,
    "start_time": "2023-01-06T17:47:26.445Z"
   },
   {
    "duration": 0,
    "start_time": "2023-01-06T17:47:26.446Z"
   },
   {
    "duration": 0,
    "start_time": "2023-01-06T17:47:26.447Z"
   },
   {
    "duration": 0,
    "start_time": "2023-01-06T17:47:26.448Z"
   },
   {
    "duration": 0,
    "start_time": "2023-01-06T17:47:26.449Z"
   },
   {
    "duration": 0,
    "start_time": "2023-01-06T17:47:26.450Z"
   },
   {
    "duration": 1,
    "start_time": "2023-01-06T17:47:26.450Z"
   },
   {
    "duration": 0,
    "start_time": "2023-01-06T17:47:26.452Z"
   },
   {
    "duration": 6,
    "start_time": "2023-01-06T17:49:05.332Z"
   },
   {
    "duration": 9,
    "start_time": "2023-01-06T17:49:06.528Z"
   },
   {
    "duration": 4,
    "start_time": "2023-01-06T17:49:21.231Z"
   },
   {
    "duration": 10,
    "start_time": "2023-01-06T17:49:21.624Z"
   },
   {
    "duration": 10,
    "start_time": "2023-01-06T17:51:21.823Z"
   },
   {
    "duration": 4,
    "start_time": "2023-01-06T17:58:24.211Z"
   },
   {
    "duration": 12,
    "start_time": "2023-01-06T17:58:24.680Z"
   },
   {
    "duration": 4,
    "start_time": "2023-01-06T17:59:54.373Z"
   },
   {
    "duration": 9,
    "start_time": "2023-01-06T17:59:54.806Z"
   },
   {
    "duration": 9,
    "start_time": "2023-01-06T18:00:24.964Z"
   },
   {
    "duration": 10,
    "start_time": "2023-01-06T18:00:58.966Z"
   },
   {
    "duration": 3,
    "start_time": "2023-01-06T18:01:14.407Z"
   },
   {
    "duration": 351,
    "start_time": "2023-01-06T18:01:14.412Z"
   },
   {
    "duration": 10,
    "start_time": "2023-01-06T18:01:14.765Z"
   },
   {
    "duration": 17,
    "start_time": "2023-01-06T18:01:14.777Z"
   },
   {
    "duration": 14,
    "start_time": "2023-01-06T18:01:14.796Z"
   },
   {
    "duration": 13,
    "start_time": "2023-01-06T18:01:14.812Z"
   },
   {
    "duration": 23,
    "start_time": "2023-01-06T18:01:14.826Z"
   },
   {
    "duration": 21,
    "start_time": "2023-01-06T18:01:14.850Z"
   },
   {
    "duration": 20,
    "start_time": "2023-01-06T18:01:14.873Z"
   },
   {
    "duration": 4,
    "start_time": "2023-01-06T18:01:14.894Z"
   },
   {
    "duration": 10,
    "start_time": "2023-01-06T18:01:14.899Z"
   },
   {
    "duration": 3,
    "start_time": "2023-01-06T18:01:14.921Z"
   },
   {
    "duration": 21,
    "start_time": "2023-01-06T18:01:14.925Z"
   },
   {
    "duration": 174,
    "start_time": "2023-01-06T18:01:14.948Z"
   },
   {
    "duration": 10,
    "start_time": "2023-01-06T18:01:15.124Z"
   },
   {
    "duration": 12,
    "start_time": "2023-01-06T18:01:15.136Z"
   },
   {
    "duration": 0,
    "start_time": "2023-01-06T18:01:15.149Z"
   },
   {
    "duration": 0,
    "start_time": "2023-01-06T18:01:15.151Z"
   },
   {
    "duration": 0,
    "start_time": "2023-01-06T18:01:15.152Z"
   },
   {
    "duration": 0,
    "start_time": "2023-01-06T18:01:15.153Z"
   },
   {
    "duration": 305,
    "start_time": "2023-01-06T18:05:12.819Z"
   },
   {
    "duration": 4,
    "start_time": "2023-01-06T18:09:25.283Z"
   },
   {
    "duration": 360,
    "start_time": "2023-01-06T18:09:25.289Z"
   },
   {
    "duration": 8,
    "start_time": "2023-01-06T18:09:25.650Z"
   },
   {
    "duration": 10,
    "start_time": "2023-01-06T18:09:25.660Z"
   },
   {
    "duration": 15,
    "start_time": "2023-01-06T18:09:25.672Z"
   },
   {
    "duration": 5,
    "start_time": "2023-01-06T18:09:25.689Z"
   },
   {
    "duration": 27,
    "start_time": "2023-01-06T18:09:25.696Z"
   },
   {
    "duration": 20,
    "start_time": "2023-01-06T18:09:25.725Z"
   },
   {
    "duration": 21,
    "start_time": "2023-01-06T18:09:25.748Z"
   },
   {
    "duration": 4,
    "start_time": "2023-01-06T18:09:25.770Z"
   },
   {
    "duration": 6,
    "start_time": "2023-01-06T18:09:25.776Z"
   },
   {
    "duration": 28,
    "start_time": "2023-01-06T18:09:25.784Z"
   },
   {
    "duration": 216,
    "start_time": "2023-01-06T18:09:25.813Z"
   },
   {
    "duration": 190,
    "start_time": "2023-01-06T18:09:26.031Z"
   },
   {
    "duration": 3,
    "start_time": "2023-01-06T18:09:26.223Z"
   },
   {
    "duration": 9,
    "start_time": "2023-01-06T18:09:26.228Z"
   },
   {
    "duration": 6,
    "start_time": "2023-01-06T18:09:26.239Z"
   },
   {
    "duration": 6,
    "start_time": "2023-01-06T18:09:26.246Z"
   },
   {
    "duration": 24,
    "start_time": "2023-01-06T18:09:26.253Z"
   },
   {
    "duration": 3613,
    "start_time": "2023-01-06T18:09:26.279Z"
   },
   {
    "duration": 1548,
    "start_time": "2023-01-07T21:16:56.698Z"
   },
   {
    "duration": 1736,
    "start_time": "2023-01-07T21:16:58.249Z"
   },
   {
    "duration": 17,
    "start_time": "2023-01-07T21:16:59.987Z"
   },
   {
    "duration": 13,
    "start_time": "2023-01-07T21:17:00.005Z"
   },
   {
    "duration": 26,
    "start_time": "2023-01-07T21:17:00.020Z"
   },
   {
    "duration": 8,
    "start_time": "2023-01-07T21:17:00.047Z"
   },
   {
    "duration": 24,
    "start_time": "2023-01-07T21:17:00.057Z"
   },
   {
    "duration": 24,
    "start_time": "2023-01-07T21:17:00.082Z"
   },
   {
    "duration": 28,
    "start_time": "2023-01-07T21:17:00.113Z"
   },
   {
    "duration": 10,
    "start_time": "2023-01-07T21:17:00.143Z"
   },
   {
    "duration": 8,
    "start_time": "2023-01-07T21:17:00.155Z"
   },
   {
    "duration": 8,
    "start_time": "2023-01-07T21:17:00.165Z"
   },
   {
    "duration": 264,
    "start_time": "2023-01-07T21:17:00.174Z"
   },
   {
    "duration": 3,
    "start_time": "2023-01-07T21:17:00.442Z"
   },
   {
    "duration": 43,
    "start_time": "2023-01-07T21:17:00.520Z"
   },
   {
    "duration": 82,
    "start_time": "2023-01-07T21:17:00.565Z"
   },
   {
    "duration": 38,
    "start_time": "2023-01-07T21:17:00.649Z"
   },
   {
    "duration": 14,
    "start_time": "2023-01-07T21:17:00.689Z"
   },
   {
    "duration": 48,
    "start_time": "2023-01-07T21:17:00.704Z"
   },
   {
    "duration": 3692,
    "start_time": "2023-01-07T21:17:00.755Z"
   },
   {
    "duration": 1442,
    "start_time": "2023-01-07T22:34:31.446Z"
   },
   {
    "duration": 403,
    "start_time": "2023-01-07T22:34:32.891Z"
   },
   {
    "duration": 14,
    "start_time": "2023-01-07T22:34:33.296Z"
   },
   {
    "duration": 10,
    "start_time": "2023-01-07T22:34:33.314Z"
   },
   {
    "duration": 32,
    "start_time": "2023-01-07T22:34:33.327Z"
   },
   {
    "duration": 13,
    "start_time": "2023-01-07T22:34:33.361Z"
   },
   {
    "duration": 24,
    "start_time": "2023-01-07T22:34:33.376Z"
   },
   {
    "duration": 24,
    "start_time": "2023-01-07T22:34:33.403Z"
   },
   {
    "duration": 43,
    "start_time": "2023-01-07T22:34:33.430Z"
   },
   {
    "duration": 4,
    "start_time": "2023-01-07T22:34:33.476Z"
   },
   {
    "duration": 10,
    "start_time": "2023-01-07T22:34:33.483Z"
   },
   {
    "duration": 6,
    "start_time": "2023-01-07T22:34:33.495Z"
   },
   {
    "duration": 348,
    "start_time": "2023-01-07T22:34:33.503Z"
   },
   {
    "duration": 3,
    "start_time": "2023-01-07T22:34:33.854Z"
   },
   {
    "duration": 100,
    "start_time": "2023-01-07T22:34:33.859Z"
   },
   {
    "duration": 13,
    "start_time": "2023-01-07T22:34:33.961Z"
   },
   {
    "duration": 4,
    "start_time": "2023-01-07T22:34:33.975Z"
   },
   {
    "duration": 5,
    "start_time": "2023-01-07T22:34:33.981Z"
   },
   {
    "duration": 48,
    "start_time": "2023-01-07T22:34:33.987Z"
   },
   {
    "duration": 9268,
    "start_time": "2023-01-07T22:34:34.051Z"
   },
   {
    "duration": 109,
    "start_time": "2023-01-07T22:37:33.325Z"
   },
   {
    "duration": 5,
    "start_time": "2023-01-07T22:37:48.260Z"
   },
   {
    "duration": 10,
    "start_time": "2023-01-07T22:38:05.504Z"
   },
   {
    "duration": 12,
    "start_time": "2023-01-07T22:40:58.685Z"
   },
   {
    "duration": 11,
    "start_time": "2023-01-07T22:41:03.609Z"
   },
   {
    "duration": 11,
    "start_time": "2023-01-07T22:41:16.835Z"
   },
   {
    "duration": 12,
    "start_time": "2023-01-07T22:42:50.383Z"
   },
   {
    "duration": 9,
    "start_time": "2023-01-07T22:43:07.245Z"
   },
   {
    "duration": 1446,
    "start_time": "2023-01-07T22:47:29.040Z"
   },
   {
    "duration": 420,
    "start_time": "2023-01-07T22:47:30.489Z"
   },
   {
    "duration": 14,
    "start_time": "2023-01-07T22:47:30.911Z"
   },
   {
    "duration": 21,
    "start_time": "2023-01-07T22:47:30.929Z"
   },
   {
    "duration": 41,
    "start_time": "2023-01-07T22:47:30.953Z"
   },
   {
    "duration": 29,
    "start_time": "2023-01-07T22:47:30.996Z"
   },
   {
    "duration": 44,
    "start_time": "2023-01-07T22:47:31.027Z"
   },
   {
    "duration": 28,
    "start_time": "2023-01-07T22:47:31.073Z"
   },
   {
    "duration": 26,
    "start_time": "2023-01-07T22:47:31.103Z"
   },
   {
    "duration": 4,
    "start_time": "2023-01-07T22:47:31.151Z"
   },
   {
    "duration": 36,
    "start_time": "2023-01-07T22:47:31.157Z"
   },
   {
    "duration": 27,
    "start_time": "2023-01-07T22:47:31.195Z"
   },
   {
    "duration": 336,
    "start_time": "2023-01-07T22:47:31.224Z"
   },
   {
    "duration": 92,
    "start_time": "2023-01-07T22:47:31.561Z"
   },
   {
    "duration": 96,
    "start_time": "2023-01-07T22:47:31.656Z"
   },
   {
    "duration": 14,
    "start_time": "2023-01-07T22:47:31.753Z"
   },
   {
    "duration": 11,
    "start_time": "2023-01-07T22:47:31.768Z"
   },
   {
    "duration": 6,
    "start_time": "2023-01-07T22:47:31.781Z"
   },
   {
    "duration": 16,
    "start_time": "2023-01-07T22:47:31.788Z"
   },
   {
    "duration": 10,
    "start_time": "2023-01-07T22:47:31.806Z"
   },
   {
    "duration": 9,
    "start_time": "2023-01-07T22:47:31.817Z"
   },
   {
    "duration": 21,
    "start_time": "2023-01-07T22:47:31.851Z"
   },
   {
    "duration": 4006,
    "start_time": "2023-01-07T22:47:31.874Z"
   },
   {
    "duration": 1404,
    "start_time": "2023-01-07T22:49:12.362Z"
   },
   {
    "duration": 399,
    "start_time": "2023-01-07T22:49:13.768Z"
   },
   {
    "duration": 16,
    "start_time": "2023-01-07T22:49:14.170Z"
   },
   {
    "duration": 9,
    "start_time": "2023-01-07T22:49:14.188Z"
   },
   {
    "duration": 11,
    "start_time": "2023-01-07T22:49:14.199Z"
   },
   {
    "duration": 6,
    "start_time": "2023-01-07T22:49:14.212Z"
   },
   {
    "duration": 45,
    "start_time": "2023-01-07T22:49:14.220Z"
   },
   {
    "duration": 23,
    "start_time": "2023-01-07T22:49:14.267Z"
   },
   {
    "duration": 24,
    "start_time": "2023-01-07T22:49:14.292Z"
   },
   {
    "duration": 3,
    "start_time": "2023-01-07T22:49:14.318Z"
   },
   {
    "duration": 28,
    "start_time": "2023-01-07T22:49:14.323Z"
   },
   {
    "duration": 16,
    "start_time": "2023-01-07T22:49:14.353Z"
   },
   {
    "duration": 284,
    "start_time": "2023-01-07T22:49:14.370Z"
   },
   {
    "duration": 94,
    "start_time": "2023-01-07T22:49:14.657Z"
   },
   {
    "duration": 5,
    "start_time": "2023-01-07T22:49:14.753Z"
   },
   {
    "duration": 10,
    "start_time": "2023-01-07T22:49:14.759Z"
   },
   {
    "duration": 6,
    "start_time": "2023-01-07T22:49:14.771Z"
   },
   {
    "duration": 6,
    "start_time": "2023-01-07T22:49:14.778Z"
   },
   {
    "duration": 16,
    "start_time": "2023-01-07T22:49:14.785Z"
   },
   {
    "duration": 10,
    "start_time": "2023-01-07T22:49:14.802Z"
   },
   {
    "duration": 42,
    "start_time": "2023-01-07T22:49:14.814Z"
   },
   {
    "duration": 22,
    "start_time": "2023-01-07T22:49:14.857Z"
   },
   {
    "duration": 4065,
    "start_time": "2023-01-07T22:49:14.881Z"
   },
   {
    "duration": 1638,
    "start_time": "2023-01-09T14:01:57.196Z"
   },
   {
    "duration": 1871,
    "start_time": "2023-01-09T14:01:58.836Z"
   },
   {
    "duration": 22,
    "start_time": "2023-01-09T14:02:00.711Z"
   },
   {
    "duration": 69,
    "start_time": "2023-01-09T14:02:00.736Z"
   },
   {
    "duration": 72,
    "start_time": "2023-01-09T14:02:00.808Z"
   },
   {
    "duration": 53,
    "start_time": "2023-01-09T14:02:00.883Z"
   },
   {
    "duration": 80,
    "start_time": "2023-01-09T14:02:00.938Z"
   },
   {
    "duration": 70,
    "start_time": "2023-01-09T14:02:01.020Z"
   },
   {
    "duration": 93,
    "start_time": "2023-01-09T14:02:01.091Z"
   },
   {
    "duration": 67,
    "start_time": "2023-01-09T14:02:01.186Z"
   },
   {
    "duration": 85,
    "start_time": "2023-01-09T14:02:01.254Z"
   },
   {
    "duration": 19,
    "start_time": "2023-01-09T14:02:01.341Z"
   },
   {
    "duration": 275,
    "start_time": "2023-01-09T14:02:01.362Z"
   },
   {
    "duration": 77,
    "start_time": "2023-01-09T14:02:01.640Z"
   },
   {
    "duration": 25,
    "start_time": "2023-01-09T14:02:01.723Z"
   },
   {
    "duration": 63,
    "start_time": "2023-01-09T14:02:01.750Z"
   },
   {
    "duration": 27,
    "start_time": "2023-01-09T14:02:01.815Z"
   },
   {
    "duration": 18,
    "start_time": "2023-01-09T14:02:01.844Z"
   },
   {
    "duration": 17,
    "start_time": "2023-01-09T14:02:01.863Z"
   },
   {
    "duration": 13,
    "start_time": "2023-01-09T14:02:01.882Z"
   },
   {
    "duration": 18,
    "start_time": "2023-01-09T14:02:01.897Z"
   },
   {
    "duration": 43,
    "start_time": "2023-01-09T14:02:01.917Z"
   },
   {
    "duration": 4432,
    "start_time": "2023-01-09T14:02:01.962Z"
   },
   {
    "duration": 109,
    "start_time": "2023-01-09T14:02:19.187Z"
   },
   {
    "duration": 56,
    "start_time": "2023-01-09T14:03:36.195Z"
   },
   {
    "duration": 52,
    "start_time": "2023-01-09T14:03:42.695Z"
   },
   {
    "duration": 100,
    "start_time": "2023-01-09T14:04:20.965Z"
   },
   {
    "duration": 50,
    "start_time": "2023-01-09T14:04:34.064Z"
   },
   {
    "duration": 52,
    "start_time": "2023-01-09T14:04:44.539Z"
   },
   {
    "duration": 19,
    "start_time": "2023-01-09T14:05:37.917Z"
   },
   {
    "duration": 15,
    "start_time": "2023-01-09T14:06:39.632Z"
   },
   {
    "duration": 15,
    "start_time": "2023-01-09T14:07:11.557Z"
   },
   {
    "duration": 45,
    "start_time": "2023-01-09T14:07:42.829Z"
   },
   {
    "duration": 11,
    "start_time": "2023-01-09T14:08:52.190Z"
   },
   {
    "duration": 30,
    "start_time": "2023-01-09T14:08:57.499Z"
   },
   {
    "duration": 64,
    "start_time": "2023-01-09T14:09:14.336Z"
   },
   {
    "duration": 40,
    "start_time": "2023-01-09T14:09:22.023Z"
   },
   {
    "duration": 3,
    "start_time": "2023-01-09T14:12:04.870Z"
   },
   {
    "duration": 383,
    "start_time": "2023-01-09T14:12:04.876Z"
   },
   {
    "duration": 12,
    "start_time": "2023-01-09T14:12:05.261Z"
   },
   {
    "duration": 16,
    "start_time": "2023-01-09T14:12:05.275Z"
   },
   {
    "duration": 11,
    "start_time": "2023-01-09T14:12:05.293Z"
   },
   {
    "duration": 54,
    "start_time": "2023-01-09T14:12:05.306Z"
   },
   {
    "duration": 82,
    "start_time": "2023-01-09T14:12:05.361Z"
   },
   {
    "duration": 37,
    "start_time": "2023-01-09T14:12:05.445Z"
   },
   {
    "duration": 5,
    "start_time": "2023-01-09T14:12:05.483Z"
   },
   {
    "duration": 44,
    "start_time": "2023-01-09T14:12:05.490Z"
   },
   {
    "duration": 23,
    "start_time": "2023-01-09T14:12:05.536Z"
   },
   {
    "duration": 23,
    "start_time": "2023-01-09T14:12:05.560Z"
   },
   {
    "duration": 3,
    "start_time": "2023-01-09T14:12:05.585Z"
   },
   {
    "duration": 30,
    "start_time": "2023-01-09T14:12:05.613Z"
   },
   {
    "duration": 5,
    "start_time": "2023-01-09T14:12:05.644Z"
   },
   {
    "duration": 167,
    "start_time": "2023-01-09T14:12:05.651Z"
   },
   {
    "duration": 108,
    "start_time": "2023-01-09T14:12:05.820Z"
   },
   {
    "duration": 11,
    "start_time": "2023-01-09T14:12:05.930Z"
   },
   {
    "duration": 34,
    "start_time": "2023-01-09T14:12:05.943Z"
   },
   {
    "duration": 32,
    "start_time": "2023-01-09T14:12:05.978Z"
   },
   {
    "duration": 31,
    "start_time": "2023-01-09T14:12:06.011Z"
   },
   {
    "duration": 32,
    "start_time": "2023-01-09T14:12:06.043Z"
   },
   {
    "duration": 24,
    "start_time": "2023-01-09T14:12:06.077Z"
   },
   {
    "duration": 36,
    "start_time": "2023-01-09T14:12:06.103Z"
   },
   {
    "duration": 25,
    "start_time": "2023-01-09T14:12:06.141Z"
   },
   {
    "duration": 4236,
    "start_time": "2023-01-09T14:12:06.168Z"
   },
   {
    "duration": 71,
    "start_time": "2023-01-09T14:27:05.184Z"
   },
   {
    "duration": 3,
    "start_time": "2023-01-09T14:27:10.107Z"
   },
   {
    "duration": 3,
    "start_time": "2023-01-09T14:28:01.820Z"
   },
   {
    "duration": 10,
    "start_time": "2023-01-09T14:28:02.727Z"
   },
   {
    "duration": 10,
    "start_time": "2023-01-09T14:28:05.766Z"
   },
   {
    "duration": 8,
    "start_time": "2023-01-09T14:28:05.778Z"
   },
   {
    "duration": 19,
    "start_time": "2023-01-09T14:28:05.788Z"
   },
   {
    "duration": 3958,
    "start_time": "2023-01-09T14:28:05.809Z"
   },
   {
    "duration": 4,
    "start_time": "2023-01-09T14:28:22.402Z"
   },
   {
    "duration": 10,
    "start_time": "2023-01-09T14:28:22.837Z"
   },
   {
    "duration": 11,
    "start_time": "2023-01-09T14:28:23.262Z"
   },
   {
    "duration": 11,
    "start_time": "2023-01-09T14:28:23.690Z"
   },
   {
    "duration": 24,
    "start_time": "2023-01-09T14:28:24.955Z"
   },
   {
    "duration": 4038,
    "start_time": "2023-01-09T14:28:26.604Z"
   },
   {
    "duration": 3,
    "start_time": "2023-01-09T14:31:34.044Z"
   },
   {
    "duration": 10,
    "start_time": "2023-01-09T14:31:35.095Z"
   },
   {
    "duration": 11,
    "start_time": "2023-01-09T14:31:36.311Z"
   },
   {
    "duration": 9,
    "start_time": "2023-01-09T14:31:37.826Z"
   },
   {
    "duration": 16,
    "start_time": "2023-01-09T14:31:39.530Z"
   },
   {
    "duration": 3467,
    "start_time": "2023-01-09T14:31:41.891Z"
   },
   {
    "duration": 11,
    "start_time": "2023-01-09T14:32:11.763Z"
   },
   {
    "duration": 8,
    "start_time": "2023-01-09T14:32:12.875Z"
   },
   {
    "duration": 18,
    "start_time": "2023-01-09T14:34:56.026Z"
   },
   {
    "duration": 16,
    "start_time": "2023-01-09T14:37:06.434Z"
   },
   {
    "duration": 9,
    "start_time": "2023-01-09T14:37:12.678Z"
   },
   {
    "duration": 3,
    "start_time": "2023-01-09T14:37:48.260Z"
   },
   {
    "duration": 11,
    "start_time": "2023-01-09T14:37:48.929Z"
   },
   {
    "duration": 16,
    "start_time": "2023-01-09T14:37:49.847Z"
   },
   {
    "duration": 11,
    "start_time": "2023-01-09T14:37:50.876Z"
   },
   {
    "duration": 29,
    "start_time": "2023-01-09T14:37:52.516Z"
   },
   {
    "duration": 2895,
    "start_time": "2023-01-09T14:38:00.076Z"
   },
   {
    "duration": 51,
    "start_time": "2023-01-10T12:46:21.510Z"
   },
   {
    "duration": 1449,
    "start_time": "2023-01-10T12:46:28.893Z"
   },
   {
    "duration": 616,
    "start_time": "2023-01-10T12:46:30.344Z"
   },
   {
    "duration": 13,
    "start_time": "2023-01-10T12:46:30.962Z"
   },
   {
    "duration": 33,
    "start_time": "2023-01-10T12:46:30.978Z"
   },
   {
    "duration": 32,
    "start_time": "2023-01-10T12:46:31.012Z"
   },
   {
    "duration": 25,
    "start_time": "2023-01-10T12:46:31.046Z"
   },
   {
    "duration": 54,
    "start_time": "2023-01-10T12:46:31.072Z"
   },
   {
    "duration": 40,
    "start_time": "2023-01-10T12:46:31.128Z"
   },
   {
    "duration": 46,
    "start_time": "2023-01-10T12:46:31.170Z"
   },
   {
    "duration": 19,
    "start_time": "2023-01-10T12:46:31.218Z"
   },
   {
    "duration": 36,
    "start_time": "2023-01-10T12:46:31.239Z"
   },
   {
    "duration": 22,
    "start_time": "2023-01-10T12:46:31.276Z"
   },
   {
    "duration": 320,
    "start_time": "2023-01-10T12:46:31.301Z"
   },
   {
    "duration": 109,
    "start_time": "2023-01-10T12:46:31.624Z"
   },
   {
    "duration": 17,
    "start_time": "2023-01-10T12:46:31.734Z"
   },
   {
    "duration": 17,
    "start_time": "2023-01-10T12:46:31.753Z"
   },
   {
    "duration": 9,
    "start_time": "2023-01-10T12:46:31.772Z"
   },
   {
    "duration": 12,
    "start_time": "2023-01-10T12:46:31.783Z"
   },
   {
    "duration": 79,
    "start_time": "2023-01-10T12:46:31.797Z"
   },
   {
    "duration": 0,
    "start_time": "2023-01-10T12:46:31.878Z"
   },
   {
    "duration": 0,
    "start_time": "2023-01-10T12:46:31.879Z"
   },
   {
    "duration": 0,
    "start_time": "2023-01-10T12:46:31.880Z"
   },
   {
    "duration": 0,
    "start_time": "2023-01-10T12:46:31.881Z"
   },
   {
    "duration": 12,
    "start_time": "2023-01-10T12:47:32.532Z"
   },
   {
    "duration": 9,
    "start_time": "2023-01-10T12:47:34.189Z"
   },
   {
    "duration": 12,
    "start_time": "2023-01-10T12:47:35.261Z"
   },
   {
    "duration": 2818,
    "start_time": "2023-01-10T12:48:09.971Z"
   },
   {
    "duration": 3,
    "start_time": "2023-01-10T12:48:37.185Z"
   },
   {
    "duration": 373,
    "start_time": "2023-01-10T12:48:37.190Z"
   },
   {
    "duration": 10,
    "start_time": "2023-01-10T12:48:37.564Z"
   },
   {
    "duration": 10,
    "start_time": "2023-01-10T12:48:37.576Z"
   },
   {
    "duration": 18,
    "start_time": "2023-01-10T12:48:37.589Z"
   },
   {
    "duration": 16,
    "start_time": "2023-01-10T12:48:37.609Z"
   },
   {
    "duration": 25,
    "start_time": "2023-01-10T12:48:37.626Z"
   },
   {
    "duration": 24,
    "start_time": "2023-01-10T12:48:37.653Z"
   },
   {
    "duration": 24,
    "start_time": "2023-01-10T12:48:37.678Z"
   },
   {
    "duration": 3,
    "start_time": "2023-01-10T12:48:37.722Z"
   },
   {
    "duration": 6,
    "start_time": "2023-01-10T12:48:37.727Z"
   },
   {
    "duration": 7,
    "start_time": "2023-01-10T12:48:37.735Z"
   },
   {
    "duration": 279,
    "start_time": "2023-01-10T12:48:37.743Z"
   },
   {
    "duration": 4,
    "start_time": "2023-01-10T12:48:38.026Z"
   },
   {
    "duration": 98,
    "start_time": "2023-01-10T12:48:38.031Z"
   },
   {
    "duration": 9,
    "start_time": "2023-01-10T12:48:38.131Z"
   },
   {
    "duration": 9,
    "start_time": "2023-01-10T12:48:38.141Z"
   },
   {
    "duration": 11,
    "start_time": "2023-01-10T12:48:38.151Z"
   },
   {
    "duration": 13,
    "start_time": "2023-01-10T12:48:38.163Z"
   },
   {
    "duration": 8,
    "start_time": "2023-01-10T12:48:38.177Z"
   },
   {
    "duration": 11,
    "start_time": "2023-01-10T12:48:38.187Z"
   },
   {
    "duration": 37,
    "start_time": "2023-01-10T12:48:38.200Z"
   },
   {
    "duration": 2669,
    "start_time": "2023-01-10T12:48:38.238Z"
   },
   {
    "duration": 4,
    "start_time": "2023-01-10T12:49:04.947Z"
   },
   {
    "duration": 387,
    "start_time": "2023-01-10T12:49:04.953Z"
   },
   {
    "duration": 8,
    "start_time": "2023-01-10T12:49:05.343Z"
   },
   {
    "duration": 20,
    "start_time": "2023-01-10T12:49:05.353Z"
   },
   {
    "duration": 23,
    "start_time": "2023-01-10T12:49:05.375Z"
   },
   {
    "duration": 13,
    "start_time": "2023-01-10T12:49:05.399Z"
   },
   {
    "duration": 35,
    "start_time": "2023-01-10T12:49:05.413Z"
   },
   {
    "duration": 23,
    "start_time": "2023-01-10T12:49:05.449Z"
   },
   {
    "duration": 24,
    "start_time": "2023-01-10T12:49:05.473Z"
   },
   {
    "duration": 3,
    "start_time": "2023-01-10T12:49:05.499Z"
   },
   {
    "duration": 22,
    "start_time": "2023-01-10T12:49:05.505Z"
   },
   {
    "duration": 21,
    "start_time": "2023-01-10T12:49:05.528Z"
   },
   {
    "duration": 377,
    "start_time": "2023-01-10T12:49:05.551Z"
   },
   {
    "duration": 92,
    "start_time": "2023-01-10T12:49:05.929Z"
   },
   {
    "duration": 18,
    "start_time": "2023-01-10T12:49:06.024Z"
   },
   {
    "duration": 21,
    "start_time": "2023-01-10T12:49:06.044Z"
   },
   {
    "duration": 14,
    "start_time": "2023-01-10T12:49:06.067Z"
   },
   {
    "duration": 11,
    "start_time": "2023-01-10T12:49:06.083Z"
   },
   {
    "duration": 19,
    "start_time": "2023-01-10T12:49:06.096Z"
   },
   {
    "duration": 12,
    "start_time": "2023-01-10T12:49:06.117Z"
   },
   {
    "duration": 13,
    "start_time": "2023-01-10T12:49:06.130Z"
   },
   {
    "duration": 25,
    "start_time": "2023-01-10T12:49:06.144Z"
   },
   {
    "duration": 4006,
    "start_time": "2023-01-10T12:49:06.171Z"
   },
   {
    "duration": 1811,
    "start_time": "2023-01-11T10:17:39.660Z"
   },
   {
    "duration": 698,
    "start_time": "2023-01-11T10:17:41.473Z"
   },
   {
    "duration": 17,
    "start_time": "2023-01-11T10:17:42.172Z"
   },
   {
    "duration": 16,
    "start_time": "2023-01-11T10:17:42.193Z"
   },
   {
    "duration": 12,
    "start_time": "2023-01-11T10:17:42.211Z"
   },
   {
    "duration": 10,
    "start_time": "2023-01-11T10:17:42.225Z"
   },
   {
    "duration": 28,
    "start_time": "2023-01-11T10:17:42.236Z"
   },
   {
    "duration": 52,
    "start_time": "2023-01-11T10:17:42.266Z"
   },
   {
    "duration": 28,
    "start_time": "2023-01-11T10:17:42.320Z"
   },
   {
    "duration": 4,
    "start_time": "2023-01-11T10:17:42.351Z"
   },
   {
    "duration": 11,
    "start_time": "2023-01-11T10:17:42.358Z"
   },
   {
    "duration": 25,
    "start_time": "2023-01-11T10:17:42.371Z"
   },
   {
    "duration": 315,
    "start_time": "2023-01-11T10:17:42.399Z"
   },
   {
    "duration": 82,
    "start_time": "2023-01-11T10:17:42.716Z"
   },
   {
    "duration": 98,
    "start_time": "2023-01-11T10:17:42.801Z"
   },
   {
    "duration": 19,
    "start_time": "2023-01-11T10:17:42.901Z"
   },
   {
    "duration": 5,
    "start_time": "2023-01-11T10:17:42.922Z"
   },
   {
    "duration": 9,
    "start_time": "2023-01-11T10:17:42.929Z"
   },
   {
    "duration": 16,
    "start_time": "2023-01-11T10:17:42.940Z"
   },
   {
    "duration": 13,
    "start_time": "2023-01-11T10:17:42.958Z"
   },
   {
    "duration": 14,
    "start_time": "2023-01-11T10:17:42.997Z"
   },
   {
    "duration": 29,
    "start_time": "2023-01-11T10:17:43.013Z"
   },
   {
    "duration": 4731,
    "start_time": "2023-01-11T10:17:43.044Z"
   },
   {
    "duration": 4,
    "start_time": "2023-01-11T10:25:27.422Z"
   },
   {
    "duration": 392,
    "start_time": "2023-01-11T10:25:27.432Z"
   },
   {
    "duration": 10,
    "start_time": "2023-01-11T10:25:27.826Z"
   },
   {
    "duration": 13,
    "start_time": "2023-01-11T10:25:27.837Z"
   },
   {
    "duration": 11,
    "start_time": "2023-01-11T10:25:27.851Z"
   },
   {
    "duration": 5,
    "start_time": "2023-01-11T10:25:27.864Z"
   },
   {
    "duration": 46,
    "start_time": "2023-01-11T10:25:27.870Z"
   },
   {
    "duration": 27,
    "start_time": "2023-01-11T10:25:27.918Z"
   },
   {
    "duration": 50,
    "start_time": "2023-01-11T10:25:27.947Z"
   },
   {
    "duration": 5,
    "start_time": "2023-01-11T10:25:27.999Z"
   },
   {
    "duration": 12,
    "start_time": "2023-01-11T10:25:28.005Z"
   },
   {
    "duration": 8,
    "start_time": "2023-01-11T10:25:28.019Z"
   },
   {
    "duration": 270,
    "start_time": "2023-01-11T10:25:28.028Z"
   },
   {
    "duration": 3,
    "start_time": "2023-01-11T10:25:28.300Z"
   },
   {
    "duration": 97,
    "start_time": "2023-01-11T10:25:28.306Z"
   },
   {
    "duration": 18,
    "start_time": "2023-01-11T10:25:28.405Z"
   },
   {
    "duration": 7,
    "start_time": "2023-01-11T10:25:28.425Z"
   },
   {
    "duration": 13,
    "start_time": "2023-01-11T10:25:28.434Z"
   },
   {
    "duration": 18,
    "start_time": "2023-01-11T10:25:28.449Z"
   },
   {
    "duration": 10,
    "start_time": "2023-01-11T10:25:28.469Z"
   },
   {
    "duration": 19,
    "start_time": "2023-01-11T10:25:28.481Z"
   },
   {
    "duration": 24,
    "start_time": "2023-01-11T10:25:28.502Z"
   },
   {
    "duration": 4683,
    "start_time": "2023-01-11T10:25:28.528Z"
   },
   {
    "duration": 5,
    "start_time": "2023-01-11T10:26:04.610Z"
   },
   {
    "duration": 14,
    "start_time": "2023-01-11T10:26:46.964Z"
   },
   {
    "duration": 13,
    "start_time": "2023-01-11T10:26:48.670Z"
   },
   {
    "duration": 12,
    "start_time": "2023-01-11T10:26:49.722Z"
   },
   {
    "duration": 124,
    "start_time": "2023-01-11T10:33:46.849Z"
   },
   {
    "duration": 27,
    "start_time": "2023-01-11T10:34:42.969Z"
   },
   {
    "duration": 13,
    "start_time": "2023-01-11T10:42:42.790Z"
   },
   {
    "duration": 13,
    "start_time": "2023-01-11T10:42:43.844Z"
   },
   {
    "duration": 12,
    "start_time": "2023-01-11T10:42:44.859Z"
   },
   {
    "duration": 4,
    "start_time": "2023-01-11T10:43:33.605Z"
   },
   {
    "duration": 14,
    "start_time": "2023-01-11T10:43:35.767Z"
   },
   {
    "duration": 30,
    "start_time": "2023-01-11T10:43:44.739Z"
   },
   {
    "duration": 14,
    "start_time": "2023-01-11T10:43:58.171Z"
   },
   {
    "duration": 4,
    "start_time": "2023-01-11T10:45:54.784Z"
   },
   {
    "duration": 82,
    "start_time": "2023-01-11T10:45:56.155Z"
   },
   {
    "duration": 10,
    "start_time": "2023-01-11T10:46:18.298Z"
   },
   {
    "duration": 11,
    "start_time": "2023-01-11T10:46:19.783Z"
   },
   {
    "duration": 11,
    "start_time": "2023-01-11T10:46:21.038Z"
   },
   {
    "duration": 18,
    "start_time": "2023-01-11T10:46:31.791Z"
   },
   {
    "duration": 5,
    "start_time": "2023-01-11T10:47:03.597Z"
   },
   {
    "duration": 11,
    "start_time": "2023-01-11T10:47:04.315Z"
   },
   {
    "duration": 12,
    "start_time": "2023-01-11T10:47:04.713Z"
   },
   {
    "duration": 17,
    "start_time": "2023-01-11T10:47:05.108Z"
   },
   {
    "duration": 26,
    "start_time": "2023-01-11T10:47:07.113Z"
   },
   {
    "duration": 3,
    "start_time": "2023-01-11T11:53:05.641Z"
   },
   {
    "duration": 11,
    "start_time": "2023-01-11T12:00:35.161Z"
   },
   {
    "duration": 5,
    "start_time": "2023-01-11T12:02:42.823Z"
   },
   {
    "duration": 2,
    "start_time": "2023-01-11T12:02:44.441Z"
   },
   {
    "duration": 12,
    "start_time": "2023-01-11T12:02:46.392Z"
   },
   {
    "duration": 13,
    "start_time": "2023-01-11T12:02:48.163Z"
   },
   {
    "duration": 11,
    "start_time": "2023-01-11T12:02:49.954Z"
   },
   {
    "duration": 24,
    "start_time": "2023-01-11T12:02:59.424Z"
   },
   {
    "duration": 4,
    "start_time": "2023-01-11T13:50:43.636Z"
   },
   {
    "duration": 420,
    "start_time": "2023-01-11T13:50:43.642Z"
   },
   {
    "duration": 11,
    "start_time": "2023-01-11T13:50:44.064Z"
   },
   {
    "duration": 44,
    "start_time": "2023-01-11T13:50:44.077Z"
   },
   {
    "duration": 32,
    "start_time": "2023-01-11T13:50:44.125Z"
   },
   {
    "duration": 11,
    "start_time": "2023-01-11T13:50:44.159Z"
   },
   {
    "duration": 42,
    "start_time": "2023-01-11T13:50:44.172Z"
   },
   {
    "duration": 32,
    "start_time": "2023-01-11T13:50:44.217Z"
   },
   {
    "duration": 32,
    "start_time": "2023-01-11T13:50:44.251Z"
   },
   {
    "duration": 4,
    "start_time": "2023-01-11T13:50:44.285Z"
   },
   {
    "duration": 15,
    "start_time": "2023-01-11T13:50:44.291Z"
   },
   {
    "duration": 25,
    "start_time": "2023-01-11T13:50:44.308Z"
   },
   {
    "duration": 177,
    "start_time": "2023-01-11T13:50:47.961Z"
   },
   {
    "duration": 4,
    "start_time": "2023-01-11T13:50:48.141Z"
   },
   {
    "duration": 90,
    "start_time": "2023-01-11T13:50:48.147Z"
   },
   {
    "duration": 19,
    "start_time": "2023-01-11T13:50:48.239Z"
   },
   {
    "duration": 12,
    "start_time": "2023-01-11T13:50:48.261Z"
   },
   {
    "duration": 27,
    "start_time": "2023-01-11T13:50:48.275Z"
   },
   {
    "duration": 19,
    "start_time": "2023-01-11T13:50:48.305Z"
   },
   {
    "duration": 37,
    "start_time": "2023-01-11T13:50:48.326Z"
   },
   {
    "duration": 28,
    "start_time": "2023-01-11T13:50:48.365Z"
   },
   {
    "duration": 31,
    "start_time": "2023-01-11T13:50:48.395Z"
   },
   {
    "duration": 33,
    "start_time": "2023-01-11T13:50:48.428Z"
   },
   {
    "duration": 0,
    "start_time": "2023-01-11T13:50:48.464Z"
   },
   {
    "duration": 4,
    "start_time": "2023-01-11T13:53:30.170Z"
   },
   {
    "duration": 470,
    "start_time": "2023-01-11T13:53:30.177Z"
   },
   {
    "duration": 11,
    "start_time": "2023-01-11T13:53:30.649Z"
   },
   {
    "duration": 39,
    "start_time": "2023-01-11T13:53:30.662Z"
   },
   {
    "duration": 40,
    "start_time": "2023-01-11T13:53:30.704Z"
   },
   {
    "duration": 18,
    "start_time": "2023-01-11T13:53:30.746Z"
   },
   {
    "duration": 57,
    "start_time": "2023-01-11T13:53:30.766Z"
   },
   {
    "duration": 56,
    "start_time": "2023-01-11T13:53:30.825Z"
   },
   {
    "duration": 37,
    "start_time": "2023-01-11T13:53:30.884Z"
   },
   {
    "duration": 5,
    "start_time": "2023-01-11T13:53:30.923Z"
   },
   {
    "duration": 31,
    "start_time": "2023-01-11T13:53:30.930Z"
   },
   {
    "duration": 48,
    "start_time": "2023-01-11T13:53:30.963Z"
   },
   {
    "duration": 227,
    "start_time": "2023-01-11T13:53:31.013Z"
   },
   {
    "duration": 93,
    "start_time": "2023-01-11T13:53:31.244Z"
   },
   {
    "duration": 32,
    "start_time": "2023-01-11T13:53:31.339Z"
   },
   {
    "duration": 56,
    "start_time": "2023-01-11T13:53:31.373Z"
   },
   {
    "duration": 19,
    "start_time": "2023-01-11T13:53:31.431Z"
   },
   {
    "duration": 21,
    "start_time": "2023-01-11T13:53:31.452Z"
   },
   {
    "duration": 21,
    "start_time": "2023-01-11T13:53:31.475Z"
   },
   {
    "duration": 26,
    "start_time": "2023-01-11T13:53:31.498Z"
   },
   {
    "duration": 14,
    "start_time": "2023-01-11T13:53:31.526Z"
   },
   {
    "duration": 28,
    "start_time": "2023-01-11T13:53:31.542Z"
   },
   {
    "duration": 27,
    "start_time": "2023-01-11T13:53:31.572Z"
   },
   {
    "duration": 0,
    "start_time": "2023-01-11T13:53:31.601Z"
   },
   {
    "duration": 4,
    "start_time": "2023-01-11T13:53:50.305Z"
   },
   {
    "duration": 445,
    "start_time": "2023-01-11T13:53:50.321Z"
   },
   {
    "duration": 10,
    "start_time": "2023-01-11T13:53:50.769Z"
   },
   {
    "duration": 16,
    "start_time": "2023-01-11T13:53:50.781Z"
   },
   {
    "duration": 35,
    "start_time": "2023-01-11T13:53:50.800Z"
   },
   {
    "duration": 5,
    "start_time": "2023-01-11T13:53:50.838Z"
   },
   {
    "duration": 35,
    "start_time": "2023-01-11T13:53:50.845Z"
   },
   {
    "duration": 32,
    "start_time": "2023-01-11T13:53:50.882Z"
   },
   {
    "duration": 32,
    "start_time": "2023-01-11T13:53:50.937Z"
   },
   {
    "duration": 5,
    "start_time": "2023-01-11T13:53:50.971Z"
   },
   {
    "duration": 20,
    "start_time": "2023-01-11T13:53:50.978Z"
   },
   {
    "duration": 31,
    "start_time": "2023-01-11T13:53:51.001Z"
   },
   {
    "duration": 208,
    "start_time": "2023-01-11T13:53:51.034Z"
   },
   {
    "duration": 99,
    "start_time": "2023-01-11T13:53:51.247Z"
   },
   {
    "duration": 23,
    "start_time": "2023-01-11T13:53:51.353Z"
   },
   {
    "duration": 24,
    "start_time": "2023-01-11T13:53:51.379Z"
   },
   {
    "duration": 26,
    "start_time": "2023-01-11T13:53:51.405Z"
   },
   {
    "duration": 21,
    "start_time": "2023-01-11T13:53:51.433Z"
   },
   {
    "duration": 22,
    "start_time": "2023-01-11T13:53:51.457Z"
   },
   {
    "duration": 16,
    "start_time": "2023-01-11T13:53:51.481Z"
   },
   {
    "duration": 17,
    "start_time": "2023-01-11T13:53:51.499Z"
   },
   {
    "duration": 33,
    "start_time": "2023-01-11T13:53:51.518Z"
   },
   {
    "duration": 31,
    "start_time": "2023-01-11T13:53:51.553Z"
   },
   {
    "duration": 0,
    "start_time": "2023-01-11T13:53:51.586Z"
   },
   {
    "duration": 8,
    "start_time": "2023-01-11T13:54:31.355Z"
   },
   {
    "duration": 461,
    "start_time": "2023-01-11T13:54:31.367Z"
   },
   {
    "duration": 14,
    "start_time": "2023-01-11T13:54:31.830Z"
   },
   {
    "duration": 25,
    "start_time": "2023-01-11T13:54:31.845Z"
   },
   {
    "duration": 46,
    "start_time": "2023-01-11T13:54:31.873Z"
   },
   {
    "duration": 24,
    "start_time": "2023-01-11T13:54:31.921Z"
   },
   {
    "duration": 36,
    "start_time": "2023-01-11T13:54:31.947Z"
   },
   {
    "duration": 36,
    "start_time": "2023-01-11T13:54:31.985Z"
   },
   {
    "duration": 29,
    "start_time": "2023-01-11T13:54:32.023Z"
   },
   {
    "duration": 4,
    "start_time": "2023-01-11T13:54:32.053Z"
   },
   {
    "duration": 13,
    "start_time": "2023-01-11T13:54:32.059Z"
   },
   {
    "duration": 11,
    "start_time": "2023-01-11T13:54:32.073Z"
   },
   {
    "duration": 367,
    "start_time": "2023-01-11T13:54:32.086Z"
   },
   {
    "duration": 5,
    "start_time": "2023-01-11T13:54:32.538Z"
   },
   {
    "duration": 88,
    "start_time": "2023-01-11T13:54:32.547Z"
   },
   {
    "duration": 37,
    "start_time": "2023-01-11T13:54:32.638Z"
   },
   {
    "duration": 22,
    "start_time": "2023-01-11T13:54:32.677Z"
   },
   {
    "duration": 37,
    "start_time": "2023-01-11T13:54:32.702Z"
   },
   {
    "duration": 46,
    "start_time": "2023-01-11T13:54:32.741Z"
   },
   {
    "duration": 14,
    "start_time": "2023-01-11T13:54:32.790Z"
   },
   {
    "duration": 20,
    "start_time": "2023-01-11T13:54:32.806Z"
   },
   {
    "duration": 33,
    "start_time": "2023-01-11T13:54:32.828Z"
   },
   {
    "duration": 0,
    "start_time": "2023-01-11T13:54:32.863Z"
   },
   {
    "duration": 3,
    "start_time": "2023-01-11T13:54:55.863Z"
   },
   {
    "duration": 404,
    "start_time": "2023-01-11T13:54:55.869Z"
   },
   {
    "duration": 9,
    "start_time": "2023-01-11T13:54:56.275Z"
   },
   {
    "duration": 25,
    "start_time": "2023-01-11T13:54:56.286Z"
   },
   {
    "duration": 27,
    "start_time": "2023-01-11T13:54:56.314Z"
   },
   {
    "duration": 11,
    "start_time": "2023-01-11T13:54:56.343Z"
   },
   {
    "duration": 34,
    "start_time": "2023-01-11T13:54:56.356Z"
   },
   {
    "duration": 25,
    "start_time": "2023-01-11T13:54:56.392Z"
   },
   {
    "duration": 43,
    "start_time": "2023-01-11T13:54:56.420Z"
   },
   {
    "duration": 5,
    "start_time": "2023-01-11T13:54:56.465Z"
   },
   {
    "duration": 32,
    "start_time": "2023-01-11T13:54:56.472Z"
   },
   {
    "duration": 25,
    "start_time": "2023-01-11T13:54:56.506Z"
   },
   {
    "duration": 210,
    "start_time": "2023-01-11T13:54:56.533Z"
   },
   {
    "duration": 100,
    "start_time": "2023-01-11T13:54:56.751Z"
   },
   {
    "duration": 93,
    "start_time": "2023-01-11T13:54:56.856Z"
   },
   {
    "duration": 22,
    "start_time": "2023-01-11T13:54:56.952Z"
   },
   {
    "duration": 19,
    "start_time": "2023-01-11T13:54:56.976Z"
   },
   {
    "duration": 21,
    "start_time": "2023-01-11T13:54:56.998Z"
   },
   {
    "duration": 27,
    "start_time": "2023-01-11T13:54:57.021Z"
   },
   {
    "duration": 23,
    "start_time": "2023-01-11T13:54:57.051Z"
   },
   {
    "duration": 18,
    "start_time": "2023-01-11T13:54:57.076Z"
   },
   {
    "duration": 43,
    "start_time": "2023-01-11T13:54:57.096Z"
   },
   {
    "duration": 0,
    "start_time": "2023-01-11T13:54:57.141Z"
   },
   {
    "duration": 4,
    "start_time": "2023-01-11T13:58:17.989Z"
   },
   {
    "duration": 434,
    "start_time": "2023-01-11T13:58:17.995Z"
   },
   {
    "duration": 19,
    "start_time": "2023-01-11T13:58:18.431Z"
   },
   {
    "duration": 18,
    "start_time": "2023-01-11T13:58:18.452Z"
   },
   {
    "duration": 18,
    "start_time": "2023-01-11T13:58:18.472Z"
   },
   {
    "duration": 9,
    "start_time": "2023-01-11T13:58:18.491Z"
   },
   {
    "duration": 28,
    "start_time": "2023-01-11T13:58:18.502Z"
   },
   {
    "duration": 33,
    "start_time": "2023-01-11T13:58:18.531Z"
   },
   {
    "duration": 30,
    "start_time": "2023-01-11T13:58:18.566Z"
   },
   {
    "duration": 3,
    "start_time": "2023-01-11T13:58:18.598Z"
   },
   {
    "duration": 6,
    "start_time": "2023-01-11T13:58:18.603Z"
   },
   {
    "duration": 14,
    "start_time": "2023-01-11T13:58:18.610Z"
   },
   {
    "duration": 328,
    "start_time": "2023-01-11T13:58:18.626Z"
   },
   {
    "duration": 79,
    "start_time": "2023-01-11T13:58:18.960Z"
   },
   {
    "duration": 33,
    "start_time": "2023-01-11T13:58:19.042Z"
   },
   {
    "duration": 17,
    "start_time": "2023-01-11T13:58:19.077Z"
   },
   {
    "duration": 19,
    "start_time": "2023-01-11T13:58:19.096Z"
   },
   {
    "duration": 33,
    "start_time": "2023-01-11T13:58:19.117Z"
   },
   {
    "duration": 27,
    "start_time": "2023-01-11T13:58:19.153Z"
   },
   {
    "duration": 12,
    "start_time": "2023-01-11T13:58:19.182Z"
   },
   {
    "duration": 13,
    "start_time": "2023-01-11T13:58:19.196Z"
   },
   {
    "duration": 43,
    "start_time": "2023-01-11T13:58:19.211Z"
   },
   {
    "duration": 0,
    "start_time": "2023-01-11T13:58:19.256Z"
   },
   {
    "duration": 1513,
    "start_time": "2023-01-11T20:12:36.275Z"
   },
   {
    "duration": 1646,
    "start_time": "2023-01-11T20:12:37.791Z"
   },
   {
    "duration": 16,
    "start_time": "2023-01-11T20:12:39.439Z"
   },
   {
    "duration": 10,
    "start_time": "2023-01-11T20:12:39.456Z"
   },
   {
    "duration": 11,
    "start_time": "2023-01-11T20:12:39.468Z"
   },
   {
    "duration": 14,
    "start_time": "2023-01-11T20:12:39.481Z"
   },
   {
    "duration": 26,
    "start_time": "2023-01-11T20:12:39.496Z"
   },
   {
    "duration": 21,
    "start_time": "2023-01-11T20:12:39.524Z"
   },
   {
    "duration": 31,
    "start_time": "2023-01-11T20:12:39.547Z"
   },
   {
    "duration": 4,
    "start_time": "2023-01-11T20:12:39.579Z"
   },
   {
    "duration": 10,
    "start_time": "2023-01-11T20:12:39.584Z"
   },
   {
    "duration": 8,
    "start_time": "2023-01-11T20:12:39.596Z"
   },
   {
    "duration": 274,
    "start_time": "2023-01-11T20:12:39.605Z"
   },
   {
    "duration": 10,
    "start_time": "2023-01-11T20:12:39.882Z"
   },
   {
    "duration": 3,
    "start_time": "2023-01-11T20:12:39.979Z"
   },
   {
    "duration": 11,
    "start_time": "2023-01-11T20:12:39.984Z"
   },
   {
    "duration": 13,
    "start_time": "2023-01-11T20:12:39.998Z"
   },
   {
    "duration": 12,
    "start_time": "2023-01-11T20:12:40.012Z"
   },
   {
    "duration": 18,
    "start_time": "2023-01-11T20:12:40.025Z"
   },
   {
    "duration": 28,
    "start_time": "2023-01-11T20:12:40.045Z"
   },
   {
    "duration": 11,
    "start_time": "2023-01-11T20:12:40.075Z"
   },
   {
    "duration": 132,
    "start_time": "2023-01-11T20:12:40.088Z"
   },
   {
    "duration": 0,
    "start_time": "2023-01-11T20:12:40.222Z"
   },
   {
    "duration": 4,
    "start_time": "2023-01-11T20:13:10.464Z"
   },
   {
    "duration": 13,
    "start_time": "2023-01-11T20:13:11.198Z"
   },
   {
    "duration": 11,
    "start_time": "2023-01-11T20:13:11.472Z"
   },
   {
    "duration": 9,
    "start_time": "2023-01-11T20:13:12.075Z"
   },
   {
    "duration": 21,
    "start_time": "2023-01-11T20:13:14.232Z"
   },
   {
    "duration": 4048,
    "start_time": "2023-01-11T20:13:17.275Z"
   },
   {
    "duration": 3,
    "start_time": "2023-01-11T20:15:11.575Z"
   },
   {
    "duration": 11,
    "start_time": "2023-01-11T20:15:12.735Z"
   },
   {
    "duration": 12,
    "start_time": "2023-01-11T20:15:13.278Z"
   },
   {
    "duration": 11,
    "start_time": "2023-01-11T20:15:14.329Z"
   },
   {
    "duration": 18,
    "start_time": "2023-01-11T20:15:17.452Z"
   },
   {
    "duration": 4091,
    "start_time": "2023-01-11T20:15:19.507Z"
   },
   {
    "duration": 3848,
    "start_time": "2023-01-11T20:41:14.487Z"
   },
   {
    "duration": 3,
    "start_time": "2023-01-11T20:41:38.379Z"
   },
   {
    "duration": 10,
    "start_time": "2023-01-11T20:41:39.472Z"
   },
   {
    "duration": 11,
    "start_time": "2023-01-11T20:41:40.000Z"
   },
   {
    "duration": 10,
    "start_time": "2023-01-11T20:41:41.464Z"
   },
   {
    "duration": 19,
    "start_time": "2023-01-11T20:41:44.557Z"
   },
   {
    "duration": 4300,
    "start_time": "2023-01-11T20:41:47.086Z"
   },
   {
    "duration": 3,
    "start_time": "2023-01-11T20:42:01.968Z"
   },
   {
    "duration": 10,
    "start_time": "2023-01-11T20:42:02.787Z"
   },
   {
    "duration": 13,
    "start_time": "2023-01-11T20:42:02.983Z"
   },
   {
    "duration": 10,
    "start_time": "2023-01-11T20:42:03.849Z"
   },
   {
    "duration": 18,
    "start_time": "2023-01-11T20:42:06.549Z"
   },
   {
    "duration": 3814,
    "start_time": "2023-01-11T20:42:08.369Z"
   },
   {
    "duration": 16,
    "start_time": "2023-01-11T20:46:12.704Z"
   },
   {
    "duration": 11,
    "start_time": "2023-01-11T20:46:25.574Z"
   },
   {
    "duration": 20,
    "start_time": "2023-01-11T20:46:36.131Z"
   },
   {
    "duration": 11,
    "start_time": "2023-01-11T20:46:45.130Z"
   },
   {
    "duration": 14,
    "start_time": "2023-01-11T20:47:03.963Z"
   },
   {
    "duration": 11,
    "start_time": "2023-01-11T20:47:04.220Z"
   },
   {
    "duration": 11,
    "start_time": "2023-01-11T20:47:04.722Z"
   },
   {
    "duration": 9,
    "start_time": "2023-01-11T20:49:05.107Z"
   },
   {
    "duration": 10,
    "start_time": "2023-01-11T20:49:05.848Z"
   },
   {
    "duration": 9,
    "start_time": "2023-01-11T20:49:06.495Z"
   },
   {
    "duration": 1434,
    "start_time": "2023-01-12T14:49:32.776Z"
   },
   {
    "duration": 413,
    "start_time": "2023-01-12T14:49:34.212Z"
   },
   {
    "duration": 17,
    "start_time": "2023-01-12T14:49:34.627Z"
   },
   {
    "duration": 12,
    "start_time": "2023-01-12T14:49:34.646Z"
   },
   {
    "duration": 18,
    "start_time": "2023-01-12T14:49:34.660Z"
   },
   {
    "duration": 14,
    "start_time": "2023-01-12T14:49:34.680Z"
   },
   {
    "duration": 53,
    "start_time": "2023-01-12T14:49:34.696Z"
   },
   {
    "duration": 24,
    "start_time": "2023-01-12T14:49:34.751Z"
   },
   {
    "duration": 25,
    "start_time": "2023-01-12T14:49:34.777Z"
   },
   {
    "duration": 4,
    "start_time": "2023-01-12T14:49:34.804Z"
   },
   {
    "duration": 37,
    "start_time": "2023-01-12T14:49:34.810Z"
   },
   {
    "duration": 12,
    "start_time": "2023-01-12T14:49:34.849Z"
   },
   {
    "duration": 291,
    "start_time": "2023-01-12T14:49:34.863Z"
   },
   {
    "duration": 4,
    "start_time": "2023-01-12T14:49:35.238Z"
   },
   {
    "duration": 110,
    "start_time": "2023-01-12T14:49:35.247Z"
   },
   {
    "duration": 47,
    "start_time": "2023-01-12T14:49:35.360Z"
   },
   {
    "duration": 17,
    "start_time": "2023-01-12T14:49:35.409Z"
   },
   {
    "duration": 14,
    "start_time": "2023-01-12T14:49:35.428Z"
   },
   {
    "duration": 34,
    "start_time": "2023-01-12T14:49:35.444Z"
   },
   {
    "duration": 21,
    "start_time": "2023-01-12T14:49:35.480Z"
   },
   {
    "duration": 28,
    "start_time": "2023-01-12T14:49:35.503Z"
   },
   {
    "duration": 50,
    "start_time": "2023-01-12T14:49:35.533Z"
   },
   {
    "duration": 6724,
    "start_time": "2023-01-12T14:49:35.585Z"
   },
   {
    "duration": 6,
    "start_time": "2023-01-12T14:55:23.002Z"
   },
   {
    "duration": 962,
    "start_time": "2023-01-12T14:55:30.174Z"
   },
   {
    "duration": 7,
    "start_time": "2023-01-12T14:55:36.241Z"
   },
   {
    "duration": 1396,
    "start_time": "2023-01-12T14:56:02.666Z"
   },
   {
    "duration": 408,
    "start_time": "2023-01-12T14:56:04.065Z"
   },
   {
    "duration": 18,
    "start_time": "2023-01-12T14:56:04.475Z"
   },
   {
    "duration": 12,
    "start_time": "2023-01-12T14:56:04.495Z"
   },
   {
    "duration": 27,
    "start_time": "2023-01-12T14:56:04.509Z"
   },
   {
    "duration": 2,
    "start_time": "2023-01-12T14:56:04.538Z"
   },
   {
    "duration": 35,
    "start_time": "2023-01-12T14:56:04.542Z"
   },
   {
    "duration": 24,
    "start_time": "2023-01-12T14:56:04.579Z"
   },
   {
    "duration": 48,
    "start_time": "2023-01-12T14:56:04.605Z"
   },
   {
    "duration": 3,
    "start_time": "2023-01-12T14:56:04.656Z"
   },
   {
    "duration": 25,
    "start_time": "2023-01-12T14:56:04.661Z"
   },
   {
    "duration": 12,
    "start_time": "2023-01-12T14:56:04.687Z"
   },
   {
    "duration": 337,
    "start_time": "2023-01-12T14:56:04.701Z"
   },
   {
    "duration": 5,
    "start_time": "2023-01-12T14:56:05.040Z"
   },
   {
    "duration": 9,
    "start_time": "2023-01-12T14:56:05.135Z"
   },
   {
    "duration": 28,
    "start_time": "2023-01-12T14:56:05.146Z"
   },
   {
    "duration": 29,
    "start_time": "2023-01-12T14:56:05.176Z"
   },
   {
    "duration": 27,
    "start_time": "2023-01-12T14:56:05.207Z"
   },
   {
    "duration": 21,
    "start_time": "2023-01-12T14:56:05.236Z"
   },
   {
    "duration": 36,
    "start_time": "2023-01-12T14:56:05.259Z"
   },
   {
    "duration": 12,
    "start_time": "2023-01-12T14:56:05.297Z"
   },
   {
    "duration": 43,
    "start_time": "2023-01-12T14:56:05.311Z"
   },
   {
    "duration": 18,
    "start_time": "2023-01-12T14:56:05.356Z"
   },
   {
    "duration": 6000,
    "start_time": "2023-01-12T14:56:05.377Z"
   },
   {
    "duration": 59,
    "start_time": "2023-01-12T15:11:48.178Z"
   },
   {
    "duration": 1432,
    "start_time": "2023-01-12T15:11:58.148Z"
   },
   {
    "duration": 934,
    "start_time": "2023-01-12T15:11:59.582Z"
   },
   {
    "duration": 15,
    "start_time": "2023-01-12T15:12:00.518Z"
   },
   {
    "duration": 33,
    "start_time": "2023-01-12T15:12:00.534Z"
   },
   {
    "duration": 42,
    "start_time": "2023-01-12T15:12:00.570Z"
   },
   {
    "duration": 32,
    "start_time": "2023-01-12T15:12:00.614Z"
   },
   {
    "duration": 39,
    "start_time": "2023-01-12T15:12:00.648Z"
   },
   {
    "duration": 53,
    "start_time": "2023-01-12T15:12:00.689Z"
   },
   {
    "duration": 31,
    "start_time": "2023-01-12T15:12:00.744Z"
   },
   {
    "duration": 7,
    "start_time": "2023-01-12T15:12:00.776Z"
   },
   {
    "duration": 47,
    "start_time": "2023-01-12T15:12:00.785Z"
   },
   {
    "duration": 37,
    "start_time": "2023-01-12T15:12:00.834Z"
   },
   {
    "duration": 239,
    "start_time": "2023-01-12T15:12:00.873Z"
   },
   {
    "duration": 132,
    "start_time": "2023-01-12T15:12:01.118Z"
   },
   {
    "duration": 48,
    "start_time": "2023-01-12T15:12:01.252Z"
   },
   {
    "duration": 50,
    "start_time": "2023-01-12T15:12:01.305Z"
   },
   {
    "duration": 26,
    "start_time": "2023-01-12T15:12:01.357Z"
   },
   {
    "duration": 42,
    "start_time": "2023-01-12T15:12:01.385Z"
   },
   {
    "duration": 30,
    "start_time": "2023-01-12T15:12:01.429Z"
   },
   {
    "duration": 39,
    "start_time": "2023-01-12T15:12:01.460Z"
   },
   {
    "duration": 33,
    "start_time": "2023-01-12T15:12:01.505Z"
   },
   {
    "duration": 36,
    "start_time": "2023-01-12T15:12:01.540Z"
   },
   {
    "duration": 36,
    "start_time": "2023-01-12T15:12:01.578Z"
   },
   {
    "duration": 127,
    "start_time": "2023-01-12T15:12:01.615Z"
   },
   {
    "duration": 4,
    "start_time": "2023-01-12T15:12:55.567Z"
   },
   {
    "duration": 15,
    "start_time": "2023-01-12T15:12:57.588Z"
   },
   {
    "duration": 11,
    "start_time": "2023-01-12T15:12:57.926Z"
   },
   {
    "duration": 8,
    "start_time": "2023-01-12T15:12:58.652Z"
   },
   {
    "duration": 23,
    "start_time": "2023-01-12T15:13:01.035Z"
   },
   {
    "duration": 6,
    "start_time": "2023-01-12T15:13:01.412Z"
   },
   {
    "duration": 3,
    "start_time": "2023-01-12T15:13:59.043Z"
   },
   {
    "duration": 12,
    "start_time": "2023-01-12T15:14:00.110Z"
   },
   {
    "duration": 11,
    "start_time": "2023-01-12T15:14:00.639Z"
   },
   {
    "duration": 10,
    "start_time": "2023-01-12T15:14:01.363Z"
   },
   {
    "duration": 23,
    "start_time": "2023-01-12T15:14:04.531Z"
   },
   {
    "duration": 5,
    "start_time": "2023-01-12T15:14:40.882Z"
   },
   {
    "duration": 10,
    "start_time": "2023-01-12T15:14:42.261Z"
   },
   {
    "duration": 14,
    "start_time": "2023-01-12T15:14:42.500Z"
   },
   {
    "duration": 10,
    "start_time": "2023-01-12T15:14:43.482Z"
   },
   {
    "duration": 20,
    "start_time": "2023-01-12T15:14:46.657Z"
   },
   {
    "duration": 5,
    "start_time": "2023-01-12T15:14:48.547Z"
   },
   {
    "duration": 3983,
    "start_time": "2023-01-12T15:14:55.234Z"
   },
   {
    "duration": 17,
    "start_time": "2023-01-12T15:15:52.385Z"
   },
   {
    "duration": 11,
    "start_time": "2023-01-12T15:15:53.180Z"
   },
   {
    "duration": 9,
    "start_time": "2023-01-12T15:15:55.018Z"
   },
   {
    "duration": 9,
    "start_time": "2023-01-12T15:16:07.797Z"
   },
   {
    "duration": 11,
    "start_time": "2023-01-12T15:16:08.740Z"
   },
   {
    "duration": 12,
    "start_time": "2023-01-12T15:16:09.111Z"
   },
   {
    "duration": 17,
    "start_time": "2023-01-12T15:16:10.327Z"
   },
   {
    "duration": 23,
    "start_time": "2023-01-12T15:16:13.123Z"
   },
   {
    "duration": 17,
    "start_time": "2023-01-12T15:16:31.485Z"
   },
   {
    "duration": 12,
    "start_time": "2023-01-12T15:16:32.150Z"
   },
   {
    "duration": 12,
    "start_time": "2023-01-12T15:16:33.018Z"
   },
   {
    "duration": 15,
    "start_time": "2023-01-12T15:16:41.655Z"
   },
   {
    "duration": 14,
    "start_time": "2023-01-12T15:16:41.850Z"
   },
   {
    "duration": 11,
    "start_time": "2023-01-12T15:16:42.492Z"
   },
   {
    "duration": 4,
    "start_time": "2023-01-12T15:17:38.487Z"
   },
   {
    "duration": 12,
    "start_time": "2023-01-12T15:17:39.009Z"
   },
   {
    "duration": 11,
    "start_time": "2023-01-12T15:17:42.451Z"
   },
   {
    "duration": 11,
    "start_time": "2023-01-12T15:17:42.464Z"
   },
   {
    "duration": 36,
    "start_time": "2023-01-12T15:17:43.093Z"
   },
   {
    "duration": 4,
    "start_time": "2023-01-12T15:18:16.659Z"
   },
   {
    "duration": 11,
    "start_time": "2023-01-12T15:18:17.243Z"
   },
   {
    "duration": 10,
    "start_time": "2023-01-12T15:18:17.419Z"
   },
   {
    "duration": 10,
    "start_time": "2023-01-12T15:18:17.887Z"
   },
   {
    "duration": 22,
    "start_time": "2023-01-12T15:18:20.398Z"
   },
   {
    "duration": 7,
    "start_time": "2023-01-12T15:18:25.916Z"
   },
   {
    "duration": 5521,
    "start_time": "2023-01-12T15:18:28.199Z"
   },
   {
    "duration": 5,
    "start_time": "2023-01-12T15:20:37.670Z"
   },
   {
    "duration": 18,
    "start_time": "2023-01-12T15:20:38.796Z"
   },
   {
    "duration": 11,
    "start_time": "2023-01-12T15:20:39.169Z"
   },
   {
    "duration": 10,
    "start_time": "2023-01-12T15:20:41.166Z"
   },
   {
    "duration": 25,
    "start_time": "2023-01-12T15:20:43.927Z"
   },
   {
    "duration": 7,
    "start_time": "2023-01-12T15:20:45.061Z"
   },
   {
    "duration": 5718,
    "start_time": "2023-01-12T15:20:47.813Z"
   },
   {
    "duration": 4,
    "start_time": "2023-01-12T15:23:46.651Z"
   },
   {
    "duration": 13,
    "start_time": "2023-01-12T15:23:46.659Z"
   },
   {
    "duration": 12,
    "start_time": "2023-01-12T15:23:46.674Z"
   },
   {
    "duration": 14,
    "start_time": "2023-01-12T15:23:46.687Z"
   },
   {
    "duration": 31,
    "start_time": "2023-01-12T15:23:46.703Z"
   },
   {
    "duration": 5,
    "start_time": "2023-01-12T15:23:46.736Z"
   },
   {
    "duration": 4030,
    "start_time": "2023-01-12T15:23:46.743Z"
   },
   {
    "duration": 1374,
    "start_time": "2023-05-20T23:09:17.916Z"
   },
   {
    "duration": 1703,
    "start_time": "2023-05-20T23:09:19.293Z"
   },
   {
    "duration": 15,
    "start_time": "2023-05-20T23:09:20.998Z"
   },
   {
    "duration": 16,
    "start_time": "2023-05-20T23:09:21.015Z"
   },
   {
    "duration": 25,
    "start_time": "2023-05-20T23:09:21.033Z"
   },
   {
    "duration": 14,
    "start_time": "2023-05-20T23:09:21.059Z"
   },
   {
    "duration": 31,
    "start_time": "2023-05-20T23:09:21.074Z"
   },
   {
    "duration": 23,
    "start_time": "2023-05-20T23:09:21.107Z"
   },
   {
    "duration": 23,
    "start_time": "2023-05-20T23:09:21.132Z"
   },
   {
    "duration": 4,
    "start_time": "2023-05-20T23:09:21.156Z"
   },
   {
    "duration": 28,
    "start_time": "2023-05-20T23:09:21.161Z"
   },
   {
    "duration": 3,
    "start_time": "2023-05-20T23:09:21.191Z"
   },
   {
    "duration": 142,
    "start_time": "2023-05-20T23:09:21.195Z"
   },
   {
    "duration": 88,
    "start_time": "2023-05-20T23:09:21.340Z"
   },
   {
    "duration": 7,
    "start_time": "2023-05-20T23:09:21.430Z"
   },
   {
    "duration": 89,
    "start_time": "2023-05-20T23:09:21.440Z"
   },
   {
    "duration": 5,
    "start_time": "2023-05-20T23:09:21.531Z"
   },
   {
    "duration": 8,
    "start_time": "2023-05-20T23:09:21.538Z"
   },
   {
    "duration": 4,
    "start_time": "2023-05-20T23:09:21.548Z"
   },
   {
    "duration": 9,
    "start_time": "2023-05-20T23:09:21.554Z"
   },
   {
    "duration": 27,
    "start_time": "2023-05-20T23:09:21.565Z"
   },
   {
    "duration": 6,
    "start_time": "2023-05-20T23:09:21.594Z"
   },
   {
    "duration": 3700,
    "start_time": "2023-05-20T23:09:21.624Z"
   }
  ],
  "kernelspec": {
   "display_name": "Python 3 (ipykernel)",
   "language": "python",
   "name": "python3"
  },
  "language_info": {
   "codemirror_mode": {
    "name": "ipython",
    "version": 3
   },
   "file_extension": ".py",
   "mimetype": "text/x-python",
   "name": "python",
   "nbconvert_exporter": "python",
   "pygments_lexer": "ipython3",
   "version": "3.9.13"
  },
  "toc": {
   "base_numbering": 1,
   "nav_menu": {},
   "number_sections": true,
   "sideBar": true,
   "skip_h1_title": true,
   "title_cell": "Table of Contents",
   "title_sidebar": "Contents",
   "toc_cell": false,
   "toc_position": {},
   "toc_section_display": true,
   "toc_window_display": true
  }
 },
 "nbformat": 4,
 "nbformat_minor": 2
}
